{
 "cells": [
  {
   "cell_type": "code",
   "execution_count": 3,
   "metadata": {},
   "outputs": [],
   "source": [
    "import requests\n",
    "import numpy as np\n",
    "from config import *\n",
    "import pandas as pd\n",
    "import datetime as dt\n",
    "import matplotlib.pyplot as plt\n",
    "from matplotlib import font_manager, rc"
   ]
  },
  {
   "cell_type": "markdown",
   "metadata": {},
   "source": [
    "#### 1. 5월 각 날짜 별로 경제 분야 전체 뉴스 기사 갯수 카운트하고 출력"
   ]
  },
  {
   "cell_type": "code",
   "execution_count": 4,
   "metadata": {},
   "outputs": [],
   "source": [
    "def daily_news():\n",
    "    url = f\"{ELASTIC_SEARCH_URL}/news/_search\"\n",
    "\n",
    "    query_day = \"\"\"\n",
    "    {\n",
    "    \"size\": 0,\n",
    "    \"aggs\": {\n",
    "        \"group_by_date\":{\n",
    "        \"date_histogram\": {\n",
    "            \"field\": \"created_at\",\n",
    "            \"interval\": \"day\"\n",
    "        }\n",
    "        }\n",
    "    }\n",
    "    }\n",
    "    \"\"\"\n",
    "\n",
    "    headers = {\n",
    "        'Content-Type' : 'application/json'\n",
    "    }\n",
    "\n",
    "    resp = requests.get(\n",
    "        url,\n",
    "        data=query_day,\n",
    "        headers=headers,\n",
    "        auth= ELASTIC_SEARCH_AUTH\n",
    "    )\n",
    "\n",
    "    data = resp.json()\n",
    "\n",
    "    daily = data['aggregations']['group_by_date']['buckets']\n",
    "\n",
    "    df_daily = pd.DataFrame(data = daily)\n",
    "\n",
    "    df_daily['date'] = pd.to_datetime(df_daily['key_as_string'])\n",
    "\n",
    "    df_daily = df_daily.set_index('date')\n",
    "    \n",
    "    df_daily = df_daily['2022-05-01':'2022-05-31']\n",
    "\n",
    "    plt.figure(figsize=(10,6))\n",
    "    plt.plot(df_daily['doc_count'], label = 'Daily News')\n",
    "    plt.legend()\n",
    "    plt.xticks(rotation = 30)\n",
    "    plt.xlabel('Date')\n",
    "    plt.ylabel('Number of News')\n",
    "    plt.show()\n",
    "    return df_daily\n",
    "    "
   ]
  },
  {
   "cell_type": "markdown",
   "metadata": {},
   "source": [
    "#### 뉴스 기사 가장 많은 탑 5 언론사 선정해서 리스트로 반환"
   ]
  },
  {
   "cell_type": "code",
   "execution_count": 5,
   "metadata": {},
   "outputs": [],
   "source": [
    "def top_publisher():\n",
    "    url = f\"{ELASTIC_SEARCH_URL}/news/_search\"\n",
    "\n",
    "    query_publisher = \"\"\"\n",
    "    {\n",
    "    \"size\": 0,\n",
    "    \"aggs\": {\n",
    "        \"group_by_publisher\":{\n",
    "        \"terms\": {\n",
    "            \"field\": \"publisher.keyword\"\n",
    "        }\n",
    "        }\n",
    "    }\n",
    "    }\n",
    "    \"\"\"\n",
    "\n",
    "    headers = {\n",
    "        'Content-Type' : 'application/json'\n",
    "    }\n",
    "\n",
    "    resp = requests.get(\n",
    "        url,\n",
    "        data=query_publisher,\n",
    "        headers=headers,\n",
    "        auth= ELASTIC_SEARCH_AUTH\n",
    "    )\n",
    "\n",
    "    data = resp.json()\n",
    "\n",
    "    dict = data['aggregations']['group_by_publisher']['buckets'][1:6]\n",
    "\n",
    "    publisher_list = []\n",
    "    for i in range(len(dict)):\n",
    "        publisher_list.append(dict[i]['key'])\n",
    "\n",
    "    return publisher_list"
   ]
  },
  {
   "cell_type": "markdown",
   "metadata": {},
   "source": [
    "#### 2. Top5 언론사 리스트 변수로 받아 각 날짜 별로 언론사 기사 갯수 time-series chart 출력"
   ]
  },
  {
   "cell_type": "code",
   "execution_count": 6,
   "metadata": {},
   "outputs": [],
   "source": [
    "def news_trends_by_publisher(publisher_list):\n",
    "    url = f\"{ELASTIC_SEARCH_URL}/news/_search\"\n",
    "    \n",
    "    df_publisher = pd.DataFrame()\n",
    "\n",
    "    for pub in publisher_list:\n",
    "        query = \"\"\"\n",
    "            {\n",
    "                \"size\": 0,\n",
    "                \"aggs\": {\n",
    "                    \"group_by_publisher\":{\n",
    "                        \"terms\":{\n",
    "                            \"field\":\"publisher.keyword\",\n",
    "                            \"include\": \"%s\"\n",
    "                        },\n",
    "                        \"aggs\": {\n",
    "                            \"group_by_date\":{\n",
    "                                \"date_histogram\": {\n",
    "                                    \"field\": \"created_at\",\n",
    "                                    \"interval\": \"day\"\n",
    "                                }\n",
    "                            }\n",
    "                        }       \n",
    "                    }\n",
    "                }\n",
    "            }\n",
    "        \"\"\" %str(pub)\n",
    "        headers = {\n",
    "        'Content-Type' : 'application/json'\n",
    "        }\n",
    "\n",
    "        resp = requests.get(\n",
    "            url,\n",
    "            data=query.encode('utf-8'),\n",
    "            headers=headers,\n",
    "            auth= ELASTIC_SEARCH_AUTH\n",
    "        )\n",
    "\n",
    "        data = resp.json()\n",
    "\n",
    "        publisher_daily = data['aggregations']['group_by_publisher']['buckets'][0]['group_by_date']['buckets']\n",
    "        df_temp = pd.DataFrame(data = publisher_daily)\n",
    "        df_temp['date'] = pd.to_datetime(df_temp['key_as_string'])\n",
    "        df_temp = df_temp.set_index('date')\n",
    "        df_temp = df_temp['2022-05-01':'2022-05-31']\n",
    "        df_publisher[pub] = df_temp['doc_count']\n",
    "\n",
    "    plt.figure(figsize=(15,9))\n",
    "    plt.plot(df_publisher.iloc[:,[0]], label = 'News1')\n",
    "    plt.plot(df_publisher.iloc[:,[1]], label = 'Newsis')\n",
    "    plt.plot(df_publisher.iloc[:,[2]], label = 'E-daily')\n",
    "    plt.plot(df_publisher.iloc[:,[3]], label = 'Financial news')\n",
    "    plt.plot(df_publisher.iloc[:,[4]], label = 'Money Today')\n",
    "    plt.legend(loc = 'upper left')\n",
    "    plt.xlabel('Date')\n",
    "    plt.ylabel('Number of News')\n",
    "    plt.xticks(rotation = 30)\n",
    "    plt.show()\n",
    "    \n",
    "    return df_publisher\n",
    "\n"
   ]
  },
  {
   "cell_type": "markdown",
   "metadata": {},
   "source": [
    "#### 3. 키워드 리스트를 변수로 받아 키워드별 일별 기사 갯수 & 비율 출력"
   ]
  },
  {
   "cell_type": "code",
   "execution_count": 7,
   "metadata": {},
   "outputs": [],
   "source": [
    "def news_trends_by_keyword(keyword_list, df_daily):\n",
    "    url = f\"{ELASTIC_SEARCH_URL}/news/_search\"\n",
    "    \n",
    "    df_keyword = pd.DataFrame()\n",
    "    df_ratio = pd.DataFrame()\n",
    "\n",
    "    for keyword in keyword_list:\n",
    "        query = \"\"\"\n",
    "            {\n",
    "                \"size\": 0,\n",
    "                \"aggs\": {\n",
    "                    \"group_by_date\":{\n",
    "                        \"date_histogram\": {\n",
    "                            \"field\": \"created_at\",\n",
    "                            \"interval\": \"day\"\n",
    "                        }\n",
    "                    }\n",
    "                },\n",
    "                \"query\":{\n",
    "                    \"match\":{\n",
    "                    \"body\": \"%s\"\n",
    "                    }\n",
    "                }\n",
    "            }\n",
    "        \"\"\" %str(keyword)\n",
    "\n",
    "        headers = {\n",
    "        'Content-Type' : 'application/json'\n",
    "        }\n",
    "\n",
    "        resp = requests.get(\n",
    "            url,\n",
    "            data=query.encode('utf-8'),\n",
    "            headers=headers,\n",
    "            auth= ELASTIC_SEARCH_AUTH\n",
    "        )\n",
    "\n",
    "        data = resp.json()\n",
    "        keyword_daily = data['aggregations']['group_by_date']['buckets']\n",
    "        df_temp = pd.DataFrame(data = keyword_daily)\n",
    "        df_temp['date'] = pd.to_datetime(df_temp['key_as_string'])\n",
    "        df_temp = df_temp.set_index('date')\n",
    "        df_temp = df_temp['2022-05-01':'2022-05-31']\n",
    "        df_keyword[keyword] = df_temp['doc_count']\n",
    "\n",
    "        df_ratio[keyword] = (df_keyword[keyword] / df_daily['doc_count']) * 100\n",
    "    df_ratio.head()\n",
    "    plt.figure(figsize=(15,9))\n",
    "    plt.plot(df_keyword.iloc[:,[0]], label = 'War')\n",
    "    plt.plot(df_keyword.iloc[:,[1]], label = 'Inflation')\n",
    "    plt.plot(df_keyword.iloc[:,[2]], label = 'Crypto Currency')\n",
    "    plt.legend(loc = 'upper left')\n",
    "    plt.xlabel('Date')\n",
    "    plt.ylabel('Number of News')\n",
    "    plt.xticks(rotation = 30)\n",
    "\n",
    "    plt.figure(figsize=(15,9))\n",
    "    plt.plot(df_ratio.iloc[:,[0]], label = 'War')\n",
    "    plt.plot(df_ratio.iloc[:,[1]], label = 'Inflation')\n",
    "    plt.plot(df_ratio.iloc[:,[2]], label = 'Crypto Currency')\n",
    "    plt.legend(loc = 'upper left')\n",
    "    plt.xlabel('Date')\n",
    "    plt.ylabel('Ratio [%]')\n",
    "    plt.xticks(rotation = 30)\n",
    "    plt.show()\n",
    "    return df_keyword\n"
   ]
  },
  {
   "cell_type": "markdown",
   "metadata": {},
   "source": [
    "#### 4. 날짜별로 뉴스 Title 크롤링해서 리스트로 정리"
   ]
  },
  {
   "cell_type": "code",
   "execution_count": 17,
   "metadata": {},
   "outputs": [],
   "source": [
    "def collect_titles():\n",
    "    url = f\"{ELASTIC_SEARCH_URL}/news/_search\"\n",
    "    title = []\n",
    "    for i in np.arange(1,31,1):\n",
    "        if i < 10:\n",
    "            query_body = \"\"\"\n",
    "            {\n",
    "            \"from\": 0, \n",
    "            \"size\" : 7000,\n",
    "            \"query\":{\n",
    "                \"match\": {\n",
    "                \"created_at\": \"2022-04-0%s\"\n",
    "                }\n",
    "            },\n",
    "            \"sort\": [\n",
    "                {\n",
    "                \"created_at\": {\n",
    "                    \"order\": \"asc\"\n",
    "                }\n",
    "                }\n",
    "            ]\n",
    "            }\n",
    "            \"\"\"%str(i)\n",
    "        elif i > 9:\n",
    "            query_body = \"\"\"\n",
    "            {\n",
    "            \"from\": 0, \n",
    "            \"size\" : 8000,\n",
    "            \"query\":{\n",
    "                \"match\": {\n",
    "                \"created_at\": \"2022-04-%s\"\n",
    "                }\n",
    "            },\n",
    "            \"sort\": [\n",
    "                {\n",
    "                \"created_at\": {\n",
    "                    \"order\": \"asc\"\n",
    "                }\n",
    "                }\n",
    "            ]\n",
    "            }\n",
    "            \"\"\"%str(i)\n",
    "        headers = {\n",
    "            'Content-Type' : 'application/json'\n",
    "            }\n",
    "\n",
    "        resp = requests.get(\n",
    "            url,\n",
    "            data=query_body,\n",
    "            headers=headers,\n",
    "            auth= ELASTIC_SEARCH_AUTH\n",
    "        )\n",
    "        if resp.status_code != 200:\n",
    "            continue\n",
    "        data = resp.json()\n",
    "        print('Crawling date {}...'.format(i))\n",
    "        temp = []\n",
    "        for j in range(len(data['hits']['hits'])):\n",
    "            temp.append(data['hits']['hits'][j]['_source']['title'])\n",
    "        title.append(temp)\n",
    "    return title"
   ]
  },
  {
   "cell_type": "code",
   "execution_count": 9,
   "metadata": {},
   "outputs": [
    {
     "data": {
      "image/png": "[encoded data removed]",
      "text/plain": [
       "<Figure size 720x432 with 1 Axes>"
      ]
     },
     "metadata": {
      "needs_background": "light"
     },
     "output_type": "display_data"
    }
   ],
   "source": [
    "df_daily = daily_news()"
   ]
  },
  {
   "cell_type": "code",
   "execution_count": 10,
   "metadata": {},
   "outputs": [
    {
     "data": {
      "text/plain": [
       "['뉴스1', '뉴시스', '이데일리', '파이낸셜뉴스', '아시아경제']"
      ]
     },
     "execution_count": 10,
     "metadata": {},
     "output_type": "execute_result"
    }
   ],
   "source": [
    "publisher_list = top_publisher()\n",
    "publisher_list"
   ]
  },
  {
   "cell_type": "code",
   "execution_count": 11,
   "metadata": {},
   "outputs": [
    {
     "data": {
      "image/png": "[encoded data removed]",
      "text/plain": [
       "<Figure size 1080x648 with 1 Axes>"
      ]
     },
     "metadata": {
      "needs_background": "light"
     },
     "output_type": "display_data"
    },
    {
     "data": {
      "text/html": [
       "<div>\n",
       "<style scoped>\n",
       "    .dataframe tbody tr th:only-of-type {\n",
       "        vertical-align: middle;\n",
       "    }\n",
       "\n",
       "    .dataframe tbody tr th {\n",
       "        vertical-align: top;\n",
       "    }\n",
       "\n",
       "    .dataframe thead th {\n",
       "        text-align: right;\n",
       "    }\n",
       "</style>\n",
       "<table border=\"1\" class=\"dataframe\">\n",
       "  <thead>\n",
       "    <tr style=\"text-align: right;\">\n",
       "      <th></th>\n",
       "      <th>뉴스1</th>\n",
       "      <th>뉴시스</th>\n",
       "      <th>이데일리</th>\n",
       "      <th>파이낸셜뉴스</th>\n",
       "      <th>아시아경제</th>\n",
       "    </tr>\n",
       "  </thead>\n",
       "  <tbody>\n",
       "  </tbody>\n",
       "</table>\n",
       "</div>"
      ],
      "text/plain": [
       "Empty DataFrame\n",
       "Columns: [뉴스1, 뉴시스, 이데일리, 파이낸셜뉴스, 아시아경제]\n",
       "Index: []"
      ]
     },
     "execution_count": 11,
     "metadata": {},
     "output_type": "execute_result"
    }
   ],
   "source": [
    "news_trends_by_publisher(publisher_list)"
   ]
  },
  {
   "cell_type": "code",
   "execution_count": 12,
   "metadata": {},
   "outputs": [],
   "source": [
    "keyword = ['전쟁', '인플레이션', '암호화폐']"
   ]
  },
  {
   "cell_type": "code",
   "execution_count": 13,
   "metadata": {},
   "outputs": [
    {
     "data": {
      "image/png": "[encoded data removed]",
      "text/plain": [
       "<Figure size 1080x648 with 1 Axes>"
      ]
     },
     "metadata": {
      "needs_background": "light"
     },
     "output_type": "display_data"
    },
    {
     "data": {
      "image/png": "[encoded data removed]",
      "text/plain": [
       "<Figure size 1080x648 with 1 Axes>"
      ]
     },
     "metadata": {
      "needs_background": "light"
     },
     "output_type": "display_data"
    }
   ],
   "source": [
    "df_keyword = news_trends_by_keyword(keyword, df_daily)"
   ]
  },
  {
   "cell_type": "code",
   "execution_count": 18,
   "metadata": {},
   "outputs": [
    {
     "name": "stdout",
     "output_type": "stream",
     "text": [
      "Crawling date 1...\n",
      "Crawling date 2...\n",
      "Crawling date 3...\n",
      "Crawling date 4...\n"
     ]
    },
    {
     "ename": "KeyboardInterrupt",
     "evalue": "",
     "output_type": "error",
     "traceback": [
      "\u001b[0;31m---------------------------------------------------------------------------\u001b[0m",
      "\u001b[0;31mKeyboardInterrupt\u001b[0m                         Traceback (most recent call last)",
      "\u001b[1;32m/Users/Sun/Documents/Github/Unstructrued_data_TP/B_plus_call_option.ipynb Cell 17'\u001b[0m in \u001b[0;36m<cell line: 1>\u001b[0;34m()\u001b[0m\n\u001b[0;32m----> <a href='vscode-notebook-cell:/Users/Sun/Documents/Github/Unstructrued_data_TP/B_plus_call_option.ipynb#ch0000016?line=0'>1</a>\u001b[0m may_titles \u001b[39m=\u001b[39m collect_titles()\n",
      "\u001b[1;32m/Users/Sun/Documents/Github/Unstructrued_data_TP/B_plus_call_option.ipynb Cell 11'\u001b[0m in \u001b[0;36mcollect_titles\u001b[0;34m()\u001b[0m\n\u001b[1;32m     <a href='vscode-notebook-cell:/Users/Sun/Documents/Github/Unstructrued_data_TP/B_plus_call_option.ipynb#ch0000010?line=24'>25</a>\u001b[0m     query_body \u001b[39m=\u001b[39m \u001b[39m\"\"\"\u001b[39m\n\u001b[1;32m     <a href='vscode-notebook-cell:/Users/Sun/Documents/Github/Unstructrued_data_TP/B_plus_call_option.ipynb#ch0000010?line=25'>26</a>\u001b[0m \u001b[39m    \u001b[39m\u001b[39m{\u001b[39m\n\u001b[1;32m     <a href='vscode-notebook-cell:/Users/Sun/Documents/Github/Unstructrued_data_TP/B_plus_call_option.ipynb#ch0000010?line=26'>27</a>\u001b[0m \u001b[39m    \u001b[39m\u001b[39m\"\u001b[39m\u001b[39mfrom\u001b[39m\u001b[39m\"\u001b[39m\u001b[39m: 0, \u001b[39m\n\u001b[0;32m   (...)\u001b[0m\n\u001b[1;32m     <a href='vscode-notebook-cell:/Users/Sun/Documents/Github/Unstructrued_data_TP/B_plus_call_option.ipynb#ch0000010?line=40'>41</a>\u001b[0m \u001b[39m    }\u001b[39m\n\u001b[1;32m     <a href='vscode-notebook-cell:/Users/Sun/Documents/Github/Unstructrued_data_TP/B_plus_call_option.ipynb#ch0000010?line=41'>42</a>\u001b[0m \u001b[39m    \u001b[39m\u001b[39m\"\"\"\u001b[39m\u001b[39m%\u001b[39m\u001b[39mstr\u001b[39m(i)\n\u001b[1;32m     <a href='vscode-notebook-cell:/Users/Sun/Documents/Github/Unstructrued_data_TP/B_plus_call_option.ipynb#ch0000010?line=42'>43</a>\u001b[0m headers \u001b[39m=\u001b[39m {\n\u001b[1;32m     <a href='vscode-notebook-cell:/Users/Sun/Documents/Github/Unstructrued_data_TP/B_plus_call_option.ipynb#ch0000010?line=43'>44</a>\u001b[0m     \u001b[39m'\u001b[39m\u001b[39mContent-Type\u001b[39m\u001b[39m'\u001b[39m : \u001b[39m'\u001b[39m\u001b[39mapplication/json\u001b[39m\u001b[39m'\u001b[39m\n\u001b[1;32m     <a href='vscode-notebook-cell:/Users/Sun/Documents/Github/Unstructrued_data_TP/B_plus_call_option.ipynb#ch0000010?line=44'>45</a>\u001b[0m     }\n\u001b[0;32m---> <a href='vscode-notebook-cell:/Users/Sun/Documents/Github/Unstructrued_data_TP/B_plus_call_option.ipynb#ch0000010?line=46'>47</a>\u001b[0m resp \u001b[39m=\u001b[39m requests\u001b[39m.\u001b[39;49mget(\n\u001b[1;32m     <a href='vscode-notebook-cell:/Users/Sun/Documents/Github/Unstructrued_data_TP/B_plus_call_option.ipynb#ch0000010?line=47'>48</a>\u001b[0m     url,\n\u001b[1;32m     <a href='vscode-notebook-cell:/Users/Sun/Documents/Github/Unstructrued_data_TP/B_plus_call_option.ipynb#ch0000010?line=48'>49</a>\u001b[0m     data\u001b[39m=\u001b[39;49mquery_body,\n\u001b[1;32m     <a href='vscode-notebook-cell:/Users/Sun/Documents/Github/Unstructrued_data_TP/B_plus_call_option.ipynb#ch0000010?line=49'>50</a>\u001b[0m     headers\u001b[39m=\u001b[39;49mheaders,\n\u001b[1;32m     <a href='vscode-notebook-cell:/Users/Sun/Documents/Github/Unstructrued_data_TP/B_plus_call_option.ipynb#ch0000010?line=50'>51</a>\u001b[0m     auth\u001b[39m=\u001b[39;49m ELASTIC_SEARCH_AUTH\n\u001b[1;32m     <a href='vscode-notebook-cell:/Users/Sun/Documents/Github/Unstructrued_data_TP/B_plus_call_option.ipynb#ch0000010?line=51'>52</a>\u001b[0m )\n\u001b[1;32m     <a href='vscode-notebook-cell:/Users/Sun/Documents/Github/Unstructrued_data_TP/B_plus_call_option.ipynb#ch0000010?line=52'>53</a>\u001b[0m \u001b[39mif\u001b[39;00m resp\u001b[39m.\u001b[39mstatus_code \u001b[39m!=\u001b[39m \u001b[39m200\u001b[39m:\n\u001b[1;32m     <a href='vscode-notebook-cell:/Users/Sun/Documents/Github/Unstructrued_data_TP/B_plus_call_option.ipynb#ch0000010?line=53'>54</a>\u001b[0m     \u001b[39mcontinue\u001b[39;00m\n",
      "File \u001b[0;32m/opt/homebrew/Caskroom/miniforge/base/envs/NLP/lib/python3.8/site-packages/requests/api.py:75\u001b[0m, in \u001b[0;36mget\u001b[0;34m(url, params, **kwargs)\u001b[0m\n\u001b[1;32m     <a href='file:///opt/homebrew/Caskroom/miniforge/base/envs/NLP/lib/python3.8/site-packages/requests/api.py?line=63'>64</a>\u001b[0m \u001b[39mdef\u001b[39;00m \u001b[39mget\u001b[39m(url, params\u001b[39m=\u001b[39m\u001b[39mNone\u001b[39;00m, \u001b[39m*\u001b[39m\u001b[39m*\u001b[39mkwargs):\n\u001b[1;32m     <a href='file:///opt/homebrew/Caskroom/miniforge/base/envs/NLP/lib/python3.8/site-packages/requests/api.py?line=64'>65</a>\u001b[0m     \u001b[39mr\u001b[39m\u001b[39m\"\"\"Sends a GET request.\u001b[39;00m\n\u001b[1;32m     <a href='file:///opt/homebrew/Caskroom/miniforge/base/envs/NLP/lib/python3.8/site-packages/requests/api.py?line=65'>66</a>\u001b[0m \n\u001b[1;32m     <a href='file:///opt/homebrew/Caskroom/miniforge/base/envs/NLP/lib/python3.8/site-packages/requests/api.py?line=66'>67</a>\u001b[0m \u001b[39m    :param url: URL for the new :class:`Request` object.\u001b[39;00m\n\u001b[0;32m   (...)\u001b[0m\n\u001b[1;32m     <a href='file:///opt/homebrew/Caskroom/miniforge/base/envs/NLP/lib/python3.8/site-packages/requests/api.py?line=71'>72</a>\u001b[0m \u001b[39m    :rtype: requests.Response\u001b[39;00m\n\u001b[1;32m     <a href='file:///opt/homebrew/Caskroom/miniforge/base/envs/NLP/lib/python3.8/site-packages/requests/api.py?line=72'>73</a>\u001b[0m \u001b[39m    \"\"\"\u001b[39;00m\n\u001b[0;32m---> <a href='file:///opt/homebrew/Caskroom/miniforge/base/envs/NLP/lib/python3.8/site-packages/requests/api.py?line=74'>75</a>\u001b[0m     \u001b[39mreturn\u001b[39;00m request(\u001b[39m'\u001b[39;49m\u001b[39mget\u001b[39;49m\u001b[39m'\u001b[39;49m, url, params\u001b[39m=\u001b[39;49mparams, \u001b[39m*\u001b[39;49m\u001b[39m*\u001b[39;49mkwargs)\n",
      "File \u001b[0;32m/opt/homebrew/Caskroom/miniforge/base/envs/NLP/lib/python3.8/site-packages/requests/api.py:61\u001b[0m, in \u001b[0;36mrequest\u001b[0;34m(method, url, **kwargs)\u001b[0m\n\u001b[1;32m     <a href='file:///opt/homebrew/Caskroom/miniforge/base/envs/NLP/lib/python3.8/site-packages/requests/api.py?line=56'>57</a>\u001b[0m \u001b[39m# By using the 'with' statement we are sure the session is closed, thus we\u001b[39;00m\n\u001b[1;32m     <a href='file:///opt/homebrew/Caskroom/miniforge/base/envs/NLP/lib/python3.8/site-packages/requests/api.py?line=57'>58</a>\u001b[0m \u001b[39m# avoid leaving sockets open which can trigger a ResourceWarning in some\u001b[39;00m\n\u001b[1;32m     <a href='file:///opt/homebrew/Caskroom/miniforge/base/envs/NLP/lib/python3.8/site-packages/requests/api.py?line=58'>59</a>\u001b[0m \u001b[39m# cases, and look like a memory leak in others.\u001b[39;00m\n\u001b[1;32m     <a href='file:///opt/homebrew/Caskroom/miniforge/base/envs/NLP/lib/python3.8/site-packages/requests/api.py?line=59'>60</a>\u001b[0m \u001b[39mwith\u001b[39;00m sessions\u001b[39m.\u001b[39mSession() \u001b[39mas\u001b[39;00m session:\n\u001b[0;32m---> <a href='file:///opt/homebrew/Caskroom/miniforge/base/envs/NLP/lib/python3.8/site-packages/requests/api.py?line=60'>61</a>\u001b[0m     \u001b[39mreturn\u001b[39;00m session\u001b[39m.\u001b[39;49mrequest(method\u001b[39m=\u001b[39;49mmethod, url\u001b[39m=\u001b[39;49murl, \u001b[39m*\u001b[39;49m\u001b[39m*\u001b[39;49mkwargs)\n",
      "File \u001b[0;32m/opt/homebrew/Caskroom/miniforge/base/envs/NLP/lib/python3.8/site-packages/requests/sessions.py:529\u001b[0m, in \u001b[0;36mSession.request\u001b[0;34m(self, method, url, params, data, headers, cookies, files, auth, timeout, allow_redirects, proxies, hooks, stream, verify, cert, json)\u001b[0m\n\u001b[1;32m    <a href='file:///opt/homebrew/Caskroom/miniforge/base/envs/NLP/lib/python3.8/site-packages/requests/sessions.py?line=523'>524</a>\u001b[0m send_kwargs \u001b[39m=\u001b[39m {\n\u001b[1;32m    <a href='file:///opt/homebrew/Caskroom/miniforge/base/envs/NLP/lib/python3.8/site-packages/requests/sessions.py?line=524'>525</a>\u001b[0m     \u001b[39m'\u001b[39m\u001b[39mtimeout\u001b[39m\u001b[39m'\u001b[39m: timeout,\n\u001b[1;32m    <a href='file:///opt/homebrew/Caskroom/miniforge/base/envs/NLP/lib/python3.8/site-packages/requests/sessions.py?line=525'>526</a>\u001b[0m     \u001b[39m'\u001b[39m\u001b[39mallow_redirects\u001b[39m\u001b[39m'\u001b[39m: allow_redirects,\n\u001b[1;32m    <a href='file:///opt/homebrew/Caskroom/miniforge/base/envs/NLP/lib/python3.8/site-packages/requests/sessions.py?line=526'>527</a>\u001b[0m }\n\u001b[1;32m    <a href='file:///opt/homebrew/Caskroom/miniforge/base/envs/NLP/lib/python3.8/site-packages/requests/sessions.py?line=527'>528</a>\u001b[0m send_kwargs\u001b[39m.\u001b[39mupdate(settings)\n\u001b[0;32m--> <a href='file:///opt/homebrew/Caskroom/miniforge/base/envs/NLP/lib/python3.8/site-packages/requests/sessions.py?line=528'>529</a>\u001b[0m resp \u001b[39m=\u001b[39m \u001b[39mself\u001b[39;49m\u001b[39m.\u001b[39;49msend(prep, \u001b[39m*\u001b[39;49m\u001b[39m*\u001b[39;49msend_kwargs)\n\u001b[1;32m    <a href='file:///opt/homebrew/Caskroom/miniforge/base/envs/NLP/lib/python3.8/site-packages/requests/sessions.py?line=530'>531</a>\u001b[0m \u001b[39mreturn\u001b[39;00m resp\n",
      "File \u001b[0;32m/opt/homebrew/Caskroom/miniforge/base/envs/NLP/lib/python3.8/site-packages/requests/sessions.py:645\u001b[0m, in \u001b[0;36mSession.send\u001b[0;34m(self, request, **kwargs)\u001b[0m\n\u001b[1;32m    <a href='file:///opt/homebrew/Caskroom/miniforge/base/envs/NLP/lib/python3.8/site-packages/requests/sessions.py?line=641'>642</a>\u001b[0m start \u001b[39m=\u001b[39m preferred_clock()\n\u001b[1;32m    <a href='file:///opt/homebrew/Caskroom/miniforge/base/envs/NLP/lib/python3.8/site-packages/requests/sessions.py?line=643'>644</a>\u001b[0m \u001b[39m# Send the request\u001b[39;00m\n\u001b[0;32m--> <a href='file:///opt/homebrew/Caskroom/miniforge/base/envs/NLP/lib/python3.8/site-packages/requests/sessions.py?line=644'>645</a>\u001b[0m r \u001b[39m=\u001b[39m adapter\u001b[39m.\u001b[39;49msend(request, \u001b[39m*\u001b[39;49m\u001b[39m*\u001b[39;49mkwargs)\n\u001b[1;32m    <a href='file:///opt/homebrew/Caskroom/miniforge/base/envs/NLP/lib/python3.8/site-packages/requests/sessions.py?line=646'>647</a>\u001b[0m \u001b[39m# Total elapsed time of the request (approximately)\u001b[39;00m\n\u001b[1;32m    <a href='file:///opt/homebrew/Caskroom/miniforge/base/envs/NLP/lib/python3.8/site-packages/requests/sessions.py?line=647'>648</a>\u001b[0m elapsed \u001b[39m=\u001b[39m preferred_clock() \u001b[39m-\u001b[39m start\n",
      "File \u001b[0;32m/opt/homebrew/Caskroom/miniforge/base/envs/NLP/lib/python3.8/site-packages/requests/adapters.py:440\u001b[0m, in \u001b[0;36mHTTPAdapter.send\u001b[0;34m(self, request, stream, timeout, verify, cert, proxies)\u001b[0m\n\u001b[1;32m    <a href='file:///opt/homebrew/Caskroom/miniforge/base/envs/NLP/lib/python3.8/site-packages/requests/adapters.py?line=437'>438</a>\u001b[0m \u001b[39mtry\u001b[39;00m:\n\u001b[1;32m    <a href='file:///opt/homebrew/Caskroom/miniforge/base/envs/NLP/lib/python3.8/site-packages/requests/adapters.py?line=438'>439</a>\u001b[0m     \u001b[39mif\u001b[39;00m \u001b[39mnot\u001b[39;00m chunked:\n\u001b[0;32m--> <a href='file:///opt/homebrew/Caskroom/miniforge/base/envs/NLP/lib/python3.8/site-packages/requests/adapters.py?line=439'>440</a>\u001b[0m         resp \u001b[39m=\u001b[39m conn\u001b[39m.\u001b[39;49murlopen(\n\u001b[1;32m    <a href='file:///opt/homebrew/Caskroom/miniforge/base/envs/NLP/lib/python3.8/site-packages/requests/adapters.py?line=440'>441</a>\u001b[0m             method\u001b[39m=\u001b[39;49mrequest\u001b[39m.\u001b[39;49mmethod,\n\u001b[1;32m    <a href='file:///opt/homebrew/Caskroom/miniforge/base/envs/NLP/lib/python3.8/site-packages/requests/adapters.py?line=441'>442</a>\u001b[0m             url\u001b[39m=\u001b[39;49murl,\n\u001b[1;32m    <a href='file:///opt/homebrew/Caskroom/miniforge/base/envs/NLP/lib/python3.8/site-packages/requests/adapters.py?line=442'>443</a>\u001b[0m             body\u001b[39m=\u001b[39;49mrequest\u001b[39m.\u001b[39;49mbody,\n\u001b[1;32m    <a href='file:///opt/homebrew/Caskroom/miniforge/base/envs/NLP/lib/python3.8/site-packages/requests/adapters.py?line=443'>444</a>\u001b[0m             headers\u001b[39m=\u001b[39;49mrequest\u001b[39m.\u001b[39;49mheaders,\n\u001b[1;32m    <a href='file:///opt/homebrew/Caskroom/miniforge/base/envs/NLP/lib/python3.8/site-packages/requests/adapters.py?line=444'>445</a>\u001b[0m             redirect\u001b[39m=\u001b[39;49m\u001b[39mFalse\u001b[39;49;00m,\n\u001b[1;32m    <a href='file:///opt/homebrew/Caskroom/miniforge/base/envs/NLP/lib/python3.8/site-packages/requests/adapters.py?line=445'>446</a>\u001b[0m             assert_same_host\u001b[39m=\u001b[39;49m\u001b[39mFalse\u001b[39;49;00m,\n\u001b[1;32m    <a href='file:///opt/homebrew/Caskroom/miniforge/base/envs/NLP/lib/python3.8/site-packages/requests/adapters.py?line=446'>447</a>\u001b[0m             preload_content\u001b[39m=\u001b[39;49m\u001b[39mFalse\u001b[39;49;00m,\n\u001b[1;32m    <a href='file:///opt/homebrew/Caskroom/miniforge/base/envs/NLP/lib/python3.8/site-packages/requests/adapters.py?line=447'>448</a>\u001b[0m             decode_content\u001b[39m=\u001b[39;49m\u001b[39mFalse\u001b[39;49;00m,\n\u001b[1;32m    <a href='file:///opt/homebrew/Caskroom/miniforge/base/envs/NLP/lib/python3.8/site-packages/requests/adapters.py?line=448'>449</a>\u001b[0m             retries\u001b[39m=\u001b[39;49m\u001b[39mself\u001b[39;49m\u001b[39m.\u001b[39;49mmax_retries,\n\u001b[1;32m    <a href='file:///opt/homebrew/Caskroom/miniforge/base/envs/NLP/lib/python3.8/site-packages/requests/adapters.py?line=449'>450</a>\u001b[0m             timeout\u001b[39m=\u001b[39;49mtimeout\n\u001b[1;32m    <a href='file:///opt/homebrew/Caskroom/miniforge/base/envs/NLP/lib/python3.8/site-packages/requests/adapters.py?line=450'>451</a>\u001b[0m         )\n\u001b[1;32m    <a href='file:///opt/homebrew/Caskroom/miniforge/base/envs/NLP/lib/python3.8/site-packages/requests/adapters.py?line=452'>453</a>\u001b[0m     \u001b[39m# Send the request.\u001b[39;00m\n\u001b[1;32m    <a href='file:///opt/homebrew/Caskroom/miniforge/base/envs/NLP/lib/python3.8/site-packages/requests/adapters.py?line=453'>454</a>\u001b[0m     \u001b[39melse\u001b[39;00m:\n\u001b[1;32m    <a href='file:///opt/homebrew/Caskroom/miniforge/base/envs/NLP/lib/python3.8/site-packages/requests/adapters.py?line=454'>455</a>\u001b[0m         \u001b[39mif\u001b[39;00m \u001b[39mhasattr\u001b[39m(conn, \u001b[39m'\u001b[39m\u001b[39mproxy_pool\u001b[39m\u001b[39m'\u001b[39m):\n",
      "File \u001b[0;32m/opt/homebrew/Caskroom/miniforge/base/envs/NLP/lib/python3.8/site-packages/urllib3/connectionpool.py:703\u001b[0m, in \u001b[0;36mHTTPConnectionPool.urlopen\u001b[0;34m(self, method, url, body, headers, retries, redirect, assert_same_host, timeout, pool_timeout, release_conn, chunked, body_pos, **response_kw)\u001b[0m\n\u001b[1;32m    <a href='file:///opt/homebrew/Caskroom/miniforge/base/envs/NLP/lib/python3.8/site-packages/urllib3/connectionpool.py?line=699'>700</a>\u001b[0m     \u001b[39mself\u001b[39m\u001b[39m.\u001b[39m_prepare_proxy(conn)\n\u001b[1;32m    <a href='file:///opt/homebrew/Caskroom/miniforge/base/envs/NLP/lib/python3.8/site-packages/urllib3/connectionpool.py?line=701'>702</a>\u001b[0m \u001b[39m# Make the request on the httplib connection object.\u001b[39;00m\n\u001b[0;32m--> <a href='file:///opt/homebrew/Caskroom/miniforge/base/envs/NLP/lib/python3.8/site-packages/urllib3/connectionpool.py?line=702'>703</a>\u001b[0m httplib_response \u001b[39m=\u001b[39m \u001b[39mself\u001b[39;49m\u001b[39m.\u001b[39;49m_make_request(\n\u001b[1;32m    <a href='file:///opt/homebrew/Caskroom/miniforge/base/envs/NLP/lib/python3.8/site-packages/urllib3/connectionpool.py?line=703'>704</a>\u001b[0m     conn,\n\u001b[1;32m    <a href='file:///opt/homebrew/Caskroom/miniforge/base/envs/NLP/lib/python3.8/site-packages/urllib3/connectionpool.py?line=704'>705</a>\u001b[0m     method,\n\u001b[1;32m    <a href='file:///opt/homebrew/Caskroom/miniforge/base/envs/NLP/lib/python3.8/site-packages/urllib3/connectionpool.py?line=705'>706</a>\u001b[0m     url,\n\u001b[1;32m    <a href='file:///opt/homebrew/Caskroom/miniforge/base/envs/NLP/lib/python3.8/site-packages/urllib3/connectionpool.py?line=706'>707</a>\u001b[0m     timeout\u001b[39m=\u001b[39;49mtimeout_obj,\n\u001b[1;32m    <a href='file:///opt/homebrew/Caskroom/miniforge/base/envs/NLP/lib/python3.8/site-packages/urllib3/connectionpool.py?line=707'>708</a>\u001b[0m     body\u001b[39m=\u001b[39;49mbody,\n\u001b[1;32m    <a href='file:///opt/homebrew/Caskroom/miniforge/base/envs/NLP/lib/python3.8/site-packages/urllib3/connectionpool.py?line=708'>709</a>\u001b[0m     headers\u001b[39m=\u001b[39;49mheaders,\n\u001b[1;32m    <a href='file:///opt/homebrew/Caskroom/miniforge/base/envs/NLP/lib/python3.8/site-packages/urllib3/connectionpool.py?line=709'>710</a>\u001b[0m     chunked\u001b[39m=\u001b[39;49mchunked,\n\u001b[1;32m    <a href='file:///opt/homebrew/Caskroom/miniforge/base/envs/NLP/lib/python3.8/site-packages/urllib3/connectionpool.py?line=710'>711</a>\u001b[0m )\n\u001b[1;32m    <a href='file:///opt/homebrew/Caskroom/miniforge/base/envs/NLP/lib/python3.8/site-packages/urllib3/connectionpool.py?line=712'>713</a>\u001b[0m \u001b[39m# If we're going to release the connection in ``finally:``, then\u001b[39;00m\n\u001b[1;32m    <a href='file:///opt/homebrew/Caskroom/miniforge/base/envs/NLP/lib/python3.8/site-packages/urllib3/connectionpool.py?line=713'>714</a>\u001b[0m \u001b[39m# the response doesn't need to know about the connection. Otherwise\u001b[39;00m\n\u001b[1;32m    <a href='file:///opt/homebrew/Caskroom/miniforge/base/envs/NLP/lib/python3.8/site-packages/urllib3/connectionpool.py?line=714'>715</a>\u001b[0m \u001b[39m# it will also try to release it and we'll have a double-release\u001b[39;00m\n\u001b[1;32m    <a href='file:///opt/homebrew/Caskroom/miniforge/base/envs/NLP/lib/python3.8/site-packages/urllib3/connectionpool.py?line=715'>716</a>\u001b[0m \u001b[39m# mess.\u001b[39;00m\n\u001b[1;32m    <a href='file:///opt/homebrew/Caskroom/miniforge/base/envs/NLP/lib/python3.8/site-packages/urllib3/connectionpool.py?line=716'>717</a>\u001b[0m response_conn \u001b[39m=\u001b[39m conn \u001b[39mif\u001b[39;00m \u001b[39mnot\u001b[39;00m release_conn \u001b[39melse\u001b[39;00m \u001b[39mNone\u001b[39;00m\n",
      "File \u001b[0;32m/opt/homebrew/Caskroom/miniforge/base/envs/NLP/lib/python3.8/site-packages/urllib3/connectionpool.py:449\u001b[0m, in \u001b[0;36mHTTPConnectionPool._make_request\u001b[0;34m(self, conn, method, url, timeout, chunked, **httplib_request_kw)\u001b[0m\n\u001b[1;32m    <a href='file:///opt/homebrew/Caskroom/miniforge/base/envs/NLP/lib/python3.8/site-packages/urllib3/connectionpool.py?line=443'>444</a>\u001b[0m             httplib_response \u001b[39m=\u001b[39m conn\u001b[39m.\u001b[39mgetresponse()\n\u001b[1;32m    <a href='file:///opt/homebrew/Caskroom/miniforge/base/envs/NLP/lib/python3.8/site-packages/urllib3/connectionpool.py?line=444'>445</a>\u001b[0m         \u001b[39mexcept\u001b[39;00m \u001b[39mBaseException\u001b[39;00m \u001b[39mas\u001b[39;00m e:\n\u001b[1;32m    <a href='file:///opt/homebrew/Caskroom/miniforge/base/envs/NLP/lib/python3.8/site-packages/urllib3/connectionpool.py?line=445'>446</a>\u001b[0m             \u001b[39m# Remove the TypeError from the exception chain in\u001b[39;00m\n\u001b[1;32m    <a href='file:///opt/homebrew/Caskroom/miniforge/base/envs/NLP/lib/python3.8/site-packages/urllib3/connectionpool.py?line=446'>447</a>\u001b[0m             \u001b[39m# Python 3 (including for exceptions like SystemExit).\u001b[39;00m\n\u001b[1;32m    <a href='file:///opt/homebrew/Caskroom/miniforge/base/envs/NLP/lib/python3.8/site-packages/urllib3/connectionpool.py?line=447'>448</a>\u001b[0m             \u001b[39m# Otherwise it looks like a bug in the code.\u001b[39;00m\n\u001b[0;32m--> <a href='file:///opt/homebrew/Caskroom/miniforge/base/envs/NLP/lib/python3.8/site-packages/urllib3/connectionpool.py?line=448'>449</a>\u001b[0m             six\u001b[39m.\u001b[39;49mraise_from(e, \u001b[39mNone\u001b[39;49;00m)\n\u001b[1;32m    <a href='file:///opt/homebrew/Caskroom/miniforge/base/envs/NLP/lib/python3.8/site-packages/urllib3/connectionpool.py?line=449'>450</a>\u001b[0m \u001b[39mexcept\u001b[39;00m (SocketTimeout, BaseSSLError, SocketError) \u001b[39mas\u001b[39;00m e:\n\u001b[1;32m    <a href='file:///opt/homebrew/Caskroom/miniforge/base/envs/NLP/lib/python3.8/site-packages/urllib3/connectionpool.py?line=450'>451</a>\u001b[0m     \u001b[39mself\u001b[39m\u001b[39m.\u001b[39m_raise_timeout(err\u001b[39m=\u001b[39me, url\u001b[39m=\u001b[39murl, timeout_value\u001b[39m=\u001b[39mread_timeout)\n",
      "File \u001b[0;32m<string>:3\u001b[0m, in \u001b[0;36mraise_from\u001b[0;34m(value, from_value)\u001b[0m\n",
      "File \u001b[0;32m/opt/homebrew/Caskroom/miniforge/base/envs/NLP/lib/python3.8/site-packages/urllib3/connectionpool.py:444\u001b[0m, in \u001b[0;36mHTTPConnectionPool._make_request\u001b[0;34m(self, conn, method, url, timeout, chunked, **httplib_request_kw)\u001b[0m\n\u001b[1;32m    <a href='file:///opt/homebrew/Caskroom/miniforge/base/envs/NLP/lib/python3.8/site-packages/urllib3/connectionpool.py?line=440'>441</a>\u001b[0m \u001b[39mexcept\u001b[39;00m \u001b[39mTypeError\u001b[39;00m:\n\u001b[1;32m    <a href='file:///opt/homebrew/Caskroom/miniforge/base/envs/NLP/lib/python3.8/site-packages/urllib3/connectionpool.py?line=441'>442</a>\u001b[0m     \u001b[39m# Python 3\u001b[39;00m\n\u001b[1;32m    <a href='file:///opt/homebrew/Caskroom/miniforge/base/envs/NLP/lib/python3.8/site-packages/urllib3/connectionpool.py?line=442'>443</a>\u001b[0m     \u001b[39mtry\u001b[39;00m:\n\u001b[0;32m--> <a href='file:///opt/homebrew/Caskroom/miniforge/base/envs/NLP/lib/python3.8/site-packages/urllib3/connectionpool.py?line=443'>444</a>\u001b[0m         httplib_response \u001b[39m=\u001b[39m conn\u001b[39m.\u001b[39;49mgetresponse()\n\u001b[1;32m    <a href='file:///opt/homebrew/Caskroom/miniforge/base/envs/NLP/lib/python3.8/site-packages/urllib3/connectionpool.py?line=444'>445</a>\u001b[0m     \u001b[39mexcept\u001b[39;00m \u001b[39mBaseException\u001b[39;00m \u001b[39mas\u001b[39;00m e:\n\u001b[1;32m    <a href='file:///opt/homebrew/Caskroom/miniforge/base/envs/NLP/lib/python3.8/site-packages/urllib3/connectionpool.py?line=445'>446</a>\u001b[0m         \u001b[39m# Remove the TypeError from the exception chain in\u001b[39;00m\n\u001b[1;32m    <a href='file:///opt/homebrew/Caskroom/miniforge/base/envs/NLP/lib/python3.8/site-packages/urllib3/connectionpool.py?line=446'>447</a>\u001b[0m         \u001b[39m# Python 3 (including for exceptions like SystemExit).\u001b[39;00m\n\u001b[1;32m    <a href='file:///opt/homebrew/Caskroom/miniforge/base/envs/NLP/lib/python3.8/site-packages/urllib3/connectionpool.py?line=447'>448</a>\u001b[0m         \u001b[39m# Otherwise it looks like a bug in the code.\u001b[39;00m\n\u001b[1;32m    <a href='file:///opt/homebrew/Caskroom/miniforge/base/envs/NLP/lib/python3.8/site-packages/urllib3/connectionpool.py?line=448'>449</a>\u001b[0m         six\u001b[39m.\u001b[39mraise_from(e, \u001b[39mNone\u001b[39;00m)\n",
      "File \u001b[0;32m/opt/homebrew/Caskroom/miniforge/base/envs/NLP/lib/python3.8/http/client.py:1348\u001b[0m, in \u001b[0;36mHTTPConnection.getresponse\u001b[0;34m(self)\u001b[0m\n\u001b[1;32m   <a href='file:///opt/homebrew/Caskroom/miniforge/base/envs/NLP/lib/python3.8/http/client.py?line=1345'>1346</a>\u001b[0m \u001b[39mtry\u001b[39;00m:\n\u001b[1;32m   <a href='file:///opt/homebrew/Caskroom/miniforge/base/envs/NLP/lib/python3.8/http/client.py?line=1346'>1347</a>\u001b[0m     \u001b[39mtry\u001b[39;00m:\n\u001b[0;32m-> <a href='file:///opt/homebrew/Caskroom/miniforge/base/envs/NLP/lib/python3.8/http/client.py?line=1347'>1348</a>\u001b[0m         response\u001b[39m.\u001b[39;49mbegin()\n\u001b[1;32m   <a href='file:///opt/homebrew/Caskroom/miniforge/base/envs/NLP/lib/python3.8/http/client.py?line=1348'>1349</a>\u001b[0m     \u001b[39mexcept\u001b[39;00m \u001b[39mConnectionError\u001b[39;00m:\n\u001b[1;32m   <a href='file:///opt/homebrew/Caskroom/miniforge/base/envs/NLP/lib/python3.8/http/client.py?line=1349'>1350</a>\u001b[0m         \u001b[39mself\u001b[39m\u001b[39m.\u001b[39mclose()\n",
      "File \u001b[0;32m/opt/homebrew/Caskroom/miniforge/base/envs/NLP/lib/python3.8/http/client.py:316\u001b[0m, in \u001b[0;36mHTTPResponse.begin\u001b[0;34m(self)\u001b[0m\n\u001b[1;32m    <a href='file:///opt/homebrew/Caskroom/miniforge/base/envs/NLP/lib/python3.8/http/client.py?line=313'>314</a>\u001b[0m \u001b[39m# read until we get a non-100 response\u001b[39;00m\n\u001b[1;32m    <a href='file:///opt/homebrew/Caskroom/miniforge/base/envs/NLP/lib/python3.8/http/client.py?line=314'>315</a>\u001b[0m \u001b[39mwhile\u001b[39;00m \u001b[39mTrue\u001b[39;00m:\n\u001b[0;32m--> <a href='file:///opt/homebrew/Caskroom/miniforge/base/envs/NLP/lib/python3.8/http/client.py?line=315'>316</a>\u001b[0m     version, status, reason \u001b[39m=\u001b[39m \u001b[39mself\u001b[39;49m\u001b[39m.\u001b[39;49m_read_status()\n\u001b[1;32m    <a href='file:///opt/homebrew/Caskroom/miniforge/base/envs/NLP/lib/python3.8/http/client.py?line=316'>317</a>\u001b[0m     \u001b[39mif\u001b[39;00m status \u001b[39m!=\u001b[39m CONTINUE:\n\u001b[1;32m    <a href='file:///opt/homebrew/Caskroom/miniforge/base/envs/NLP/lib/python3.8/http/client.py?line=317'>318</a>\u001b[0m         \u001b[39mbreak\u001b[39;00m\n",
      "File \u001b[0;32m/opt/homebrew/Caskroom/miniforge/base/envs/NLP/lib/python3.8/http/client.py:277\u001b[0m, in \u001b[0;36mHTTPResponse._read_status\u001b[0;34m(self)\u001b[0m\n\u001b[1;32m    <a href='file:///opt/homebrew/Caskroom/miniforge/base/envs/NLP/lib/python3.8/http/client.py?line=275'>276</a>\u001b[0m \u001b[39mdef\u001b[39;00m \u001b[39m_read_status\u001b[39m(\u001b[39mself\u001b[39m):\n\u001b[0;32m--> <a href='file:///opt/homebrew/Caskroom/miniforge/base/envs/NLP/lib/python3.8/http/client.py?line=276'>277</a>\u001b[0m     line \u001b[39m=\u001b[39m \u001b[39mstr\u001b[39m(\u001b[39mself\u001b[39;49m\u001b[39m.\u001b[39;49mfp\u001b[39m.\u001b[39;49mreadline(_MAXLINE \u001b[39m+\u001b[39;49m \u001b[39m1\u001b[39;49m), \u001b[39m\"\u001b[39m\u001b[39miso-8859-1\u001b[39m\u001b[39m\"\u001b[39m)\n\u001b[1;32m    <a href='file:///opt/homebrew/Caskroom/miniforge/base/envs/NLP/lib/python3.8/http/client.py?line=277'>278</a>\u001b[0m     \u001b[39mif\u001b[39;00m \u001b[39mlen\u001b[39m(line) \u001b[39m>\u001b[39m _MAXLINE:\n\u001b[1;32m    <a href='file:///opt/homebrew/Caskroom/miniforge/base/envs/NLP/lib/python3.8/http/client.py?line=278'>279</a>\u001b[0m         \u001b[39mraise\u001b[39;00m LineTooLong(\u001b[39m\"\u001b[39m\u001b[39mstatus line\u001b[39m\u001b[39m\"\u001b[39m)\n",
      "File \u001b[0;32m/opt/homebrew/Caskroom/miniforge/base/envs/NLP/lib/python3.8/socket.py:669\u001b[0m, in \u001b[0;36mSocketIO.readinto\u001b[0;34m(self, b)\u001b[0m\n\u001b[1;32m    <a href='file:///opt/homebrew/Caskroom/miniforge/base/envs/NLP/lib/python3.8/socket.py?line=666'>667</a>\u001b[0m \u001b[39mwhile\u001b[39;00m \u001b[39mTrue\u001b[39;00m:\n\u001b[1;32m    <a href='file:///opt/homebrew/Caskroom/miniforge/base/envs/NLP/lib/python3.8/socket.py?line=667'>668</a>\u001b[0m     \u001b[39mtry\u001b[39;00m:\n\u001b[0;32m--> <a href='file:///opt/homebrew/Caskroom/miniforge/base/envs/NLP/lib/python3.8/socket.py?line=668'>669</a>\u001b[0m         \u001b[39mreturn\u001b[39;00m \u001b[39mself\u001b[39;49m\u001b[39m.\u001b[39;49m_sock\u001b[39m.\u001b[39;49mrecv_into(b)\n\u001b[1;32m    <a href='file:///opt/homebrew/Caskroom/miniforge/base/envs/NLP/lib/python3.8/socket.py?line=669'>670</a>\u001b[0m     \u001b[39mexcept\u001b[39;00m timeout:\n\u001b[1;32m    <a href='file:///opt/homebrew/Caskroom/miniforge/base/envs/NLP/lib/python3.8/socket.py?line=670'>671</a>\u001b[0m         \u001b[39mself\u001b[39m\u001b[39m.\u001b[39m_timeout_occurred \u001b[39m=\u001b[39m \u001b[39mTrue\u001b[39;00m\n",
      "File \u001b[0;32m/opt/homebrew/Caskroom/miniforge/base/envs/NLP/lib/python3.8/ssl.py:1241\u001b[0m, in \u001b[0;36mSSLSocket.recv_into\u001b[0;34m(self, buffer, nbytes, flags)\u001b[0m\n\u001b[1;32m   <a href='file:///opt/homebrew/Caskroom/miniforge/base/envs/NLP/lib/python3.8/ssl.py?line=1236'>1237</a>\u001b[0m     \u001b[39mif\u001b[39;00m flags \u001b[39m!=\u001b[39m \u001b[39m0\u001b[39m:\n\u001b[1;32m   <a href='file:///opt/homebrew/Caskroom/miniforge/base/envs/NLP/lib/python3.8/ssl.py?line=1237'>1238</a>\u001b[0m         \u001b[39mraise\u001b[39;00m \u001b[39mValueError\u001b[39;00m(\n\u001b[1;32m   <a href='file:///opt/homebrew/Caskroom/miniforge/base/envs/NLP/lib/python3.8/ssl.py?line=1238'>1239</a>\u001b[0m           \u001b[39m\"\u001b[39m\u001b[39mnon-zero flags not allowed in calls to recv_into() on \u001b[39m\u001b[39m%s\u001b[39;00m\u001b[39m\"\u001b[39m \u001b[39m%\u001b[39m\n\u001b[1;32m   <a href='file:///opt/homebrew/Caskroom/miniforge/base/envs/NLP/lib/python3.8/ssl.py?line=1239'>1240</a>\u001b[0m           \u001b[39mself\u001b[39m\u001b[39m.\u001b[39m\u001b[39m__class__\u001b[39m)\n\u001b[0;32m-> <a href='file:///opt/homebrew/Caskroom/miniforge/base/envs/NLP/lib/python3.8/ssl.py?line=1240'>1241</a>\u001b[0m     \u001b[39mreturn\u001b[39;00m \u001b[39mself\u001b[39;49m\u001b[39m.\u001b[39;49mread(nbytes, buffer)\n\u001b[1;32m   <a href='file:///opt/homebrew/Caskroom/miniforge/base/envs/NLP/lib/python3.8/ssl.py?line=1241'>1242</a>\u001b[0m \u001b[39melse\u001b[39;00m:\n\u001b[1;32m   <a href='file:///opt/homebrew/Caskroom/miniforge/base/envs/NLP/lib/python3.8/ssl.py?line=1242'>1243</a>\u001b[0m     \u001b[39mreturn\u001b[39;00m \u001b[39msuper\u001b[39m()\u001b[39m.\u001b[39mrecv_into(buffer, nbytes, flags)\n",
      "File \u001b[0;32m/opt/homebrew/Caskroom/miniforge/base/envs/NLP/lib/python3.8/ssl.py:1099\u001b[0m, in \u001b[0;36mSSLSocket.read\u001b[0;34m(self, len, buffer)\u001b[0m\n\u001b[1;32m   <a href='file:///opt/homebrew/Caskroom/miniforge/base/envs/NLP/lib/python3.8/ssl.py?line=1096'>1097</a>\u001b[0m \u001b[39mtry\u001b[39;00m:\n\u001b[1;32m   <a href='file:///opt/homebrew/Caskroom/miniforge/base/envs/NLP/lib/python3.8/ssl.py?line=1097'>1098</a>\u001b[0m     \u001b[39mif\u001b[39;00m buffer \u001b[39mis\u001b[39;00m \u001b[39mnot\u001b[39;00m \u001b[39mNone\u001b[39;00m:\n\u001b[0;32m-> <a href='file:///opt/homebrew/Caskroom/miniforge/base/envs/NLP/lib/python3.8/ssl.py?line=1098'>1099</a>\u001b[0m         \u001b[39mreturn\u001b[39;00m \u001b[39mself\u001b[39;49m\u001b[39m.\u001b[39;49m_sslobj\u001b[39m.\u001b[39;49mread(\u001b[39mlen\u001b[39;49m, buffer)\n\u001b[1;32m   <a href='file:///opt/homebrew/Caskroom/miniforge/base/envs/NLP/lib/python3.8/ssl.py?line=1099'>1100</a>\u001b[0m     \u001b[39melse\u001b[39;00m:\n\u001b[1;32m   <a href='file:///opt/homebrew/Caskroom/miniforge/base/envs/NLP/lib/python3.8/ssl.py?line=1100'>1101</a>\u001b[0m         \u001b[39mreturn\u001b[39;00m \u001b[39mself\u001b[39m\u001b[39m.\u001b[39m_sslobj\u001b[39m.\u001b[39mread(\u001b[39mlen\u001b[39m)\n",
      "\u001b[0;31mKeyboardInterrupt\u001b[0m: "
     ]
    }
   ],
   "source": [
    "may_titles = collect_titles()"
   ]
  },
  {
   "cell_type": "code",
   "execution_count": 19,
   "metadata": {},
   "outputs": [
    {
     "data": {
      "text/plain": [
       "[[],\n",
       " [],\n",
       " [],\n",
       " [],\n",
       " [],\n",
       " [],\n",
       " [],\n",
       " [],\n",
       " [],\n",
       " [],\n",
       " [],\n",
       " [],\n",
       " [],\n",
       " [],\n",
       " [],\n",
       " [],\n",
       " [],\n",
       " [],\n",
       " [],\n",
       " [],\n",
       " [],\n",
       " [],\n",
       " [],\n",
       " [],\n",
       " [],\n",
       " [],\n",
       " [],\n",
       " [],\n",
       " [],\n",
       " [],\n",
       " []]"
      ]
     },
     "execution_count": 19,
     "metadata": {},
     "output_type": "execute_result"
    }
   ],
   "source": [
    "may_titles"
   ]
  },
  {
   "cell_type": "code",
   "execution_count": 15,
   "metadata": {},
   "outputs": [],
   "source": [
    "with open('title_list_may.txt','w',encoding='UTF-8') as f:\n",
    "    for dates in may_titles:\n",
    "        num = str(may_titles.index(dates) + 1)\n",
    "        f.write('\\n'+ '['+num+']' +'\\n\\n')\n",
    "        for titles in dates:\n",
    "            f.write(titles+'\\n')\n",
    "\n",
    "        "
   ]
  }
 ],
 "metadata": {
  "interpreter": {
   "hash": "d49957daa954e6bec9f177fc046718ee074770fab86eb9520507fb7fbdbef1cf"
  },
  "kernelspec": {
   "display_name": "Python 3.8.13 ('NLP')",
   "language": "python",
   "name": "python3"
  },
  "language_info": {
   "codemirror_mode": {
    "name": "ipython",
    "version": 3
   },
   "file_extension": ".py",
   "mimetype": "text/x-python",
   "name": "python",
   "nbconvert_exporter": "python",
   "pygments_lexer": "ipython3",
   "version": "3.8.13"
  },
  "orig_nbformat": 4
 },
 "nbformat": 4,
 "nbformat_minor": 2
}
