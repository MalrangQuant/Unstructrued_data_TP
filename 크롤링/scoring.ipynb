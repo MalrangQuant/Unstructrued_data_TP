{
 "cells": [
  {
   "cell_type": "code",
   "execution_count": 6,
   "metadata": {},
   "outputs": [],
   "source": [
    "import crawling\n",
    "import scoring\n",
    "import FinanceDataReader as fdr"
   ]
  },
  {
   "cell_type": "code",
   "execution_count": 7,
   "metadata": {},
   "outputs": [],
   "source": [
    "stocks = fdr.StockListing('KRX')\n",
    "stockcode = stocks[['Symbol', 'Market', 'Name']]"
   ]
  },
  {
   "cell_type": "code",
   "execution_count": 8,
   "metadata": {},
   "outputs": [
    {
     "name": "stdout",
     "output_type": "stream",
     "text": [
      "Loading page number 1...\n",
      "Loading page number 2...\n",
      "Loading page number 3...\n",
      "Loading page number 4...\n",
      "Loading page number 5...\n",
      "Loading page number 6...\n",
      "Loading page number 7...\n",
      "Loading page number 8...\n",
      "Loading page number 9...\n",
      "Loading page number 10...\n",
      "Loading page number 11...\n",
      "Loading page number 12...\n",
      "Loading page number 13...\n",
      "Loading page number 14...\n",
      "Loading page number 15...\n",
      "Loading page number 16...\n",
      "Loading page number 17...\n",
      "Loading page number 18...\n",
      "Loading page number 19...\n",
      "Loading page number 20...\n",
      "Loading page number 21...\n",
      "Loading page number 22...\n",
      "Loading page number 23...\n",
      "Loading page number 24...\n",
      "Loading page number 25...\n",
      "Loading page number 26...\n",
      "Loading page number 27...\n",
      "Loading page number 28...\n",
      "Loading page number 29...\n",
      "Loading page number 30...\n",
      "Loading page number 31...\n",
      "Loading page number 32...\n",
      "Loading page number 33...\n",
      "Loading page number 34...\n",
      "Loading page number 35...\n",
      "Loading page number 36...\n",
      "Loading page number 37...\n",
      "Loading page number 1...\n",
      "Loading page number 2...\n",
      "Loading page number 3...\n",
      "Loading page number 4...\n",
      "Loading page number 5...\n",
      "Loading page number 6...\n",
      "Loading page number 7...\n",
      "Loading page number 8...\n",
      "Loading page number 9...\n",
      "Loading page number 10...\n",
      "Loading page number 11...\n",
      "Loading page number 12...\n",
      "Loading page number 13...\n",
      "Loading page number 14...\n",
      "Loading page number 15...\n",
      "Loading page number 16...\n",
      "Loading page number 17...\n",
      "Loading page number 18...\n",
      "Loading page number 19...\n",
      "Loading page number 20...\n"
     ]
    }
   ],
   "source": [
    "data = crawling.consensus_crawling_DB()\n",
    "data_ago = crawling.consensus_crawling_DB_a_month_ago()"
   ]
  },
  {
   "cell_type": "code",
   "execution_count": 9,
   "metadata": {},
   "outputs": [
    {
     "data": {
      "text/plain": [
       "0.8836601307189542"
      ]
     },
     "execution_count": 9,
     "metadata": {},
     "output_type": "execute_result"
    }
   ],
   "source": [
    "scoring.achievement_ratio('삼성전자', data)"
   ]
  },
  {
   "cell_type": "code",
   "execution_count": 10,
   "metadata": {},
   "outputs": [
    {
     "data": {
      "text/plain": [
       "0.9473684210526315"
      ]
     },
     "execution_count": 10,
     "metadata": {},
     "output_type": "execute_result"
    }
   ],
   "source": [
    "scoring.target_change('삼성전자', data, data_ago)"
   ]
  },
  {
   "cell_type": "code",
   "execution_count": 11,
   "metadata": {},
   "outputs": [
    {
     "data": {
      "text/plain": [
       "0.9047619047619048"
      ]
     },
     "execution_count": 11,
     "metadata": {},
     "output_type": "execute_result"
    }
   ],
   "source": [
    "scoring.reply_vol('대한항공')"
   ]
  },
  {
   "cell_type": "code",
   "execution_count": null,
   "metadata": {},
   "outputs": [],
   "source": []
  }
 ],
 "metadata": {
  "interpreter": {
   "hash": "bca74a17e6e881de8497ffcd8d3fbf4452fb5a58519a17007de6c5dfef921e47"
  },
  "kernelspec": {
   "display_name": "Python 3.8.13 ('my_env')",
   "language": "python",
   "name": "python3"
  },
  "language_info": {
   "codemirror_mode": {
    "name": "ipython",
    "version": 3
   },
   "file_extension": ".py",
   "mimetype": "text/x-python",
   "name": "python",
   "nbconvert_exporter": "python",
   "pygments_lexer": "ipython3",
   "version": "3.8.13"
  },
  "orig_nbformat": 4
 },
 "nbformat": 4,
 "nbformat_minor": 2
}
