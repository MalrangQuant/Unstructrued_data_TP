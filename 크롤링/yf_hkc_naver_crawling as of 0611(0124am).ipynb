{
 "cells": [
  {
   "cell_type": "markdown",
   "metadata": {},
   "source": [
    "# 1.상장법인 코드 추출하기(yahoo finance)"
   ]
  },
  {
   "cell_type": "code",
   "execution_count": 1,
   "metadata": {},
   "outputs": [],
   "source": [
    "# 코스닥, 코스피 종목코드 yf에서 추출\n",
    "import pandas as pd\n",
    "import FinanceDataReader as fdr"
   ]
  },
  {
   "cell_type": "code",
   "execution_count": 2,
   "metadata": {},
   "outputs": [],
   "source": [
    "stocks = fdr.StockListing('KRX')"
   ]
  },
  {
   "cell_type": "code",
   "execution_count": 3,
   "metadata": {},
   "outputs": [
    {
     "data": {
      "text/html": [
       "<div>\n",
       "<style scoped>\n",
       "    .dataframe tbody tr th:only-of-type {\n",
       "        vertical-align: middle;\n",
       "    }\n",
       "\n",
       "    .dataframe tbody tr th {\n",
       "        vertical-align: top;\n",
       "    }\n",
       "\n",
       "    .dataframe thead th {\n",
       "        text-align: right;\n",
       "    }\n",
       "</style>\n",
       "<table border=\"1\" class=\"dataframe\">\n",
       "  <thead>\n",
       "    <tr style=\"text-align: right;\">\n",
       "      <th></th>\n",
       "      <th>Symbol</th>\n",
       "      <th>Market</th>\n",
       "      <th>Name</th>\n",
       "      <th>Sector</th>\n",
       "      <th>Industry</th>\n",
       "      <th>ListingDate</th>\n",
       "      <th>SettleMonth</th>\n",
       "      <th>Representative</th>\n",
       "      <th>HomePage</th>\n",
       "      <th>Region</th>\n",
       "    </tr>\n",
       "  </thead>\n",
       "  <tbody>\n",
       "    <tr>\n",
       "      <th>0</th>\n",
       "      <td>060310</td>\n",
       "      <td>KOSDAQ</td>\n",
       "      <td>3S</td>\n",
       "      <td>전자부품 제조업</td>\n",
       "      <td>반도체 웨이퍼 캐리어</td>\n",
       "      <td>2002-04-23</td>\n",
       "      <td>03월</td>\n",
       "      <td>김세완</td>\n",
       "      <td>http://www.3sref.com</td>\n",
       "      <td>서울특별시</td>\n",
       "    </tr>\n",
       "    <tr>\n",
       "      <th>1</th>\n",
       "      <td>095570</td>\n",
       "      <td>KOSPI</td>\n",
       "      <td>AJ네트웍스</td>\n",
       "      <td>산업용 기계 및 장비 임대업</td>\n",
       "      <td>렌탈(파렛트, OA장비, 건설장비)</td>\n",
       "      <td>2015-08-21</td>\n",
       "      <td>12월</td>\n",
       "      <td>박대현, 손삼달</td>\n",
       "      <td>http://www.ajnet.co.kr</td>\n",
       "      <td>서울특별시</td>\n",
       "    </tr>\n",
       "    <tr>\n",
       "      <th>2</th>\n",
       "      <td>006840</td>\n",
       "      <td>KOSPI</td>\n",
       "      <td>AK홀딩스</td>\n",
       "      <td>기타 금융업</td>\n",
       "      <td>지주사업</td>\n",
       "      <td>1999-08-11</td>\n",
       "      <td>12월</td>\n",
       "      <td>채형석, 이석주(각자 대표이사)</td>\n",
       "      <td>http://www.aekyunggroup.co.kr</td>\n",
       "      <td>서울특별시</td>\n",
       "    </tr>\n",
       "    <tr>\n",
       "      <th>3</th>\n",
       "      <td>054620</td>\n",
       "      <td>KOSDAQ</td>\n",
       "      <td>APS홀딩스</td>\n",
       "      <td>기타 금융업</td>\n",
       "      <td>인터넷 트래픽 솔루션</td>\n",
       "      <td>2001-12-04</td>\n",
       "      <td>12월</td>\n",
       "      <td>정기로</td>\n",
       "      <td>http://www.apsholdings.co.kr</td>\n",
       "      <td>경기도</td>\n",
       "    </tr>\n",
       "    <tr>\n",
       "      <th>4</th>\n",
       "      <td>265520</td>\n",
       "      <td>KOSDAQ</td>\n",
       "      <td>AP시스템</td>\n",
       "      <td>특수 목적용 기계 제조업</td>\n",
       "      <td>디스플레이 제조 장비</td>\n",
       "      <td>2017-04-07</td>\n",
       "      <td>12월</td>\n",
       "      <td>김영주</td>\n",
       "      <td>http://www.apsystems.co.kr</td>\n",
       "      <td>경기도</td>\n",
       "    </tr>\n",
       "    <tr>\n",
       "      <th>...</th>\n",
       "      <td>...</td>\n",
       "      <td>...</td>\n",
       "      <td>...</td>\n",
       "      <td>...</td>\n",
       "      <td>...</td>\n",
       "      <td>...</td>\n",
       "      <td>...</td>\n",
       "      <td>...</td>\n",
       "      <td>...</td>\n",
       "      <td>...</td>\n",
       "    </tr>\n",
       "    <tr>\n",
       "      <th>7339</th>\n",
       "      <td>003280</td>\n",
       "      <td>KOSPI</td>\n",
       "      <td>흥아해운</td>\n",
       "      <td>해상 운송업</td>\n",
       "      <td>외항화물운송업(케미컬탱커)</td>\n",
       "      <td>1976-06-29</td>\n",
       "      <td>12월</td>\n",
       "      <td>이환구</td>\n",
       "      <td>http://www.heung-a.com</td>\n",
       "      <td>서울특별시</td>\n",
       "    </tr>\n",
       "    <tr>\n",
       "      <th>7340</th>\n",
       "      <td>037440</td>\n",
       "      <td>KOSDAQ</td>\n",
       "      <td>희림</td>\n",
       "      <td>건축기술, 엔지니어링 및 관련 기술 서비스업</td>\n",
       "      <td>설계 및 감리용역</td>\n",
       "      <td>2000-02-03</td>\n",
       "      <td>12월</td>\n",
       "      <td>정영균, 이목운, 허철호 (각자대표)</td>\n",
       "      <td>http://www.heerim.com</td>\n",
       "      <td>서울특별시</td>\n",
       "    </tr>\n",
       "    <tr>\n",
       "      <th>7341</th>\n",
       "      <td>419890</td>\n",
       "      <td>KOSPI</td>\n",
       "      <td>히어로즈 단기채권ESG액티브</td>\n",
       "      <td>NaN</td>\n",
       "      <td>NaN</td>\n",
       "      <td>NaT</td>\n",
       "      <td>NaN</td>\n",
       "      <td>NaN</td>\n",
       "      <td>NaN</td>\n",
       "      <td>NaN</td>\n",
       "    </tr>\n",
       "    <tr>\n",
       "      <th>7342</th>\n",
       "      <td>429870</td>\n",
       "      <td>KOSPI</td>\n",
       "      <td>히어로즈 리츠이지스액티브</td>\n",
       "      <td>NaN</td>\n",
       "      <td>NaN</td>\n",
       "      <td>NaT</td>\n",
       "      <td>NaN</td>\n",
       "      <td>NaN</td>\n",
       "      <td>NaN</td>\n",
       "      <td>NaN</td>\n",
       "    </tr>\n",
       "    <tr>\n",
       "      <th>7343</th>\n",
       "      <td>238490</td>\n",
       "      <td>KOSDAQ</td>\n",
       "      <td>힘스</td>\n",
       "      <td>특수 목적용 기계 제조업</td>\n",
       "      <td>OLED Mask 인장기, OLED Mask 검사기 등</td>\n",
       "      <td>2017-07-20</td>\n",
       "      <td>12월</td>\n",
       "      <td>김주환</td>\n",
       "      <td>http://www.hims.co.kr</td>\n",
       "      <td>인천광역시</td>\n",
       "    </tr>\n",
       "  </tbody>\n",
       "</table>\n",
       "<p>7344 rows × 10 columns</p>\n",
       "</div>"
      ],
      "text/plain": [
       "      Symbol  Market             Name                    Sector  \\\n",
       "0     060310  KOSDAQ               3S                  전자부품 제조업   \n",
       "1     095570   KOSPI           AJ네트웍스           산업용 기계 및 장비 임대업   \n",
       "2     006840   KOSPI            AK홀딩스                    기타 금융업   \n",
       "3     054620  KOSDAQ           APS홀딩스                    기타 금융업   \n",
       "4     265520  KOSDAQ            AP시스템             특수 목적용 기계 제조업   \n",
       "...      ...     ...              ...                       ...   \n",
       "7339  003280   KOSPI             흥아해운                    해상 운송업   \n",
       "7340  037440  KOSDAQ               희림  건축기술, 엔지니어링 및 관련 기술 서비스업   \n",
       "7341  419890   KOSPI  히어로즈 단기채권ESG액티브                       NaN   \n",
       "7342  429870   KOSPI    히어로즈 리츠이지스액티브                       NaN   \n",
       "7343  238490  KOSDAQ               힘스             특수 목적용 기계 제조업   \n",
       "\n",
       "                            Industry ListingDate SettleMonth  \\\n",
       "0                        반도체 웨이퍼 캐리어  2002-04-23         03월   \n",
       "1                렌탈(파렛트, OA장비, 건설장비)  2015-08-21         12월   \n",
       "2                               지주사업  1999-08-11         12월   \n",
       "3                        인터넷 트래픽 솔루션  2001-12-04         12월   \n",
       "4                        디스플레이 제조 장비  2017-04-07         12월   \n",
       "...                              ...         ...         ...   \n",
       "7339                  외항화물운송업(케미컬탱커)  1976-06-29         12월   \n",
       "7340                       설계 및 감리용역  2000-02-03         12월   \n",
       "7341                             NaN         NaT         NaN   \n",
       "7342                             NaN         NaT         NaN   \n",
       "7343  OLED Mask 인장기, OLED Mask 검사기 등  2017-07-20         12월   \n",
       "\n",
       "            Representative                       HomePage Region  \n",
       "0                      김세완           http://www.3sref.com  서울특별시  \n",
       "1                 박대현, 손삼달         http://www.ajnet.co.kr  서울특별시  \n",
       "2        채형석, 이석주(각자 대표이사)  http://www.aekyunggroup.co.kr  서울특별시  \n",
       "3                      정기로   http://www.apsholdings.co.kr    경기도  \n",
       "4                      김영주     http://www.apsystems.co.kr    경기도  \n",
       "...                    ...                            ...    ...  \n",
       "7339                   이환구         http://www.heung-a.com  서울특별시  \n",
       "7340  정영균, 이목운, 허철호 (각자대표)          http://www.heerim.com  서울특별시  \n",
       "7341                   NaN                            NaN    NaN  \n",
       "7342                   NaN                            NaN    NaN  \n",
       "7343                   김주환          http://www.hims.co.kr  인천광역시  \n",
       "\n",
       "[7344 rows x 10 columns]"
      ]
     },
     "execution_count": 3,
     "metadata": {},
     "output_type": "execute_result"
    }
   ],
   "source": [
    "stocks"
   ]
  },
  {
   "cell_type": "code",
   "execution_count": 4,
   "metadata": {},
   "outputs": [],
   "source": [
    "stockcode = stocks[['Symbol', 'Market', 'Name']]"
   ]
  },
  {
   "cell_type": "code",
   "execution_count": 5,
   "metadata": {},
   "outputs": [
    {
     "data": {
      "text/html": [
       "<div>\n",
       "<style scoped>\n",
       "    .dataframe tbody tr th:only-of-type {\n",
       "        vertical-align: middle;\n",
       "    }\n",
       "\n",
       "    .dataframe tbody tr th {\n",
       "        vertical-align: top;\n",
       "    }\n",
       "\n",
       "    .dataframe thead th {\n",
       "        text-align: right;\n",
       "    }\n",
       "</style>\n",
       "<table border=\"1\" class=\"dataframe\">\n",
       "  <thead>\n",
       "    <tr style=\"text-align: right;\">\n",
       "      <th></th>\n",
       "      <th>Symbol</th>\n",
       "      <th>Market</th>\n",
       "      <th>Name</th>\n",
       "    </tr>\n",
       "  </thead>\n",
       "  <tbody>\n",
       "    <tr>\n",
       "      <th>0</th>\n",
       "      <td>060310</td>\n",
       "      <td>KOSDAQ</td>\n",
       "      <td>3S</td>\n",
       "    </tr>\n",
       "    <tr>\n",
       "      <th>1</th>\n",
       "      <td>095570</td>\n",
       "      <td>KOSPI</td>\n",
       "      <td>AJ네트웍스</td>\n",
       "    </tr>\n",
       "    <tr>\n",
       "      <th>2</th>\n",
       "      <td>006840</td>\n",
       "      <td>KOSPI</td>\n",
       "      <td>AK홀딩스</td>\n",
       "    </tr>\n",
       "    <tr>\n",
       "      <th>3</th>\n",
       "      <td>054620</td>\n",
       "      <td>KOSDAQ</td>\n",
       "      <td>APS홀딩스</td>\n",
       "    </tr>\n",
       "    <tr>\n",
       "      <th>4</th>\n",
       "      <td>265520</td>\n",
       "      <td>KOSDAQ</td>\n",
       "      <td>AP시스템</td>\n",
       "    </tr>\n",
       "  </tbody>\n",
       "</table>\n",
       "</div>"
      ],
      "text/plain": [
       "   Symbol  Market    Name\n",
       "0  060310  KOSDAQ      3S\n",
       "1  095570   KOSPI  AJ네트웍스\n",
       "2  006840   KOSPI   AK홀딩스\n",
       "3  054620  KOSDAQ  APS홀딩스\n",
       "4  265520  KOSDAQ   AP시스템"
      ]
     },
     "execution_count": 5,
     "metadata": {},
     "output_type": "execute_result"
    }
   ],
   "source": [
    "stockcode.head()"
   ]
  },
  {
   "cell_type": "code",
   "execution_count": 6,
   "metadata": {},
   "outputs": [],
   "source": [
    "# 해당하는 종목코드 추출\n",
    "def code(stock):\n",
    "    a = stockcode[stockcode['Name'] == stock]\n",
    "    a_code = a['Symbol'].item()\n",
    "    a_market = a['Market'].item()\n",
    "    if a_market == 'KOSPI':\n",
    "        a_market = '.KS'\n",
    "    elif a_market == 'KOSDAQ':\n",
    "        a_market = '.KQ'\n",
    "    return a_code + a_market\n",
    "    "
   ]
  },
  {
   "cell_type": "code",
   "execution_count": 7,
   "metadata": {},
   "outputs": [
    {
     "data": {
      "text/plain": [
       "'005930'"
      ]
     },
     "execution_count": 7,
     "metadata": {},
     "output_type": "execute_result"
    }
   ],
   "source": [
    "code('삼성전자')[:6]"
   ]
  },
  {
   "cell_type": "markdown",
   "metadata": {},
   "source": [
    "# 2. 야후파이낸스에서 원하는 종목 수익률과 한달치 일별 수익률 변동 확인"
   ]
  },
  {
   "cell_type": "code",
   "execution_count": 8,
   "metadata": {},
   "outputs": [],
   "source": [
    "import yfinance as yf\n",
    "from datetime import date, timedelta\n",
    "from dateutil.relativedelta import relativedelta\n",
    "import matplotlib as plt"
   ]
  },
  {
   "cell_type": "code",
   "execution_count": 9,
   "metadata": {},
   "outputs": [],
   "source": [
    "# 날짜: 자동으로 설정\n",
    "# 티커: 함수이용\n",
    "\n",
    "# 어제 수익률 보기\n",
    "def yesterday_rtn(name):\n",
    "    a = code(name)\n",
    "    today = date.today()\n",
    "    weekago = date.today() - relativedelta(weeks=1)\n",
    " \n",
    "    df = yf.download(a, start=str(weekago), end=str(today), progess=False)\n",
    "    df['daily_rtn'] = df['Adj Close'].pct_change()\n",
    "    last_rtn = df['daily_rtn'][-1:].item()\n",
    "    return last_rtn\n",
    "\n",
    "# 한달동안 일별 수익률 추이 보기\n",
    "def monthly_rtn_graph(name):\n",
    "    a = code(name)\n",
    "    today = date.today()\n",
    "    monthago = date.today() - relativedelta(months=1)\n",
    "\n",
    "    df = yf.download(a, start=str(monthago), end=str(today), progess=False)\n",
    "    df['daily_rtn'] = df['Adj Close'].pct_change()\n",
    "\n",
    "    return df['daily_rtn'].plot()"
   ]
  },
  {
   "cell_type": "code",
   "execution_count": 10,
   "metadata": {},
   "outputs": [
    {
     "name": "stdout",
     "output_type": "stream",
     "text": [
      "[*********************100%***********************]  1 of 1 completed\n"
     ]
    },
    {
     "data": {
      "text/plain": [
       "-0.0015313935681470214"
      ]
     },
     "execution_count": 10,
     "metadata": {},
     "output_type": "execute_result"
    }
   ],
   "source": [
    "yesterday_rtn('삼성전자')"
   ]
  },
  {
   "cell_type": "code",
   "execution_count": 11,
   "metadata": {},
   "outputs": [
    {
     "name": "stdout",
     "output_type": "stream",
     "text": [
      "[*********************100%***********************]  1 of 1 completed\n"
     ]
    },
    {
     "data": {
      "text/plain": [
       "<AxesSubplot:xlabel='Date'>"
      ]
     },
     "execution_count": 11,
     "metadata": {},
     "output_type": "execute_result"
    },
    {
     "data": {
      "image/png": "[encoded data removed]",
      "text/plain": [
       "<Figure size 432x288 with 1 Axes>"
      ]
     },
     "metadata": {
      "needs_background": "light"
     },
     "output_type": "display_data"
    }
   ],
   "source": [
    "monthly_rtn_graph('삼성전자')"
   ]
  },
  {
   "cell_type": "markdown",
   "metadata": {},
   "source": [
    "# 3. 한경컨센서스\n"
   ]
  },
  {
   "cell_type": "code",
   "execution_count": 12,
   "metadata": {},
   "outputs": [],
   "source": [
    "import requests\n",
    "from bs4 import BeautifulSoup\n",
    "import time\n",
    "import pandas as pd\n",
    "import FinanceDataReader as fdr\n",
    "import re\n",
    "from datetime import date, timedelta\n",
    "from dateutil.relativedelta import relativedelta\n",
    "import numpy as np"
   ]
  },
  {
   "cell_type": "code",
   "execution_count": 13,
   "metadata": {},
   "outputs": [],
   "source": [
    "today = date.today()\n",
    "monthago = date.today() - relativedelta(months=1)"
   ]
  },
  {
   "cell_type": "code",
   "execution_count": 14,
   "metadata": {},
   "outputs": [],
   "source": [
    "# stocks = fdr.StockListing('KRX') # 코스피, 코스닥, 코넥스 전체"
   ]
  },
  {
   "cell_type": "code",
   "execution_count": 15,
   "metadata": {},
   "outputs": [],
   "source": [
    "stocks['Symbol'] = stocks['Symbol'].astype(str)\n",
    "def remove_noise_and_split_title(title):\n",
    "    in_code = ''\n",
    "    in_name = ''\n",
    "    \n",
    "    for code, name in stocks[['Symbol', 'Name']].values:\n",
    "        if code in title and name in title:\n",
    "            in_code = code\n",
    "            in_name = name\n",
    "    \n",
    "    # 한글, 영어, 숫자 외 노이즈 제거\n",
    "    clean_title = re.sub('[^A-Za-z0-9가-힣]', ' ', title)\n",
    "    \n",
    "    # 기업명 코드 수정\n",
    "    clean_title = clean_title.replace(in_code, ' ')\n",
    "    clean_title = clean_title.replace(in_name, ' ')\n",
    "    while ' ' * 2 in clean_title:\n",
    "        clean_title = clean_title.replace(' ' * 2, ' ')\n",
    "    \n",
    "    if in_name == '': # 기업명이 없는 제목이라면, 데이터에 추가하지 않음\n",
    "        return [None] \n",
    "    else:\n",
    "        return [in_name, in_code, clean_title]  "
   ]
  },
  {
   "cell_type": "code",
   "execution_count": 16,
   "id": "ebfabe8c",
   "metadata": {},
   "outputs": [
    {
     "name": "stdout",
     "output_type": "stream",
     "text": [
      "1/37\n",
      "2/37\n",
      "3/37\n",
      "4/37\n",
      "5/37\n",
      "6/37\n",
      "7/37\n",
      "8/37\n",
      "9/37\n",
      "10/37\n",
      "11/37\n",
      "12/37\n",
      "13/37\n",
      "14/37\n",
      "15/37\n",
      "16/37\n",
      "17/37\n",
      "18/37\n",
      "19/37\n",
      "20/37\n",
      "21/37\n",
      "22/37\n",
      "23/37\n",
      "24/37\n",
      "25/37\n",
      "26/37\n",
      "27/37\n",
      "28/37\n",
      "29/37\n",
      "30/37\n",
      "31/37\n",
      "32/37\n",
      "33/37\n"
     ]
    },
    {
     "ename": "KeyboardInterrupt",
     "evalue": "",
     "output_type": "error",
     "traceback": [
      "\u001b[1;31m---------------------------------------------------------------------------\u001b[0m",
      "\u001b[1;31mKeyboardInterrupt\u001b[0m                         Traceback (most recent call last)",
      "\u001b[1;32mc:\\Users\\po020\\Desktop\\KAIST\\2022\\MFE 1-1\\비정형데이터\\yf_hkc_naver_crawling as of 0608.ipynb Cell 19'\u001b[0m in \u001b[0;36m<cell line: 5>\u001b[1;34m()\u001b[0m\n\u001b[0;32m     <a href='vscode-notebook-cell:/c%3A/Users/po020/Desktop/KAIST/2022/MFE%201-1/%EB%B9%84%EC%A0%95%ED%98%95%EB%8D%B0%EC%9D%B4%ED%84%B0/yf_hkc_naver_crawling%20as%20of%200608.ipynb#ch0000018?line=26'>27</a>\u001b[0m         \u001b[39mif\u001b[39;00m \u001b[39mNone\u001b[39;00m \u001b[39mnot\u001b[39;00m \u001b[39min\u001b[39;00m record: \u001b[39m# 레코드에 None이 없으면\u001b[39;00m\n\u001b[0;32m     <a href='vscode-notebook-cell:/c%3A/Users/po020/Desktop/KAIST/2022/MFE%201-1/%EB%B9%84%EC%A0%95%ED%98%95%EB%8D%B0%EC%9D%B4%ED%84%B0/yf_hkc_naver_crawling%20as%20of%200608.ipynb#ch0000018?line=27'>28</a>\u001b[0m             data\u001b[39m.\u001b[39mappend(record)\n\u001b[1;32m---> <a href='vscode-notebook-cell:/c%3A/Users/po020/Desktop/KAIST/2022/MFE%201-1/%EB%B9%84%EC%A0%95%ED%98%95%EB%8D%B0%EC%9D%B4%ED%84%B0/yf_hkc_naver_crawling%20as%20of%200608.ipynb#ch0000018?line=29'>30</a>\u001b[0m     time\u001b[39m.\u001b[39;49msleep(\u001b[39m1\u001b[39;49m) \u001b[39m# 연결 끊김 방지를 위해, 1초씩 재움\u001b[39;00m\n\u001b[0;32m     <a href='vscode-notebook-cell:/c%3A/Users/po020/Desktop/KAIST/2022/MFE%201-1/%EB%B9%84%EC%A0%95%ED%98%95%EB%8D%B0%EC%9D%B4%ED%84%B0/yf_hkc_naver_crawling%20as%20of%200608.ipynb#ch0000018?line=31'>32</a>\u001b[0m data \u001b[39m=\u001b[39m pd\u001b[39m.\u001b[39mDataFrame(data, columns \u001b[39m=\u001b[39m [\u001b[39m\"\u001b[39m\u001b[39m작성일\u001b[39m\u001b[39m\"\u001b[39m, \u001b[39m\"\u001b[39m\u001b[39m종목명\u001b[39m\u001b[39m\"\u001b[39m, \u001b[39m\"\u001b[39m\u001b[39m종목코드\u001b[39m\u001b[39m\"\u001b[39m, \u001b[39m\"\u001b[39m\u001b[39m제목\u001b[39m\u001b[39m\"\u001b[39m, \u001b[39m\"\u001b[39m\u001b[39m적정가격\u001b[39m\u001b[39m\"\u001b[39m, \u001b[39m\"\u001b[39m\u001b[39m평가의견\u001b[39m\u001b[39m\"\u001b[39m, \u001b[39m\"\u001b[39m\u001b[39m작성자\u001b[39m\u001b[39m\"\u001b[39m, \u001b[39m\"\u001b[39m\u001b[39m작성기관\u001b[39m\u001b[39m\"\u001b[39m])\n\u001b[0;32m     <a href='vscode-notebook-cell:/c%3A/Users/po020/Desktop/KAIST/2022/MFE%201-1/%EB%B9%84%EC%A0%95%ED%98%95%EB%8D%B0%EC%9D%B4%ED%84%B0/yf_hkc_naver_crawling%20as%20of%200608.ipynb#ch0000018?line=32'>33</a>\u001b[0m data\u001b[39m.\u001b[39mto_csv(\u001b[39m\"\u001b[39m\u001b[39m리포트_데이터.csv\u001b[39m\u001b[39m\"\u001b[39m, index \u001b[39m=\u001b[39m \u001b[39mFalse\u001b[39;00m, encoding \u001b[39m=\u001b[39m \u001b[39m\"\u001b[39m\u001b[39mcp949\u001b[39m\u001b[39m\"\u001b[39m)\n",
      "\u001b[1;31mKeyboardInterrupt\u001b[0m: "
     ]
    }
   ],
   "source": [
    "# \"http://consensus.hankyung.com/apps.analysis/analysis.list?&sdate=2016-09-01&edate=2021-08-31&report_type=CO&order_type=&now_page={}\"\n",
    "base_url = \"http://hkconsensus.hankyung.com/apps.analysis/analysis.list?&sdate=%s&edate=%s&report_type=CO&order_type=&now_page={}\"%(monthago, today) #오늘부터 한달전꺼 까지\n",
    "data = [] \n",
    "\n",
    "for page_no in range(1,37):\n",
    "    while True:\n",
    "        try:\n",
    "            url = base_url.format(page_no)\n",
    "            html = requests.get(url, headers={'User-Agent':'Gils'}).content\n",
    "            soup = BeautifulSoup(html, 'lxml')\n",
    "            print(\"{}/{}\".format(page_no, '37'))\n",
    "            break\n",
    "        except:\n",
    "            time.sleep(15 * 60)\n",
    "\n",
    "    table = soup.find(\"div\", {\"class\":\"table_style01\"}).find('table')\n",
    "    for tr in table.find_all(\"tr\")[1:]: # 1번째 행부터 순회\n",
    "        record = []\n",
    "        for i, td in enumerate(tr.find_all(\"td\")[:6]): # 6번째 셀까지 순회\n",
    "            if i == 1:\n",
    "                record += remove_noise_and_split_title(td.text) # remove_noise_title의 출력과 이어 붙임\n",
    "            elif i == 3: # 노이즈가 껴있는 세번째 셀만 따로 처리\n",
    "                record.append(td.text.replace(\" \", \"\").replace(\"\\r\",\"\").replace(\"\\n\",\"\"))\n",
    "            else: # 1번째 셀이 아니면:\n",
    "                record.append(td.text) # 셀의 텍스트 값 그대로 입력\n",
    "            \n",
    "        if None not in record: # 레코드에 None이 없으면\n",
    "            data.append(record)\n",
    "\n",
    "    time.sleep(1) # 연결 끊김 방지를 위해, 1초씩 재움\n",
    "    \n",
    "data = pd.DataFrame(data, columns = [\"작성일\", \"종목명\", \"종목코드\", \"제목\", \"적정가격\", \"평가의견\", \"작성자\", \"작성기관\"])\n",
    "data.to_csv(\"리포트_데이터.csv\", index = False, encoding = \"cp949\")"
   ]
  },
  {
   "cell_type": "code",
   "execution_count": null,
   "metadata": {},
   "outputs": [],
   "source": [
    "def buy_sell(name):\n",
    "    buyorsell = data[data['종목코드'] == code(name)[:6]]['평가의견']\n",
    "    buyorsell[:1]"
   ]
  },
  {
   "cell_type": "code",
   "execution_count": null,
   "metadata": {},
   "outputs": [
    {
     "data": {
      "text/html": [
       "<div>\n",
       "<style scoped>\n",
       "    .dataframe tbody tr th:only-of-type {\n",
       "        vertical-align: middle;\n",
       "    }\n",
       "\n",
       "    .dataframe tbody tr th {\n",
       "        vertical-align: top;\n",
       "    }\n",
       "\n",
       "    .dataframe thead th {\n",
       "        text-align: right;\n",
       "    }\n",
       "</style>\n",
       "<table border=\"1\" class=\"dataframe\">\n",
       "  <thead>\n",
       "    <tr style=\"text-align: right;\">\n",
       "      <th></th>\n",
       "      <th>작성일</th>\n",
       "      <th>종목명</th>\n",
       "      <th>종목코드</th>\n",
       "      <th>제목</th>\n",
       "      <th>적정가격</th>\n",
       "      <th>평가의견</th>\n",
       "      <th>작성자</th>\n",
       "      <th>작성기관</th>\n",
       "    </tr>\n",
       "  </thead>\n",
       "  <tbody>\n",
       "    <tr>\n",
       "      <th>625</th>\n",
       "      <td>2022-05-10</td>\n",
       "      <td>롯데쇼핑</td>\n",
       "      <td>023530</td>\n",
       "      <td>1Q22 리뷰 견고해 지는 펀더멘털 1Q22 리뷰 견고해 지는 펀더멘털 1Q22 ...</td>\n",
       "      <td>150,000</td>\n",
       "      <td>Buy</td>\n",
       "      <td>이진협</td>\n",
       "      <td>유안타증권</td>\n",
       "    </tr>\n",
       "    <tr>\n",
       "      <th>626</th>\n",
       "      <td>2022-05-10</td>\n",
       "      <td>CJ제일제당</td>\n",
       "      <td>097950</td>\n",
       "      <td>기대치 상회 바이오 주도 기대치 상회 바이오 주도 1Q22 Review 기대치 상...</td>\n",
       "      <td>560,000</td>\n",
       "      <td>Buy</td>\n",
       "      <td>박은정</td>\n",
       "      <td>유안타증권</td>\n",
       "    </tr>\n",
       "    <tr>\n",
       "      <th>627</th>\n",
       "      <td>2022-05-10</td>\n",
       "      <td>BGF리테일</td>\n",
       "      <td>282330</td>\n",
       "      <td>1Q22 리뷰 성수기엔 얼마나 잘하려고 1Q22 리뷰 성수기엔 얼마나 잘하려고 1...</td>\n",
       "      <td>250,000</td>\n",
       "      <td>Buy</td>\n",
       "      <td>이진협</td>\n",
       "      <td>유안타증권</td>\n",
       "    </tr>\n",
       "    <tr>\n",
       "      <th>628</th>\n",
       "      <td>2022-05-10</td>\n",
       "      <td>한섬</td>\n",
       "      <td>020000</td>\n",
       "      <td>1Q22 Review 내수주가 편하다 1Q22 Review 내수주가 편하다 1Q2...</td>\n",
       "      <td>55,000</td>\n",
       "      <td>Buy</td>\n",
       "      <td>하누리</td>\n",
       "      <td>메리츠증권</td>\n",
       "    </tr>\n",
       "    <tr>\n",
       "      <th>629</th>\n",
       "      <td>2022-05-10</td>\n",
       "      <td>이노션</td>\n",
       "      <td>214320</td>\n",
       "      <td>1분기 실적 시장 컨센서스 상회 1분기 실적 시장 컨센서스 상회 1Q22 Revi...</td>\n",
       "      <td>76,000</td>\n",
       "      <td>Buy</td>\n",
       "      <td>이환욱</td>\n",
       "      <td>IBK투자증권</td>\n",
       "    </tr>\n",
       "  </tbody>\n",
       "</table>\n",
       "</div>"
      ],
      "text/plain": [
       "            작성일     종목명    종목코드  \\\n",
       "625  2022-05-10    롯데쇼핑  023530   \n",
       "626  2022-05-10  CJ제일제당  097950   \n",
       "627  2022-05-10  BGF리테일  282330   \n",
       "628  2022-05-10      한섬  020000   \n",
       "629  2022-05-10     이노션  214320   \n",
       "\n",
       "                                                    제목     적정가격 평가의견  작성자  \\\n",
       "625   1Q22 리뷰 견고해 지는 펀더멘털 1Q22 리뷰 견고해 지는 펀더멘털 1Q22 ...  150,000  Buy  이진협   \n",
       "626   기대치 상회 바이오 주도 기대치 상회 바이오 주도 1Q22 Review 기대치 상...  560,000  Buy  박은정   \n",
       "627   1Q22 리뷰 성수기엔 얼마나 잘하려고 1Q22 리뷰 성수기엔 얼마나 잘하려고 1...  250,000  Buy  이진협   \n",
       "628   1Q22 Review 내수주가 편하다 1Q22 Review 내수주가 편하다 1Q2...   55,000  Buy  하누리   \n",
       "629   1분기 실적 시장 컨센서스 상회 1분기 실적 시장 컨센서스 상회 1Q22 Revi...   76,000  Buy  이환욱   \n",
       "\n",
       "        작성기관  \n",
       "625    유안타증권  \n",
       "626    유안타증권  \n",
       "627    유안타증권  \n",
       "628    메리츠증권  \n",
       "629  IBK투자증권  "
      ]
     },
     "execution_count": 18,
     "metadata": {},
     "output_type": "execute_result"
    }
   ],
   "source": [
    "data.tail()"
   ]
  },
  {
   "cell_type": "code",
   "execution_count": null,
   "metadata": {},
   "outputs": [],
   "source": [
    "def monthly_opinion(name):\n",
    "    buyorsell = data[data['종목코드'] == code(name)[:6]]\n",
    "    buyorsell = buyorsell[['작성일','작성기관','평가의견']]\n",
    "    return buyorsell"
   ]
  },
  {
   "cell_type": "code",
   "execution_count": null,
   "metadata": {},
   "outputs": [],
   "source": [
    "# buyorsell_recent[:, np.newaxis]"
   ]
  },
  {
   "cell_type": "code",
   "execution_count": null,
   "metadata": {},
   "outputs": [],
   "source": [
    "# 1차 완성\n",
    "def mystock(name):\n",
    "    print(yesterday_rtn(name))\n",
    "    print(monthly_opinion(name))"
   ]
  },
  {
   "cell_type": "code",
   "execution_count": null,
   "metadata": {},
   "outputs": [
    {
     "name": "stdout",
     "output_type": "stream",
     "text": [
      "[*********************100%***********************]  1 of 1 completed\n",
      "0.007547169811320753\n",
      "            작성일    작성기관 평가의견\n",
      "71   2022-06-02  유진투자증권  Buy\n",
      "144  2022-05-31   메리츠증권  Buy\n"
     ]
    }
   ],
   "source": [
    "mystock('OCI')"
   ]
  },
  {
   "cell_type": "markdown",
   "metadata": {},
   "source": []
  },
  {
   "cell_type": "markdown",
   "metadata": {},
   "source": [
    "# 4. 종토방 댓글 내용 / 갯수 count 하기"
   ]
  },
  {
   "cell_type": "code",
   "execution_count": null,
   "metadata": {},
   "outputs": [],
   "source": [
    "\n",
    "# url = \"https://finance.naver.com/item/board.naver?code=%s&page=1\"%code('삼성전자')[:6]\n",
    "\n",
    "# headers = { 'User-Agent': 'Mozilla/5.0 (Windows NT 6.0; WOW64; rv:24.0) Gecko/20100101 Firefox/24.0' }\n",
    "\n",
    "# resp = requests.get(url, headers=headers)\n",
    "\n",
    "# soup = BeautifulSoup(resp.text, \"html.parser\")\n",
    "\n",
    "# reply_date = soup.find_all('span', {'class':'tah p10 gray03'})"
   ]
  },
  {
   "cell_type": "code",
   "execution_count": null,
   "metadata": {},
   "outputs": [
    {
     "data": {
      "text/plain": [
       "'010060.KS'"
      ]
     },
     "execution_count": 24,
     "metadata": {},
     "output_type": "execute_result"
    }
   ],
   "source": [
    "code('OCI')"
   ]
  },
  {
   "cell_type": "code",
   "execution_count": null,
   "metadata": {},
   "outputs": [
    {
     "ename": "NameError",
     "evalue": "name 'name' is not defined",
     "output_type": "error",
     "traceback": [
      "\u001b[1;31m---------------------------------------------------------------------------\u001b[0m",
      "\u001b[1;31mNameError\u001b[0m                                 Traceback (most recent call last)",
      "\u001b[1;32mc:\\Users\\po020\\Desktop\\KAIST\\2022\\MFE 1-1\\비정형데이터\\yf_hkc_naver_crawling as of 0608.ipynb Cell 30'\u001b[0m in \u001b[0;36m<cell line: 1>\u001b[1;34m()\u001b[0m\n\u001b[1;32m----> <a href='vscode-notebook-cell:/c%3A/Users/po020/Desktop/KAIST/2022/MFE%201-1/%EB%B9%84%EC%A0%95%ED%98%95%EB%8D%B0%EC%9D%B4%ED%84%B0/yf_hkc_naver_crawling%20as%20of%200608.ipynb#ch0000029?line=0'>1</a>\u001b[0m base_url_2 \u001b[39m=\u001b[39m \u001b[39m\"\u001b[39m\u001b[39mhttps://finance.naver.com/item/board.naver?code=\u001b[39m\u001b[39m%s\u001b[39;00m\u001b[39m&page=\u001b[39m\u001b[39m{}\u001b[39;00m\u001b[39m\"\u001b[39m\u001b[39m%\u001b[39m(code(name))\n\u001b[0;32m      <a href='vscode-notebook-cell:/c%3A/Users/po020/Desktop/KAIST/2022/MFE%201-1/%EB%B9%84%EC%A0%95%ED%98%95%EB%8D%B0%EC%9D%B4%ED%84%B0/yf_hkc_naver_crawling%20as%20of%200608.ipynb#ch0000029?line=2'>3</a>\u001b[0m \u001b[39mdef\u001b[39;00m \u001b[39mnaver_crawling\u001b[39m(name):\n\u001b[0;32m      <a href='vscode-notebook-cell:/c%3A/Users/po020/Desktop/KAIST/2022/MFE%201-1/%EB%B9%84%EC%A0%95%ED%98%95%EB%8D%B0%EC%9D%B4%ED%84%B0/yf_hkc_naver_crawling%20as%20of%200608.ipynb#ch0000029?line=3'>4</a>\u001b[0m     b \u001b[39m=\u001b[39m []\n",
      "\u001b[1;31mNameError\u001b[0m: name 'name' is not defined"
     ]
    }
   ],
   "source": [
    "base_url_2 = \"https://finance.naver.com/item/board.naver?code=%s&page={}\"%(code(name))\n",
    "\n",
    "def naver_crawling(name):\n",
    "    b = []\n",
    "    \n",
    "    for i in range(1001):\n",
    "        url = base_url_2.format(i)\n",
    "        headers = { 'User-Agent': 'Mozilla/5.0 (Windows NT 6.0; WOW64; rv:24.0) Gecko/20100101 Firefox/24.0' }\n",
    "\n",
    "        resp = requests.get(url, headers=headers)\n",
    "        soup = BeautifulSoup(resp.text, \"html.parser\")\n",
    "        reply_date = soup.find_all('span', {'class':'tah p10 gray03'})\n",
    "        \n",
    "        for i in reply_date:\n",
    "            b.append(i.string)\n",
    "    return b\n",
    "# find('reply_date')['tah p10 gray03']"
   ]
  },
  {
   "cell_type": "code",
   "execution_count": null,
   "metadata": {},
   "outputs": [
    {
     "ename": "KeyboardInterrupt",
     "evalue": "",
     "output_type": "error",
     "traceback": [
      "\u001b[1;31m---------------------------------------------------------------------------\u001b[0m",
      "\u001b[1;31mKeyboardInterrupt\u001b[0m                         Traceback (most recent call last)",
      "\u001b[1;32mc:\\Users\\po020\\Desktop\\KAIST\\2022\\MFE 1-1\\비정형데이터\\yf_hkc_naver_crawling.ipynb Cell 31'\u001b[0m in \u001b[0;36m<cell line: 1>\u001b[1;34m()\u001b[0m\n\u001b[1;32m----> <a href='vscode-notebook-cell:/c%3A/Users/po020/Desktop/KAIST/2022/MFE%201-1/%EB%B9%84%EC%A0%95%ED%98%95%EB%8D%B0%EC%9D%B4%ED%84%B0/yf_hkc_naver_crawling.ipynb#ch0000035?line=0'>1</a>\u001b[0m naver_crawling(\u001b[39m100\u001b[39;49m)\n",
      "\u001b[1;32mc:\\Users\\po020\\Desktop\\KAIST\\2022\\MFE 1-1\\비정형데이터\\yf_hkc_naver_crawling.ipynb Cell 30'\u001b[0m in \u001b[0;36mnaver_crawling\u001b[1;34m(name)\u001b[0m\n\u001b[0;32m      <a href='vscode-notebook-cell:/c%3A/Users/po020/Desktop/KAIST/2022/MFE%201-1/%EB%B9%84%EC%A0%95%ED%98%95%EB%8D%B0%EC%9D%B4%ED%84%B0/yf_hkc_naver_crawling.ipynb#ch0000030?line=3'>4</a>\u001b[0m url \u001b[39m=\u001b[39m \u001b[39m\"\u001b[39m\u001b[39mhttps://finance.naver.com/item/board.naver?code=005930&page=\u001b[39m\u001b[39m%s\u001b[39;00m\u001b[39m\"\u001b[39m\u001b[39m%\u001b[39mi\n\u001b[0;32m      <a href='vscode-notebook-cell:/c%3A/Users/po020/Desktop/KAIST/2022/MFE%201-1/%EB%B9%84%EC%A0%95%ED%98%95%EB%8D%B0%EC%9D%B4%ED%84%B0/yf_hkc_naver_crawling.ipynb#ch0000030?line=4'>5</a>\u001b[0m headers \u001b[39m=\u001b[39m { \u001b[39m'\u001b[39m\u001b[39mUser-Agent\u001b[39m\u001b[39m'\u001b[39m: \u001b[39m'\u001b[39m\u001b[39mMozilla/5.0 (Windows NT 6.0; WOW64; rv:24.0) Gecko/20100101 Firefox/24.0\u001b[39m\u001b[39m'\u001b[39m }\n\u001b[1;32m----> <a href='vscode-notebook-cell:/c%3A/Users/po020/Desktop/KAIST/2022/MFE%201-1/%EB%B9%84%EC%A0%95%ED%98%95%EB%8D%B0%EC%9D%B4%ED%84%B0/yf_hkc_naver_crawling.ipynb#ch0000030?line=6'>7</a>\u001b[0m resp \u001b[39m=\u001b[39m requests\u001b[39m.\u001b[39;49mget(url, headers\u001b[39m=\u001b[39;49mheaders)\n\u001b[0;32m      <a href='vscode-notebook-cell:/c%3A/Users/po020/Desktop/KAIST/2022/MFE%201-1/%EB%B9%84%EC%A0%95%ED%98%95%EB%8D%B0%EC%9D%B4%ED%84%B0/yf_hkc_naver_crawling.ipynb#ch0000030?line=7'>8</a>\u001b[0m soup \u001b[39m=\u001b[39m BeautifulSoup(resp\u001b[39m.\u001b[39mtext, \u001b[39m\"\u001b[39m\u001b[39mhtml.parser\u001b[39m\u001b[39m\"\u001b[39m)\n\u001b[0;32m      <a href='vscode-notebook-cell:/c%3A/Users/po020/Desktop/KAIST/2022/MFE%201-1/%EB%B9%84%EC%A0%95%ED%98%95%EB%8D%B0%EC%9D%B4%ED%84%B0/yf_hkc_naver_crawling.ipynb#ch0000030?line=8'>9</a>\u001b[0m reply_date \u001b[39m=\u001b[39m soup\u001b[39m.\u001b[39mfind_all(\u001b[39m'\u001b[39m\u001b[39mspan\u001b[39m\u001b[39m'\u001b[39m, {\u001b[39m'\u001b[39m\u001b[39mclass\u001b[39m\u001b[39m'\u001b[39m:\u001b[39m'\u001b[39m\u001b[39mtah p10 gray03\u001b[39m\u001b[39m'\u001b[39m})\n",
      "File \u001b[1;32mc:\\Users\\po020\\anaconda3\\lib\\site-packages\\requests\\api.py:75\u001b[0m, in \u001b[0;36mget\u001b[1;34m(url, params, **kwargs)\u001b[0m\n\u001b[0;32m     <a href='file:///c%3A/Users/po020/anaconda3/lib/site-packages/requests/api.py?line=63'>64</a>\u001b[0m \u001b[39mdef\u001b[39;00m \u001b[39mget\u001b[39m(url, params\u001b[39m=\u001b[39m\u001b[39mNone\u001b[39;00m, \u001b[39m*\u001b[39m\u001b[39m*\u001b[39mkwargs):\n\u001b[0;32m     <a href='file:///c%3A/Users/po020/anaconda3/lib/site-packages/requests/api.py?line=64'>65</a>\u001b[0m     \u001b[39mr\u001b[39m\u001b[39m\"\"\"Sends a GET request.\u001b[39;00m\n\u001b[0;32m     <a href='file:///c%3A/Users/po020/anaconda3/lib/site-packages/requests/api.py?line=65'>66</a>\u001b[0m \n\u001b[0;32m     <a href='file:///c%3A/Users/po020/anaconda3/lib/site-packages/requests/api.py?line=66'>67</a>\u001b[0m \u001b[39m    :param url: URL for the new :class:`Request` object.\u001b[39;00m\n\u001b[1;32m   (...)\u001b[0m\n\u001b[0;32m     <a href='file:///c%3A/Users/po020/anaconda3/lib/site-packages/requests/api.py?line=71'>72</a>\u001b[0m \u001b[39m    :rtype: requests.Response\u001b[39;00m\n\u001b[0;32m     <a href='file:///c%3A/Users/po020/anaconda3/lib/site-packages/requests/api.py?line=72'>73</a>\u001b[0m \u001b[39m    \"\"\"\u001b[39;00m\n\u001b[1;32m---> <a href='file:///c%3A/Users/po020/anaconda3/lib/site-packages/requests/api.py?line=74'>75</a>\u001b[0m     \u001b[39mreturn\u001b[39;00m request(\u001b[39m'\u001b[39;49m\u001b[39mget\u001b[39;49m\u001b[39m'\u001b[39;49m, url, params\u001b[39m=\u001b[39;49mparams, \u001b[39m*\u001b[39;49m\u001b[39m*\u001b[39;49mkwargs)\n",
      "File \u001b[1;32mc:\\Users\\po020\\anaconda3\\lib\\site-packages\\requests\\api.py:61\u001b[0m, in \u001b[0;36mrequest\u001b[1;34m(method, url, **kwargs)\u001b[0m\n\u001b[0;32m     <a href='file:///c%3A/Users/po020/anaconda3/lib/site-packages/requests/api.py?line=56'>57</a>\u001b[0m \u001b[39m# By using the 'with' statement we are sure the session is closed, thus we\u001b[39;00m\n\u001b[0;32m     <a href='file:///c%3A/Users/po020/anaconda3/lib/site-packages/requests/api.py?line=57'>58</a>\u001b[0m \u001b[39m# avoid leaving sockets open which can trigger a ResourceWarning in some\u001b[39;00m\n\u001b[0;32m     <a href='file:///c%3A/Users/po020/anaconda3/lib/site-packages/requests/api.py?line=58'>59</a>\u001b[0m \u001b[39m# cases, and look like a memory leak in others.\u001b[39;00m\n\u001b[0;32m     <a href='file:///c%3A/Users/po020/anaconda3/lib/site-packages/requests/api.py?line=59'>60</a>\u001b[0m \u001b[39mwith\u001b[39;00m sessions\u001b[39m.\u001b[39mSession() \u001b[39mas\u001b[39;00m session:\n\u001b[1;32m---> <a href='file:///c%3A/Users/po020/anaconda3/lib/site-packages/requests/api.py?line=60'>61</a>\u001b[0m     \u001b[39mreturn\u001b[39;00m session\u001b[39m.\u001b[39;49mrequest(method\u001b[39m=\u001b[39;49mmethod, url\u001b[39m=\u001b[39;49murl, \u001b[39m*\u001b[39;49m\u001b[39m*\u001b[39;49mkwargs)\n",
      "File \u001b[1;32mc:\\Users\\po020\\anaconda3\\lib\\site-packages\\requests\\sessions.py:529\u001b[0m, in \u001b[0;36mSession.request\u001b[1;34m(self, method, url, params, data, headers, cookies, files, auth, timeout, allow_redirects, proxies, hooks, stream, verify, cert, json)\u001b[0m\n\u001b[0;32m    <a href='file:///c%3A/Users/po020/anaconda3/lib/site-packages/requests/sessions.py?line=523'>524</a>\u001b[0m send_kwargs \u001b[39m=\u001b[39m {\n\u001b[0;32m    <a href='file:///c%3A/Users/po020/anaconda3/lib/site-packages/requests/sessions.py?line=524'>525</a>\u001b[0m     \u001b[39m'\u001b[39m\u001b[39mtimeout\u001b[39m\u001b[39m'\u001b[39m: timeout,\n\u001b[0;32m    <a href='file:///c%3A/Users/po020/anaconda3/lib/site-packages/requests/sessions.py?line=525'>526</a>\u001b[0m     \u001b[39m'\u001b[39m\u001b[39mallow_redirects\u001b[39m\u001b[39m'\u001b[39m: allow_redirects,\n\u001b[0;32m    <a href='file:///c%3A/Users/po020/anaconda3/lib/site-packages/requests/sessions.py?line=526'>527</a>\u001b[0m }\n\u001b[0;32m    <a href='file:///c%3A/Users/po020/anaconda3/lib/site-packages/requests/sessions.py?line=527'>528</a>\u001b[0m send_kwargs\u001b[39m.\u001b[39mupdate(settings)\n\u001b[1;32m--> <a href='file:///c%3A/Users/po020/anaconda3/lib/site-packages/requests/sessions.py?line=528'>529</a>\u001b[0m resp \u001b[39m=\u001b[39m \u001b[39mself\u001b[39;49m\u001b[39m.\u001b[39;49msend(prep, \u001b[39m*\u001b[39;49m\u001b[39m*\u001b[39;49msend_kwargs)\n\u001b[0;32m    <a href='file:///c%3A/Users/po020/anaconda3/lib/site-packages/requests/sessions.py?line=530'>531</a>\u001b[0m \u001b[39mreturn\u001b[39;00m resp\n",
      "File \u001b[1;32mc:\\Users\\po020\\anaconda3\\lib\\site-packages\\requests\\sessions.py:645\u001b[0m, in \u001b[0;36mSession.send\u001b[1;34m(self, request, **kwargs)\u001b[0m\n\u001b[0;32m    <a href='file:///c%3A/Users/po020/anaconda3/lib/site-packages/requests/sessions.py?line=641'>642</a>\u001b[0m start \u001b[39m=\u001b[39m preferred_clock()\n\u001b[0;32m    <a href='file:///c%3A/Users/po020/anaconda3/lib/site-packages/requests/sessions.py?line=643'>644</a>\u001b[0m \u001b[39m# Send the request\u001b[39;00m\n\u001b[1;32m--> <a href='file:///c%3A/Users/po020/anaconda3/lib/site-packages/requests/sessions.py?line=644'>645</a>\u001b[0m r \u001b[39m=\u001b[39m adapter\u001b[39m.\u001b[39;49msend(request, \u001b[39m*\u001b[39;49m\u001b[39m*\u001b[39;49mkwargs)\n\u001b[0;32m    <a href='file:///c%3A/Users/po020/anaconda3/lib/site-packages/requests/sessions.py?line=646'>647</a>\u001b[0m \u001b[39m# Total elapsed time of the request (approximately)\u001b[39;00m\n\u001b[0;32m    <a href='file:///c%3A/Users/po020/anaconda3/lib/site-packages/requests/sessions.py?line=647'>648</a>\u001b[0m elapsed \u001b[39m=\u001b[39m preferred_clock() \u001b[39m-\u001b[39m start\n",
      "File \u001b[1;32mc:\\Users\\po020\\anaconda3\\lib\\site-packages\\requests\\adapters.py:440\u001b[0m, in \u001b[0;36mHTTPAdapter.send\u001b[1;34m(self, request, stream, timeout, verify, cert, proxies)\u001b[0m\n\u001b[0;32m    <a href='file:///c%3A/Users/po020/anaconda3/lib/site-packages/requests/adapters.py?line=437'>438</a>\u001b[0m \u001b[39mtry\u001b[39;00m:\n\u001b[0;32m    <a href='file:///c%3A/Users/po020/anaconda3/lib/site-packages/requests/adapters.py?line=438'>439</a>\u001b[0m     \u001b[39mif\u001b[39;00m \u001b[39mnot\u001b[39;00m chunked:\n\u001b[1;32m--> <a href='file:///c%3A/Users/po020/anaconda3/lib/site-packages/requests/adapters.py?line=439'>440</a>\u001b[0m         resp \u001b[39m=\u001b[39m conn\u001b[39m.\u001b[39;49murlopen(\n\u001b[0;32m    <a href='file:///c%3A/Users/po020/anaconda3/lib/site-packages/requests/adapters.py?line=440'>441</a>\u001b[0m             method\u001b[39m=\u001b[39;49mrequest\u001b[39m.\u001b[39;49mmethod,\n\u001b[0;32m    <a href='file:///c%3A/Users/po020/anaconda3/lib/site-packages/requests/adapters.py?line=441'>442</a>\u001b[0m             url\u001b[39m=\u001b[39;49murl,\n\u001b[0;32m    <a href='file:///c%3A/Users/po020/anaconda3/lib/site-packages/requests/adapters.py?line=442'>443</a>\u001b[0m             body\u001b[39m=\u001b[39;49mrequest\u001b[39m.\u001b[39;49mbody,\n\u001b[0;32m    <a href='file:///c%3A/Users/po020/anaconda3/lib/site-packages/requests/adapters.py?line=443'>444</a>\u001b[0m             headers\u001b[39m=\u001b[39;49mrequest\u001b[39m.\u001b[39;49mheaders,\n\u001b[0;32m    <a href='file:///c%3A/Users/po020/anaconda3/lib/site-packages/requests/adapters.py?line=444'>445</a>\u001b[0m             redirect\u001b[39m=\u001b[39;49m\u001b[39mFalse\u001b[39;49;00m,\n\u001b[0;32m    <a href='file:///c%3A/Users/po020/anaconda3/lib/site-packages/requests/adapters.py?line=445'>446</a>\u001b[0m             assert_same_host\u001b[39m=\u001b[39;49m\u001b[39mFalse\u001b[39;49;00m,\n\u001b[0;32m    <a href='file:///c%3A/Users/po020/anaconda3/lib/site-packages/requests/adapters.py?line=446'>447</a>\u001b[0m             preload_content\u001b[39m=\u001b[39;49m\u001b[39mFalse\u001b[39;49;00m,\n\u001b[0;32m    <a href='file:///c%3A/Users/po020/anaconda3/lib/site-packages/requests/adapters.py?line=447'>448</a>\u001b[0m             decode_content\u001b[39m=\u001b[39;49m\u001b[39mFalse\u001b[39;49;00m,\n\u001b[0;32m    <a href='file:///c%3A/Users/po020/anaconda3/lib/site-packages/requests/adapters.py?line=448'>449</a>\u001b[0m             retries\u001b[39m=\u001b[39;49m\u001b[39mself\u001b[39;49m\u001b[39m.\u001b[39;49mmax_retries,\n\u001b[0;32m    <a href='file:///c%3A/Users/po020/anaconda3/lib/site-packages/requests/adapters.py?line=449'>450</a>\u001b[0m             timeout\u001b[39m=\u001b[39;49mtimeout\n\u001b[0;32m    <a href='file:///c%3A/Users/po020/anaconda3/lib/site-packages/requests/adapters.py?line=450'>451</a>\u001b[0m         )\n\u001b[0;32m    <a href='file:///c%3A/Users/po020/anaconda3/lib/site-packages/requests/adapters.py?line=452'>453</a>\u001b[0m     \u001b[39m# Send the request.\u001b[39;00m\n\u001b[0;32m    <a href='file:///c%3A/Users/po020/anaconda3/lib/site-packages/requests/adapters.py?line=453'>454</a>\u001b[0m     \u001b[39melse\u001b[39;00m:\n\u001b[0;32m    <a href='file:///c%3A/Users/po020/anaconda3/lib/site-packages/requests/adapters.py?line=454'>455</a>\u001b[0m         \u001b[39mif\u001b[39;00m \u001b[39mhasattr\u001b[39m(conn, \u001b[39m'\u001b[39m\u001b[39mproxy_pool\u001b[39m\u001b[39m'\u001b[39m):\n",
      "File \u001b[1;32mc:\\Users\\po020\\anaconda3\\lib\\site-packages\\urllib3\\connectionpool.py:703\u001b[0m, in \u001b[0;36mHTTPConnectionPool.urlopen\u001b[1;34m(self, method, url, body, headers, retries, redirect, assert_same_host, timeout, pool_timeout, release_conn, chunked, body_pos, **response_kw)\u001b[0m\n\u001b[0;32m    <a href='file:///c%3A/Users/po020/anaconda3/lib/site-packages/urllib3/connectionpool.py?line=699'>700</a>\u001b[0m     \u001b[39mself\u001b[39m\u001b[39m.\u001b[39m_prepare_proxy(conn)\n\u001b[0;32m    <a href='file:///c%3A/Users/po020/anaconda3/lib/site-packages/urllib3/connectionpool.py?line=701'>702</a>\u001b[0m \u001b[39m# Make the request on the httplib connection object.\u001b[39;00m\n\u001b[1;32m--> <a href='file:///c%3A/Users/po020/anaconda3/lib/site-packages/urllib3/connectionpool.py?line=702'>703</a>\u001b[0m httplib_response \u001b[39m=\u001b[39m \u001b[39mself\u001b[39;49m\u001b[39m.\u001b[39;49m_make_request(\n\u001b[0;32m    <a href='file:///c%3A/Users/po020/anaconda3/lib/site-packages/urllib3/connectionpool.py?line=703'>704</a>\u001b[0m     conn,\n\u001b[0;32m    <a href='file:///c%3A/Users/po020/anaconda3/lib/site-packages/urllib3/connectionpool.py?line=704'>705</a>\u001b[0m     method,\n\u001b[0;32m    <a href='file:///c%3A/Users/po020/anaconda3/lib/site-packages/urllib3/connectionpool.py?line=705'>706</a>\u001b[0m     url,\n\u001b[0;32m    <a href='file:///c%3A/Users/po020/anaconda3/lib/site-packages/urllib3/connectionpool.py?line=706'>707</a>\u001b[0m     timeout\u001b[39m=\u001b[39;49mtimeout_obj,\n\u001b[0;32m    <a href='file:///c%3A/Users/po020/anaconda3/lib/site-packages/urllib3/connectionpool.py?line=707'>708</a>\u001b[0m     body\u001b[39m=\u001b[39;49mbody,\n\u001b[0;32m    <a href='file:///c%3A/Users/po020/anaconda3/lib/site-packages/urllib3/connectionpool.py?line=708'>709</a>\u001b[0m     headers\u001b[39m=\u001b[39;49mheaders,\n\u001b[0;32m    <a href='file:///c%3A/Users/po020/anaconda3/lib/site-packages/urllib3/connectionpool.py?line=709'>710</a>\u001b[0m     chunked\u001b[39m=\u001b[39;49mchunked,\n\u001b[0;32m    <a href='file:///c%3A/Users/po020/anaconda3/lib/site-packages/urllib3/connectionpool.py?line=710'>711</a>\u001b[0m )\n\u001b[0;32m    <a href='file:///c%3A/Users/po020/anaconda3/lib/site-packages/urllib3/connectionpool.py?line=712'>713</a>\u001b[0m \u001b[39m# If we're going to release the connection in ``finally:``, then\u001b[39;00m\n\u001b[0;32m    <a href='file:///c%3A/Users/po020/anaconda3/lib/site-packages/urllib3/connectionpool.py?line=713'>714</a>\u001b[0m \u001b[39m# the response doesn't need to know about the connection. Otherwise\u001b[39;00m\n\u001b[0;32m    <a href='file:///c%3A/Users/po020/anaconda3/lib/site-packages/urllib3/connectionpool.py?line=714'>715</a>\u001b[0m \u001b[39m# it will also try to release it and we'll have a double-release\u001b[39;00m\n\u001b[0;32m    <a href='file:///c%3A/Users/po020/anaconda3/lib/site-packages/urllib3/connectionpool.py?line=715'>716</a>\u001b[0m \u001b[39m# mess.\u001b[39;00m\n\u001b[0;32m    <a href='file:///c%3A/Users/po020/anaconda3/lib/site-packages/urllib3/connectionpool.py?line=716'>717</a>\u001b[0m response_conn \u001b[39m=\u001b[39m conn \u001b[39mif\u001b[39;00m \u001b[39mnot\u001b[39;00m release_conn \u001b[39melse\u001b[39;00m \u001b[39mNone\u001b[39;00m\n",
      "File \u001b[1;32mc:\\Users\\po020\\anaconda3\\lib\\site-packages\\urllib3\\connectionpool.py:449\u001b[0m, in \u001b[0;36mHTTPConnectionPool._make_request\u001b[1;34m(self, conn, method, url, timeout, chunked, **httplib_request_kw)\u001b[0m\n\u001b[0;32m    <a href='file:///c%3A/Users/po020/anaconda3/lib/site-packages/urllib3/connectionpool.py?line=443'>444</a>\u001b[0m             httplib_response \u001b[39m=\u001b[39m conn\u001b[39m.\u001b[39mgetresponse()\n\u001b[0;32m    <a href='file:///c%3A/Users/po020/anaconda3/lib/site-packages/urllib3/connectionpool.py?line=444'>445</a>\u001b[0m         \u001b[39mexcept\u001b[39;00m \u001b[39mBaseException\u001b[39;00m \u001b[39mas\u001b[39;00m e:\n\u001b[0;32m    <a href='file:///c%3A/Users/po020/anaconda3/lib/site-packages/urllib3/connectionpool.py?line=445'>446</a>\u001b[0m             \u001b[39m# Remove the TypeError from the exception chain in\u001b[39;00m\n\u001b[0;32m    <a href='file:///c%3A/Users/po020/anaconda3/lib/site-packages/urllib3/connectionpool.py?line=446'>447</a>\u001b[0m             \u001b[39m# Python 3 (including for exceptions like SystemExit).\u001b[39;00m\n\u001b[0;32m    <a href='file:///c%3A/Users/po020/anaconda3/lib/site-packages/urllib3/connectionpool.py?line=447'>448</a>\u001b[0m             \u001b[39m# Otherwise it looks like a bug in the code.\u001b[39;00m\n\u001b[1;32m--> <a href='file:///c%3A/Users/po020/anaconda3/lib/site-packages/urllib3/connectionpool.py?line=448'>449</a>\u001b[0m             six\u001b[39m.\u001b[39;49mraise_from(e, \u001b[39mNone\u001b[39;49;00m)\n\u001b[0;32m    <a href='file:///c%3A/Users/po020/anaconda3/lib/site-packages/urllib3/connectionpool.py?line=449'>450</a>\u001b[0m \u001b[39mexcept\u001b[39;00m (SocketTimeout, BaseSSLError, SocketError) \u001b[39mas\u001b[39;00m e:\n\u001b[0;32m    <a href='file:///c%3A/Users/po020/anaconda3/lib/site-packages/urllib3/connectionpool.py?line=450'>451</a>\u001b[0m     \u001b[39mself\u001b[39m\u001b[39m.\u001b[39m_raise_timeout(err\u001b[39m=\u001b[39me, url\u001b[39m=\u001b[39murl, timeout_value\u001b[39m=\u001b[39mread_timeout)\n",
      "File \u001b[1;32m<string>:3\u001b[0m, in \u001b[0;36mraise_from\u001b[1;34m(value, from_value)\u001b[0m\n",
      "File \u001b[1;32mc:\\Users\\po020\\anaconda3\\lib\\site-packages\\urllib3\\connectionpool.py:444\u001b[0m, in \u001b[0;36mHTTPConnectionPool._make_request\u001b[1;34m(self, conn, method, url, timeout, chunked, **httplib_request_kw)\u001b[0m\n\u001b[0;32m    <a href='file:///c%3A/Users/po020/anaconda3/lib/site-packages/urllib3/connectionpool.py?line=440'>441</a>\u001b[0m \u001b[39mexcept\u001b[39;00m \u001b[39mTypeError\u001b[39;00m:\n\u001b[0;32m    <a href='file:///c%3A/Users/po020/anaconda3/lib/site-packages/urllib3/connectionpool.py?line=441'>442</a>\u001b[0m     \u001b[39m# Python 3\u001b[39;00m\n\u001b[0;32m    <a href='file:///c%3A/Users/po020/anaconda3/lib/site-packages/urllib3/connectionpool.py?line=442'>443</a>\u001b[0m     \u001b[39mtry\u001b[39;00m:\n\u001b[1;32m--> <a href='file:///c%3A/Users/po020/anaconda3/lib/site-packages/urllib3/connectionpool.py?line=443'>444</a>\u001b[0m         httplib_response \u001b[39m=\u001b[39m conn\u001b[39m.\u001b[39;49mgetresponse()\n\u001b[0;32m    <a href='file:///c%3A/Users/po020/anaconda3/lib/site-packages/urllib3/connectionpool.py?line=444'>445</a>\u001b[0m     \u001b[39mexcept\u001b[39;00m \u001b[39mBaseException\u001b[39;00m \u001b[39mas\u001b[39;00m e:\n\u001b[0;32m    <a href='file:///c%3A/Users/po020/anaconda3/lib/site-packages/urllib3/connectionpool.py?line=445'>446</a>\u001b[0m         \u001b[39m# Remove the TypeError from the exception chain in\u001b[39;00m\n\u001b[0;32m    <a href='file:///c%3A/Users/po020/anaconda3/lib/site-packages/urllib3/connectionpool.py?line=446'>447</a>\u001b[0m         \u001b[39m# Python 3 (including for exceptions like SystemExit).\u001b[39;00m\n\u001b[0;32m    <a href='file:///c%3A/Users/po020/anaconda3/lib/site-packages/urllib3/connectionpool.py?line=447'>448</a>\u001b[0m         \u001b[39m# Otherwise it looks like a bug in the code.\u001b[39;00m\n\u001b[0;32m    <a href='file:///c%3A/Users/po020/anaconda3/lib/site-packages/urllib3/connectionpool.py?line=448'>449</a>\u001b[0m         six\u001b[39m.\u001b[39mraise_from(e, \u001b[39mNone\u001b[39;00m)\n",
      "File \u001b[1;32mc:\\Users\\po020\\anaconda3\\lib\\http\\client.py:1348\u001b[0m, in \u001b[0;36mHTTPConnection.getresponse\u001b[1;34m(self)\u001b[0m\n\u001b[0;32m   <a href='file:///c%3A/Users/po020/anaconda3/lib/http/client.py?line=1345'>1346</a>\u001b[0m \u001b[39mtry\u001b[39;00m:\n\u001b[0;32m   <a href='file:///c%3A/Users/po020/anaconda3/lib/http/client.py?line=1346'>1347</a>\u001b[0m     \u001b[39mtry\u001b[39;00m:\n\u001b[1;32m-> <a href='file:///c%3A/Users/po020/anaconda3/lib/http/client.py?line=1347'>1348</a>\u001b[0m         response\u001b[39m.\u001b[39;49mbegin()\n\u001b[0;32m   <a href='file:///c%3A/Users/po020/anaconda3/lib/http/client.py?line=1348'>1349</a>\u001b[0m     \u001b[39mexcept\u001b[39;00m \u001b[39mConnectionError\u001b[39;00m:\n\u001b[0;32m   <a href='file:///c%3A/Users/po020/anaconda3/lib/http/client.py?line=1349'>1350</a>\u001b[0m         \u001b[39mself\u001b[39m\u001b[39m.\u001b[39mclose()\n",
      "File \u001b[1;32mc:\\Users\\po020\\anaconda3\\lib\\http\\client.py:316\u001b[0m, in \u001b[0;36mHTTPResponse.begin\u001b[1;34m(self)\u001b[0m\n\u001b[0;32m    <a href='file:///c%3A/Users/po020/anaconda3/lib/http/client.py?line=313'>314</a>\u001b[0m \u001b[39m# read until we get a non-100 response\u001b[39;00m\n\u001b[0;32m    <a href='file:///c%3A/Users/po020/anaconda3/lib/http/client.py?line=314'>315</a>\u001b[0m \u001b[39mwhile\u001b[39;00m \u001b[39mTrue\u001b[39;00m:\n\u001b[1;32m--> <a href='file:///c%3A/Users/po020/anaconda3/lib/http/client.py?line=315'>316</a>\u001b[0m     version, status, reason \u001b[39m=\u001b[39m \u001b[39mself\u001b[39;49m\u001b[39m.\u001b[39;49m_read_status()\n\u001b[0;32m    <a href='file:///c%3A/Users/po020/anaconda3/lib/http/client.py?line=316'>317</a>\u001b[0m     \u001b[39mif\u001b[39;00m status \u001b[39m!=\u001b[39m CONTINUE:\n\u001b[0;32m    <a href='file:///c%3A/Users/po020/anaconda3/lib/http/client.py?line=317'>318</a>\u001b[0m         \u001b[39mbreak\u001b[39;00m\n",
      "File \u001b[1;32mc:\\Users\\po020\\anaconda3\\lib\\http\\client.py:277\u001b[0m, in \u001b[0;36mHTTPResponse._read_status\u001b[1;34m(self)\u001b[0m\n\u001b[0;32m    <a href='file:///c%3A/Users/po020/anaconda3/lib/http/client.py?line=275'>276</a>\u001b[0m \u001b[39mdef\u001b[39;00m \u001b[39m_read_status\u001b[39m(\u001b[39mself\u001b[39m):\n\u001b[1;32m--> <a href='file:///c%3A/Users/po020/anaconda3/lib/http/client.py?line=276'>277</a>\u001b[0m     line \u001b[39m=\u001b[39m \u001b[39mstr\u001b[39m(\u001b[39mself\u001b[39;49m\u001b[39m.\u001b[39;49mfp\u001b[39m.\u001b[39;49mreadline(_MAXLINE \u001b[39m+\u001b[39;49m \u001b[39m1\u001b[39;49m), \u001b[39m\"\u001b[39m\u001b[39miso-8859-1\u001b[39m\u001b[39m\"\u001b[39m)\n\u001b[0;32m    <a href='file:///c%3A/Users/po020/anaconda3/lib/http/client.py?line=277'>278</a>\u001b[0m     \u001b[39mif\u001b[39;00m \u001b[39mlen\u001b[39m(line) \u001b[39m>\u001b[39m _MAXLINE:\n\u001b[0;32m    <a href='file:///c%3A/Users/po020/anaconda3/lib/http/client.py?line=278'>279</a>\u001b[0m         \u001b[39mraise\u001b[39;00m LineTooLong(\u001b[39m\"\u001b[39m\u001b[39mstatus line\u001b[39m\u001b[39m\"\u001b[39m)\n",
      "File \u001b[1;32mc:\\Users\\po020\\anaconda3\\lib\\socket.py:669\u001b[0m, in \u001b[0;36mSocketIO.readinto\u001b[1;34m(self, b)\u001b[0m\n\u001b[0;32m    <a href='file:///c%3A/Users/po020/anaconda3/lib/socket.py?line=666'>667</a>\u001b[0m \u001b[39mwhile\u001b[39;00m \u001b[39mTrue\u001b[39;00m:\n\u001b[0;32m    <a href='file:///c%3A/Users/po020/anaconda3/lib/socket.py?line=667'>668</a>\u001b[0m     \u001b[39mtry\u001b[39;00m:\n\u001b[1;32m--> <a href='file:///c%3A/Users/po020/anaconda3/lib/socket.py?line=668'>669</a>\u001b[0m         \u001b[39mreturn\u001b[39;00m \u001b[39mself\u001b[39;49m\u001b[39m.\u001b[39;49m_sock\u001b[39m.\u001b[39;49mrecv_into(b)\n\u001b[0;32m    <a href='file:///c%3A/Users/po020/anaconda3/lib/socket.py?line=669'>670</a>\u001b[0m     \u001b[39mexcept\u001b[39;00m timeout:\n\u001b[0;32m    <a href='file:///c%3A/Users/po020/anaconda3/lib/socket.py?line=670'>671</a>\u001b[0m         \u001b[39mself\u001b[39m\u001b[39m.\u001b[39m_timeout_occurred \u001b[39m=\u001b[39m \u001b[39mTrue\u001b[39;00m\n",
      "File \u001b[1;32mc:\\Users\\po020\\anaconda3\\lib\\ssl.py:1241\u001b[0m, in \u001b[0;36mSSLSocket.recv_into\u001b[1;34m(self, buffer, nbytes, flags)\u001b[0m\n\u001b[0;32m   <a href='file:///c%3A/Users/po020/anaconda3/lib/ssl.py?line=1236'>1237</a>\u001b[0m     \u001b[39mif\u001b[39;00m flags \u001b[39m!=\u001b[39m \u001b[39m0\u001b[39m:\n\u001b[0;32m   <a href='file:///c%3A/Users/po020/anaconda3/lib/ssl.py?line=1237'>1238</a>\u001b[0m         \u001b[39mraise\u001b[39;00m \u001b[39mValueError\u001b[39;00m(\n\u001b[0;32m   <a href='file:///c%3A/Users/po020/anaconda3/lib/ssl.py?line=1238'>1239</a>\u001b[0m           \u001b[39m\"\u001b[39m\u001b[39mnon-zero flags not allowed in calls to recv_into() on \u001b[39m\u001b[39m%s\u001b[39;00m\u001b[39m\"\u001b[39m \u001b[39m%\u001b[39m\n\u001b[0;32m   <a href='file:///c%3A/Users/po020/anaconda3/lib/ssl.py?line=1239'>1240</a>\u001b[0m           \u001b[39mself\u001b[39m\u001b[39m.\u001b[39m\u001b[39m__class__\u001b[39m)\n\u001b[1;32m-> <a href='file:///c%3A/Users/po020/anaconda3/lib/ssl.py?line=1240'>1241</a>\u001b[0m     \u001b[39mreturn\u001b[39;00m \u001b[39mself\u001b[39;49m\u001b[39m.\u001b[39;49mread(nbytes, buffer)\n\u001b[0;32m   <a href='file:///c%3A/Users/po020/anaconda3/lib/ssl.py?line=1241'>1242</a>\u001b[0m \u001b[39melse\u001b[39;00m:\n\u001b[0;32m   <a href='file:///c%3A/Users/po020/anaconda3/lib/ssl.py?line=1242'>1243</a>\u001b[0m     \u001b[39mreturn\u001b[39;00m \u001b[39msuper\u001b[39m()\u001b[39m.\u001b[39mrecv_into(buffer, nbytes, flags)\n",
      "File \u001b[1;32mc:\\Users\\po020\\anaconda3\\lib\\ssl.py:1099\u001b[0m, in \u001b[0;36mSSLSocket.read\u001b[1;34m(self, len, buffer)\u001b[0m\n\u001b[0;32m   <a href='file:///c%3A/Users/po020/anaconda3/lib/ssl.py?line=1096'>1097</a>\u001b[0m \u001b[39mtry\u001b[39;00m:\n\u001b[0;32m   <a href='file:///c%3A/Users/po020/anaconda3/lib/ssl.py?line=1097'>1098</a>\u001b[0m     \u001b[39mif\u001b[39;00m buffer \u001b[39mis\u001b[39;00m \u001b[39mnot\u001b[39;00m \u001b[39mNone\u001b[39;00m:\n\u001b[1;32m-> <a href='file:///c%3A/Users/po020/anaconda3/lib/ssl.py?line=1098'>1099</a>\u001b[0m         \u001b[39mreturn\u001b[39;00m \u001b[39mself\u001b[39;49m\u001b[39m.\u001b[39;49m_sslobj\u001b[39m.\u001b[39;49mread(\u001b[39mlen\u001b[39;49m, buffer)\n\u001b[0;32m   <a href='file:///c%3A/Users/po020/anaconda3/lib/ssl.py?line=1099'>1100</a>\u001b[0m     \u001b[39melse\u001b[39;00m:\n\u001b[0;32m   <a href='file:///c%3A/Users/po020/anaconda3/lib/ssl.py?line=1100'>1101</a>\u001b[0m         \u001b[39mreturn\u001b[39;00m \u001b[39mself\u001b[39m\u001b[39m.\u001b[39m_sslobj\u001b[39m.\u001b[39mread(\u001b[39mlen\u001b[39m)\n",
      "\u001b[1;31mKeyboardInterrupt\u001b[0m: "
     ]
    }
   ],
   "source": [
    "naver_crawling(100)"
   ]
  },
  {
   "cell_type": "code",
   "execution_count": null,
   "metadata": {},
   "outputs": [
    {
     "data": {
      "text/plain": [
       "['529', '2022.05.21 01:13', '501', '2022.05.21 01:11', '605']"
      ]
     },
     "execution_count": 189,
     "metadata": {},
     "output_type": "execute_result"
    }
   ],
   "source": [
    "samsung[-5:]"
   ]
  },
  {
   "cell_type": "code",
   "execution_count": null,
   "metadata": {},
   "outputs": [
    {
     "data": {
      "text/plain": [
       "'2022.06.03'"
      ]
     },
     "execution_count": 190,
     "metadata": {},
     "output_type": "execute_result"
    }
   ],
   "source": [
    "# 어제,아레 만들어서 형식 고치기\n",
    "ytd = str(date.today() - relativedelta(days=1))\n",
    "true_ytd = ytd[:4] + '.' + ytd[5:7] + '.' + ytd[8:10]\n",
    "\n",
    "twodaysago = str(date.today() - relativedelta(days=2))\n",
    "twodaysago = twodaysago[:4] + '.' + twodaysago[5:7] + '.' + twodaysago[8:10]\n"
   ]
  },
  {
   "cell_type": "code",
   "execution_count": null,
   "metadata": {},
   "outputs": [
    {
     "data": {
      "text/plain": [
       "-0.26045883940620784"
      ]
     },
     "execution_count": 231,
     "metadata": {},
     "output_type": "execute_result"
    }
   ],
   "source": [
    "# 댓글 갯수 예시\n",
    "temp_minus_1=[]\n",
    "temp_minus_2=[]\n",
    "\n",
    "for i in range(len(samsung)):\n",
    "    if samsung[i][:10] == true_ytd:\n",
    "        temp_minus_1.append(samsung[i])\n",
    "    elif samsung[i][:10] == twodaysago:\n",
    "        temp_minus_2.append(samsung[i])\n",
    "    else:\n",
    "        pass\n",
    "    \n",
    "reply_vol =((len(temp_minus_1) - len(temp_minus_2)) / len(temp_minus_2)) # 아레 대비 어제 댓글 수 변화\n",
    "reply_vol"
   ]
  },
  {
   "cell_type": "code",
   "execution_count": null,
   "metadata": {},
   "outputs": [
    {
     "data": {
      "text/plain": [
       "1096"
      ]
     },
     "execution_count": 198,
     "metadata": {},
     "output_type": "execute_result"
    }
   ],
   "source": [
    "# 2차 완성..을 못했어요....힘드러요.....미안해요....능력부족이에요...\n",
    "def mystock(name):\n",
    "    print(yesterday_rtn(name))\n",
    "    print(monthly_opinion(name))\n",
    "    # print(reply_volatility(name))"
   ]
  },
  {
   "cell_type": "code",
   "execution_count": null,
   "metadata": {},
   "outputs": [],
   "source": []
  },
  {
   "cell_type": "markdown",
   "metadata": {},
   "source": [
    "# 5. 정리"
   ]
  },
  {
   "cell_type": "code",
   "execution_count": 7,
   "metadata": {},
   "outputs": [],
   "source": [
    "import pandas as pd\n",
    "import numpy as np\n",
    "import FinanceDataReader as fdr\n",
    "import yfinance as yf\n",
    "from datetime import date, timedelta\n",
    "import matplotlib as plt\n",
    "import requests\n",
    "from bs4 import BeautifulSoup\n",
    "import time\n",
    "import re\n",
    "from dateutil.relativedelta import relativedelta"
   ]
  },
  {
   "cell_type": "code",
   "execution_count": 4,
   "metadata": {},
   "outputs": [],
   "source": [
    "#함수들 모음\n",
    "\n",
    "# 날짜: 자동으로 설정\n",
    "# 티커: 함수이용\n",
    "\n",
    "# 해당하는 종목코드 추출\n",
    "\n",
    "\n",
    "\n",
    "\n",
    "def code(name):\n",
    "    stocks = fdr.StockListing('KRX')\n",
    "    stockcode = stocks[['Symbol', 'Market', 'Name']]\n",
    "    a = stockcode[stockcode['Name'] == name]\n",
    "    a_code = a['Symbol'].item()\n",
    "    a_market = a['Market'].item()\n",
    "    if a_market == 'KOSPI':\n",
    "        a_market = '.KS'\n",
    "    elif a_market == 'KOSDAQ':\n",
    "        a_market = '.KQ'\n",
    "    return a_code + a_market\n",
    "    \n",
    "# 어제 수익률 보기\n",
    "def yesterday_rtn(name):\n",
    "\n",
    "    b = code(name)\n",
    "    today = date.today()\n",
    "    weekago = date.today() - relativedelta(weeks=1)\n",
    " \n",
    "    df = yf.download(b, start=str(weekago), end=str(today), progess=False)\n",
    "    df['daily_rtn'] = df['Adj Close'].pct_change()\n",
    "    last_rtn = df['daily_rtn'][-1:].item()\n",
    "    return last_rtn\n",
    "\n",
    "# 한달동안 일별 수익률 추이 보기\n",
    "def monthly_rtn_graph(name):\n",
    "    b = code(name)\n",
    "    today = date.today()\n",
    "    monthago = date.today() - relativedelta(months=1)\n",
    "\n",
    "    df = yf.download(b, start=str(monthago), end=str(today), progess=False)\n",
    "    df['daily_rtn'] = df['Adj Close'].pct_change()\n",
    "\n",
    "    return df['daily_rtn'].plot()\n",
    "\n",
    "\n"
   ]
  },
  {
   "cell_type": "code",
   "execution_count": 76,
   "metadata": {},
   "outputs": [],
   "source": [
    "today = date.today()\n",
    "monthago = date.today() - relativedelta(months=1)\n",
    "\n",
    "# 한경컨센서스 전처리작업\n",
    "stocks = fdr.StockListing('KRX')\n",
    "stocks['Symbol'] = stocks['Symbol'].astype(str)\n",
    "def remove_noise_and_split_title(title):\n",
    "    in_code = ''\n",
    "    in_name = ''\n",
    "    \n",
    "    for code, name in stocks[['Symbol', 'Name']].values:\n",
    "        if code in title and name in title:\n",
    "            in_code = code\n",
    "            in_name = name\n",
    "    \n",
    "    # 한글, 영어, 숫자 외 노이즈 제거\n",
    "    clean_title = re.sub('[^A-Za-z0-9가-힣]', ' ', title)\n",
    "    \n",
    "    # 기업명 코드 수정\n",
    "    clean_title = clean_title.replace(in_code, ' ')\n",
    "    clean_title = clean_title.replace(in_name, ' ')\n",
    "    while ' ' * 2 in clean_title:\n",
    "        clean_title = clean_title.replace(' ' * 2, ' ')\n",
    "    \n",
    "    if in_name == '': # 기업명이 없는 제목이라면, 데이터에 추가하지 않음\n",
    "        return [None] \n",
    "    else:\n",
    "        return [in_name, in_code, clean_title]  \n",
    "  \n",
    "# 한경컨센서스 투자의견 불러오기\n",
    "# 한달치만 투자의견 불러오게 설정, 만약 바꾸려변 base_url과 for문의 range 범위 재설정\n",
    "# for문의 range는 한달치가 대부분 35페이지를 넘지 않기 때문에, 40개로 임의로 설정함.\n",
    "def opinion(name):\n",
    "    base_url = \"http://hkconsensus.hankyung.com/apps.analysis/analysis.list?&sdate=%s&edate=%s&report_type=CO&order_type=&now_page={}\"%(monthago, today) #오늘부터 한달전꺼 까지\n",
    "    data = [] \n",
    "\n",
    "    for page_no in range(1,41): \n",
    "        while True:\n",
    "            try:\n",
    "                url = base_url.format(page_no)\n",
    "                html = requests.get(url, headers={'User-Agent':'Gils'}).content\n",
    "                soup = BeautifulSoup(html, 'lxml')\n",
    "                print(\"{}/{}\".format(page_no, '40'))\n",
    "                break\n",
    "            except:\n",
    "                time.sleep(15 * 60)\n",
    "\n",
    "        table = soup.find(\"div\", {\"class\":\"table_style01\"}).find('table')\n",
    "        for tr in table.find_all(\"tr\")[1:]: # 1번째 행부터 순회\n",
    "            record = []\n",
    "            for i, td in enumerate(tr.find_all(\"td\")[:6]): # 6번째 셀까지 순회\n",
    "                if i == 1:\n",
    "                    record += remove_noise_and_split_title(td.text) # remove_noise_title의 출력과 이어 붙임\n",
    "                elif i == 3: # 노이즈가 껴있는 세번째 셀만 따로 처리\n",
    "                    record.append(td.text.replace(\" \", \"\").replace(\"\\r\",\"\").replace(\"\\n\",\"\"))\n",
    "                else: # 1번째 셀이 아니면:\n",
    "                    record.append(td.text) # 셀의 텍스트 값 그대로 입력\n",
    "                \n",
    "            if None not in record: # 레코드에 None이 없으면\n",
    "                data.append(record)\n",
    "\n",
    "        time.sleep(1) # 연결 끊김 방지를 위해, 1초씩 재움\n",
    "        \n",
    "    data = pd.DataFrame(data, columns = [\"작성일\", \"종목명\", \"종목코드\", \"제목\", \"적정가격\", \"평가의견\", \"작성자\", \"작성기관\"])\n",
    "    #data.to_csv(\"./리포트_데이터.csv\", index = False, encoding = \"cp949\") 데이터 저장할때 이용\n",
    "    # data[data['종목코드'] == code(name)[:6]]['평가의견']\n",
    "    # data = data[data['종목코드'] == code(name)[:6]]\n",
    "    data = data\n",
    "    return data"
   ]
  },
  {
   "cell_type": "code",
   "execution_count": 77,
   "metadata": {},
   "outputs": [
    {
     "name": "stdout",
     "output_type": "stream",
     "text": [
      "1/40\n",
      "2/40\n",
      "3/40\n",
      "4/40\n",
      "5/40\n",
      "6/40\n",
      "7/40\n",
      "8/40\n",
      "9/40\n",
      "10/40\n",
      "11/40\n",
      "12/40\n",
      "13/40\n",
      "14/40\n",
      "15/40\n",
      "16/40\n",
      "17/40\n",
      "18/40\n",
      "19/40\n",
      "20/40\n",
      "21/40\n",
      "22/40\n",
      "23/40\n",
      "24/40\n",
      "25/40\n",
      "26/40\n",
      "27/40\n",
      "28/40\n",
      "29/40\n",
      "30/40\n",
      "31/40\n",
      "32/40\n",
      "33/40\n",
      "34/40\n",
      "35/40\n",
      "36/40\n",
      "37/40\n",
      "38/40\n",
      "39/40\n",
      "40/40\n"
     ]
    },
    {
     "data": {
      "text/html": [
       "<div>\n",
       "<style scoped>\n",
       "    .dataframe tbody tr th:only-of-type {\n",
       "        vertical-align: middle;\n",
       "    }\n",
       "\n",
       "    .dataframe tbody tr th {\n",
       "        vertical-align: top;\n",
       "    }\n",
       "\n",
       "    .dataframe thead th {\n",
       "        text-align: right;\n",
       "    }\n",
       "</style>\n",
       "<table border=\"1\" class=\"dataframe\">\n",
       "  <thead>\n",
       "    <tr style=\"text-align: right;\">\n",
       "      <th></th>\n",
       "      <th>작성일</th>\n",
       "      <th>종목명</th>\n",
       "      <th>종목코드</th>\n",
       "      <th>제목</th>\n",
       "      <th>적정가격</th>\n",
       "      <th>평가의견</th>\n",
       "      <th>작성자</th>\n",
       "      <th>작성기관</th>\n",
       "    </tr>\n",
       "  </thead>\n",
       "  <tbody>\n",
       "    <tr>\n",
       "      <th>0</th>\n",
       "      <td>2022-06-10</td>\n",
       "      <td>가비아</td>\n",
       "      <td>079940</td>\n",
       "      <td>인터넷 인프라 서비스의 성장 인터넷 인프라 서비스의 성장 인터넷 인프라 서비스의 성장</td>\n",
       "      <td>0</td>\n",
       "      <td>nr</td>\n",
       "      <td>정홍식</td>\n",
       "      <td>이베스트증권</td>\n",
       "    </tr>\n",
       "    <tr>\n",
       "      <th>1</th>\n",
       "      <td>2022-06-10</td>\n",
       "      <td>씨에스윈드</td>\n",
       "      <td>112610</td>\n",
       "      <td>독일 풍력 설치 지역 4배 확대 의무화 유럽 독일 풍력 설치 지역 4배 확대 의무...</td>\n",
       "      <td>100,000</td>\n",
       "      <td>Buy</td>\n",
       "      <td>한병화</td>\n",
       "      <td>유진투자증권</td>\n",
       "    </tr>\n",
       "    <tr>\n",
       "      <th>2</th>\n",
       "      <td>2022-06-10</td>\n",
       "      <td>LG이노텍</td>\n",
       "      <td>011070</td>\n",
       "      <td>2Q도 깜작실적 실적 주가 새로운 길을 가다 2Q도 깜작실적 실적 주가 새로운 길...</td>\n",
       "      <td>520,000</td>\n",
       "      <td>Buy</td>\n",
       "      <td>박강호</td>\n",
       "      <td>대신증권</td>\n",
       "    </tr>\n",
       "    <tr>\n",
       "      <th>3</th>\n",
       "      <td>2022-06-10</td>\n",
       "      <td>도이치모터스</td>\n",
       "      <td>067990</td>\n",
       "      <td>수익성 성장성 모두 문제없음 수익성 성장성 모두 문제없음 수입자동차 멀티브랜드 딜러</td>\n",
       "      <td>0</td>\n",
       "      <td>NotRated</td>\n",
       "      <td>나승두</td>\n",
       "      <td>SK증권</td>\n",
       "    </tr>\n",
       "    <tr>\n",
       "      <th>4</th>\n",
       "      <td>2022-06-10</td>\n",
       "      <td>KMH</td>\n",
       "      <td>122450</td>\n",
       "      <td>이익 증가하면서 주가 매력 더욱 커져 이익 증가하면서 주가 매력 더욱 커져 Cas...</td>\n",
       "      <td>0</td>\n",
       "      <td>NotRated</td>\n",
       "      <td>나승두</td>\n",
       "      <td>SK증권</td>\n",
       "    </tr>\n",
       "    <tr>\n",
       "      <th>...</th>\n",
       "      <td>...</td>\n",
       "      <td>...</td>\n",
       "      <td>...</td>\n",
       "      <td>...</td>\n",
       "      <td>...</td>\n",
       "      <td>...</td>\n",
       "      <td>...</td>\n",
       "      <td>...</td>\n",
       "    </tr>\n",
       "    <tr>\n",
       "      <th>625</th>\n",
       "      <td>2022-05-10</td>\n",
       "      <td>롯데쇼핑</td>\n",
       "      <td>023530</td>\n",
       "      <td>1Q22 리뷰 견고해 지는 펀더멘털 1Q22 리뷰 견고해 지는 펀더멘털 1Q22 ...</td>\n",
       "      <td>150,000</td>\n",
       "      <td>Buy</td>\n",
       "      <td>이진협</td>\n",
       "      <td>유안타증권</td>\n",
       "    </tr>\n",
       "    <tr>\n",
       "      <th>626</th>\n",
       "      <td>2022-05-10</td>\n",
       "      <td>CJ제일제당</td>\n",
       "      <td>097950</td>\n",
       "      <td>기대치 상회 바이오 주도 기대치 상회 바이오 주도 1Q22 Review 기대치 상...</td>\n",
       "      <td>560,000</td>\n",
       "      <td>Buy</td>\n",
       "      <td>박은정</td>\n",
       "      <td>유안타증권</td>\n",
       "    </tr>\n",
       "    <tr>\n",
       "      <th>627</th>\n",
       "      <td>2022-05-10</td>\n",
       "      <td>BGF리테일</td>\n",
       "      <td>282330</td>\n",
       "      <td>1Q22 리뷰 성수기엔 얼마나 잘하려고 1Q22 리뷰 성수기엔 얼마나 잘하려고 1...</td>\n",
       "      <td>250,000</td>\n",
       "      <td>Buy</td>\n",
       "      <td>이진협</td>\n",
       "      <td>유안타증권</td>\n",
       "    </tr>\n",
       "    <tr>\n",
       "      <th>628</th>\n",
       "      <td>2022-05-10</td>\n",
       "      <td>한섬</td>\n",
       "      <td>020000</td>\n",
       "      <td>1Q22 Review 내수주가 편하다 1Q22 Review 내수주가 편하다 1Q2...</td>\n",
       "      <td>55,000</td>\n",
       "      <td>Buy</td>\n",
       "      <td>하누리</td>\n",
       "      <td>메리츠증권</td>\n",
       "    </tr>\n",
       "    <tr>\n",
       "      <th>629</th>\n",
       "      <td>2022-05-10</td>\n",
       "      <td>이노션</td>\n",
       "      <td>214320</td>\n",
       "      <td>1분기 실적 시장 컨센서스 상회 1분기 실적 시장 컨센서스 상회 1Q22 Revi...</td>\n",
       "      <td>76,000</td>\n",
       "      <td>Buy</td>\n",
       "      <td>이환욱</td>\n",
       "      <td>IBK투자증권</td>\n",
       "    </tr>\n",
       "  </tbody>\n",
       "</table>\n",
       "<p>630 rows × 8 columns</p>\n",
       "</div>"
      ],
      "text/plain": [
       "            작성일     종목명    종목코드  \\\n",
       "0    2022-06-10     가비아  079940   \n",
       "1    2022-06-10   씨에스윈드  112610   \n",
       "2    2022-06-10   LG이노텍  011070   \n",
       "3    2022-06-10  도이치모터스  067990   \n",
       "4    2022-06-10     KMH  122450   \n",
       "..          ...     ...     ...   \n",
       "625  2022-05-10    롯데쇼핑  023530   \n",
       "626  2022-05-10  CJ제일제당  097950   \n",
       "627  2022-05-10  BGF리테일  282330   \n",
       "628  2022-05-10      한섬  020000   \n",
       "629  2022-05-10     이노션  214320   \n",
       "\n",
       "                                                    제목     적정가격      평가의견  \\\n",
       "0     인터넷 인프라 서비스의 성장 인터넷 인프라 서비스의 성장 인터넷 인프라 서비스의 성장         0        nr   \n",
       "1     독일 풍력 설치 지역 4배 확대 의무화 유럽 독일 풍력 설치 지역 4배 확대 의무...  100,000       Buy   \n",
       "2     2Q도 깜작실적 실적 주가 새로운 길을 가다 2Q도 깜작실적 실적 주가 새로운 길...  520,000       Buy   \n",
       "3      수익성 성장성 모두 문제없음 수익성 성장성 모두 문제없음 수입자동차 멀티브랜드 딜러         0  NotRated   \n",
       "4     이익 증가하면서 주가 매력 더욱 커져 이익 증가하면서 주가 매력 더욱 커져 Cas...        0  NotRated   \n",
       "..                                                 ...      ...       ...   \n",
       "625   1Q22 리뷰 견고해 지는 펀더멘털 1Q22 리뷰 견고해 지는 펀더멘털 1Q22 ...  150,000       Buy   \n",
       "626   기대치 상회 바이오 주도 기대치 상회 바이오 주도 1Q22 Review 기대치 상...  560,000       Buy   \n",
       "627   1Q22 리뷰 성수기엔 얼마나 잘하려고 1Q22 리뷰 성수기엔 얼마나 잘하려고 1...  250,000       Buy   \n",
       "628   1Q22 Review 내수주가 편하다 1Q22 Review 내수주가 편하다 1Q2...   55,000       Buy   \n",
       "629   1분기 실적 시장 컨센서스 상회 1분기 실적 시장 컨센서스 상회 1Q22 Revi...   76,000       Buy   \n",
       "\n",
       "     작성자     작성기관  \n",
       "0    정홍식   이베스트증권  \n",
       "1    한병화   유진투자증권  \n",
       "2    박강호     대신증권  \n",
       "3    나승두     SK증권  \n",
       "4    나승두     SK증권  \n",
       "..   ...      ...  \n",
       "625  이진협    유안타증권  \n",
       "626  박은정    유안타증권  \n",
       "627  이진협    유안타증권  \n",
       "628  하누리    메리츠증권  \n",
       "629  이환욱  IBK투자증권  \n",
       "\n",
       "[630 rows x 8 columns]"
      ]
     },
     "execution_count": 77,
     "metadata": {},
     "output_type": "execute_result"
    }
   ],
   "source": [
    "opinion('OCI')"
   ]
  },
  {
   "cell_type": "code",
   "execution_count": 4,
   "metadata": {},
   "outputs": [
    {
     "name": "stdout",
     "output_type": "stream",
     "text": [
      "1/40\n",
      "2/40\n",
      "3/40\n",
      "4/40\n",
      "5/40\n",
      "6/40\n",
      "7/40\n",
      "8/40\n",
      "9/40\n",
      "10/40\n",
      "11/40\n",
      "12/40\n",
      "13/40\n",
      "14/40\n",
      "15/40\n",
      "16/40\n",
      "17/40\n",
      "18/40\n",
      "19/40\n",
      "20/40\n",
      "21/40\n",
      "22/40\n",
      "23/40\n",
      "24/40\n",
      "25/40\n",
      "26/40\n",
      "27/40\n",
      "28/40\n",
      "29/40\n",
      "30/40\n",
      "31/40\n",
      "32/40\n",
      "33/40\n",
      "34/40\n",
      "35/40\n",
      "36/40\n",
      "37/40\n",
      "38/40\n",
      "39/40\n",
      "40/40\n"
     ]
    },
    {
     "data": {
      "text/html": [
       "<div>\n",
       "<style scoped>\n",
       "    .dataframe tbody tr th:only-of-type {\n",
       "        vertical-align: middle;\n",
       "    }\n",
       "\n",
       "    .dataframe tbody tr th {\n",
       "        vertical-align: top;\n",
       "    }\n",
       "\n",
       "    .dataframe thead th {\n",
       "        text-align: right;\n",
       "    }\n",
       "</style>\n",
       "<table border=\"1\" class=\"dataframe\">\n",
       "  <thead>\n",
       "    <tr style=\"text-align: right;\">\n",
       "      <th></th>\n",
       "      <th>작성일</th>\n",
       "      <th>종목명</th>\n",
       "      <th>종목코드</th>\n",
       "      <th>제목</th>\n",
       "      <th>적정가격</th>\n",
       "      <th>평가의견</th>\n",
       "      <th>작성자</th>\n",
       "      <th>작성기관</th>\n",
       "    </tr>\n",
       "  </thead>\n",
       "  <tbody>\n",
       "    <tr>\n",
       "      <th>156</th>\n",
       "      <td>2022-05-31</td>\n",
       "      <td>삼성전자</td>\n",
       "      <td>005930</td>\n",
       "      <td>실적 모멘텀 이후 주주가치 증대는 필연적 실적 모멘텀 이후 주주가치 증대는 필연적...</td>\n",
       "      <td>84,000</td>\n",
       "      <td>Buy</td>\n",
       "      <td>김선우</td>\n",
       "      <td>메리츠증권</td>\n",
       "    </tr>\n",
       "    <tr>\n",
       "      <th>219</th>\n",
       "      <td>2022-05-30</td>\n",
       "      <td>삼성전자</td>\n",
       "      <td>005930</td>\n",
       "      <td>현주가 수준은 저점 매수가 가능한 가격대 현주가 수준은 저점 매수가 가능한 가격대...</td>\n",
       "      <td>82,000</td>\n",
       "      <td>Buy</td>\n",
       "      <td>송명섭</td>\n",
       "      <td>하이투자증권</td>\n",
       "    </tr>\n",
       "    <tr>\n",
       "      <th>265</th>\n",
       "      <td>2022-05-26</td>\n",
       "      <td>삼성전자</td>\n",
       "      <td>005930</td>\n",
       "      <td>2H22 수요가 관건 2H22 수요가 관건 자율주행과 파운드리 2H22 수요가 관건</td>\n",
       "      <td>87,000</td>\n",
       "      <td>Buy</td>\n",
       "      <td>남대종, 김광수</td>\n",
       "      <td>이베스트증권</td>\n",
       "    </tr>\n",
       "  </tbody>\n",
       "</table>\n",
       "</div>"
      ],
      "text/plain": [
       "            작성일   종목명    종목코드  \\\n",
       "156  2022-05-31  삼성전자  005930   \n",
       "219  2022-05-30  삼성전자  005930   \n",
       "265  2022-05-26  삼성전자  005930   \n",
       "\n",
       "                                                    제목    적정가격 평가의견       작성자  \\\n",
       "156   실적 모멘텀 이후 주주가치 증대는 필연적 실적 모멘텀 이후 주주가치 증대는 필연적...  84,000  Buy       김선우   \n",
       "219   현주가 수준은 저점 매수가 가능한 가격대 현주가 수준은 저점 매수가 가능한 가격대...  82,000  Buy       송명섭   \n",
       "265    2H22 수요가 관건 2H22 수요가 관건 자율주행과 파운드리 2H22 수요가 관건   87,000  Buy  남대종, 김광수   \n",
       "\n",
       "       작성기관  \n",
       "156   메리츠증권  \n",
       "219  하이투자증권  \n",
       "265  이베스트증권  "
      ]
     },
     "execution_count": 4,
     "metadata": {},
     "output_type": "execute_result"
    }
   ],
   "source": [
    "opinion('삼성전자')"
   ]
  },
  {
   "cell_type": "code",
   "execution_count": 7,
   "metadata": {},
   "outputs": [],
   "source": [
    "# 원하는 주식종목 네이버 종토방 댓글 크롤링하여 2일전 대비 1일전의 변동치 측정하기\n",
    "\n",
    "# 원하는 종목 네이버 종토방 댓글 갯수(어제것만)\n",
    "def naver_crawling(name):\n",
    "    b = []\n",
    "    base_url_2 = \"https://finance.naver.com/item/board.naver?code=%s&page={}\"%(code(name)[:6])\n",
    "    \n",
    "    for i in range(13000): #삼성전자 기준 1000개정도 해야 하루치 넘는 댓글 가져올 수 있으므로 하한 1000으로 지정함\n",
    "        url = base_url_2.format(i)\n",
    "        headers = { 'User-Agent': 'Mozilla/5.0 (Windows NT 6.0; WOW64; rv:24.0) Gecko/20100101 Firefox/24.0' }\n",
    "\n",
    "        resp = requests.get(url, headers=headers)\n",
    "        soup = BeautifulSoup(resp.text, \"html.parser\")\n",
    "        reply_date = soup.find_all('span', {'class':'tah p10 gray03'})\n",
    "        \n",
    "        for i in reply_date:\n",
    "            b.append(i.string)\n",
    "    return b\n",
    "\n",
    "\n",
    "\n",
    "\n",
    "# 어제,아레 만들어서 형식 고치기\n",
    "# ytd = str(date.today() - relativedelta(days=1))\n",
    "# true_ytd = ytd[:4] + '.' + ytd[5:7] + '.' + ytd[8:10]\n",
    "\n",
    "# twodaysago = str(date.today() - relativedelta(days=2))\n",
    "# twodaysago = twodaysago[:4] + '.' + twodaysago[5:7] + '.' + twodaysago[8:10]\n",
    "\n",
    "# 댓글 갯수 예시\n",
    "# 위에 함수랑 합침!\n",
    "def reply_vol(name):\n",
    "    def naver_crawling(name):\n",
    "        b = []\n",
    "        base_url_2 = \"https://finance.naver.com/item/board.naver?code=%s&page={}\"%(code(name)[:6])\n",
    "        \n",
    "        for i in range(1000): #삼성전자 기준 1000개정도 해야 하루치 넘는 댓글 가져올 수 있으므로 하한 1000으로 지정함, 확인용으로 100개\n",
    "            url = base_url_2.format(i)\n",
    "            headers = { 'User-Agent': 'Mozilla/5.0 (Windows NT 6.0; WOW64; rv:24.0) Gecko/20100101 Firefox/24.0' }\n",
    "\n",
    "            resp = requests.get(url, headers=headers)\n",
    "            soup = BeautifulSoup(resp.text, \"html.parser\")\n",
    "            reply_date = soup.find_all('span', {'class':'tah p10 gray03'})\n",
    "            \n",
    "            for i in reply_date:\n",
    "                b.append(i.string)\n",
    "        return b\n",
    "    temp_minus_1=[]\n",
    "    temp_minus_2=[]\n",
    "    \n",
    "    a = naver_crawling(name)\n",
    "    a = a[::2]\n",
    "    \n",
    "    # 어제,아레 만들어서 형식 고치기\n",
    "    ytd = str(date.today() - relativedelta(days=1))\n",
    "    true_ytd = ytd[:4] + '.' + ytd[5:7] + '.' + ytd[8:10]\n",
    "\n",
    "    twodaysago = str(date.today() - relativedelta(days=2))\n",
    "    twodaysago = twodaysago[:4] + '.' + twodaysago[5:7] + '.' + twodaysago[8:10]\n",
    "\n",
    "    for i in range(len(a)):\n",
    "        \n",
    "        if a[i][:10] == true_ytd:\n",
    "            temp_minus_1.append(a[i])\n",
    "        elif a[i][:10] == twodaysago:\n",
    "            temp_minus_2.append(a[i])\n",
    "        else:\n",
    "            pass\n",
    "        \n",
    "    reply_vol =((len(temp_minus_1) - len(temp_minus_2)) / len(temp_minus_2)) # 아레 대비 어제 댓글 수 변화\n",
    "    return reply_vol\n"
   ]
  },
  {
   "cell_type": "code",
   "execution_count": 8,
   "metadata": {},
   "outputs": [],
   "source": [
    "reply_vol('삼성전자')"
   ]
  },
  {
   "cell_type": "code",
   "execution_count": null,
   "metadata": {},
   "outputs": [],
   "source": [
    "# # 최종 결과물\n",
    "\n",
    "\n",
    "#     print(code(name))\n",
    "#     print(yesterday_rtn(name))\n",
    "#     monthly_rtn_graph(name)\n",
    "#     opinion(name)\n",
    "#     print(reply_vol(name))"
   ]
  },
  {
   "cell_type": "code",
   "execution_count": null,
   "metadata": {},
   "outputs": [
    {
     "data": {
      "text/plain": [
       "'010060.KS'"
      ]
     },
     "execution_count": 42,
     "metadata": {},
     "output_type": "execute_result"
    }
   ],
   "source": [
    "#1\n",
    "code('삼성전자')"
   ]
  },
  {
   "cell_type": "code",
   "execution_count": null,
   "metadata": {},
   "outputs": [
    {
     "name": "stdout",
     "output_type": "stream",
     "text": [
      "[*********************100%***********************]  1 of 1 completed\n"
     ]
    },
    {
     "data": {
      "text/plain": [
       "0.018939393939394034"
      ]
     },
     "execution_count": 46,
     "metadata": {},
     "output_type": "execute_result"
    }
   ],
   "source": [
    "#2\n",
    "yesterday_rtn('삼성전자')"
   ]
  },
  {
   "cell_type": "code",
   "execution_count": null,
   "metadata": {},
   "outputs": [
    {
     "name": "stdout",
     "output_type": "stream",
     "text": [
      "[*********************100%***********************]  1 of 1 completed\n"
     ]
    },
    {
     "data": {
      "text/plain": [
       "<AxesSubplot:xlabel='Date'>"
      ]
     },
     "execution_count": 45,
     "metadata": {},
     "output_type": "execute_result"
    },
    {
     "data": {
      "image/png": "[encoded data removed]",
      "text/plain": [
       "<Figure size 432x288 with 1 Axes>"
      ]
     },
     "metadata": {
      "needs_background": "light"
     },
     "output_type": "display_data"
    }
   ],
   "source": [
    "#3\n",
    "monthly_rtn_graph('삼성전자')"
   ]
  },
  {
   "cell_type": "code",
   "execution_count": null,
   "metadata": {},
   "outputs": [
    {
     "name": "stdout",
     "output_type": "stream",
     "text": [
      "1/40\n",
      "2/40\n",
      "3/40\n",
      "4/40\n",
      "5/40\n",
      "6/40\n",
      "7/40\n",
      "8/40\n",
      "9/40\n",
      "10/40\n",
      "11/40\n",
      "12/40\n",
      "13/40\n",
      "14/40\n",
      "15/40\n",
      "16/40\n",
      "17/40\n",
      "18/40\n",
      "19/40\n",
      "20/40\n",
      "21/40\n",
      "22/40\n",
      "23/40\n",
      "24/40\n",
      "25/40\n",
      "26/40\n",
      "27/40\n",
      "28/40\n",
      "29/40\n",
      "30/40\n",
      "31/40\n",
      "32/40\n",
      "33/40\n",
      "34/40\n",
      "35/40\n",
      "36/40\n",
      "37/40\n",
      "38/40\n",
      "39/40\n",
      "40/40\n"
     ]
    },
    {
     "data": {
      "text/html": [
       "<div>\n",
       "<style scoped>\n",
       "    .dataframe tbody tr th:only-of-type {\n",
       "        vertical-align: middle;\n",
       "    }\n",
       "\n",
       "    .dataframe tbody tr th {\n",
       "        vertical-align: top;\n",
       "    }\n",
       "\n",
       "    .dataframe thead th {\n",
       "        text-align: right;\n",
       "    }\n",
       "</style>\n",
       "<table border=\"1\" class=\"dataframe\">\n",
       "  <thead>\n",
       "    <tr style=\"text-align: right;\">\n",
       "      <th></th>\n",
       "      <th>작성일</th>\n",
       "      <th>종목명</th>\n",
       "      <th>종목코드</th>\n",
       "      <th>제목</th>\n",
       "      <th>적정가격</th>\n",
       "      <th>평가의견</th>\n",
       "      <th>작성자</th>\n",
       "      <th>작성기관</th>\n",
       "    </tr>\n",
       "  </thead>\n",
       "  <tbody>\n",
       "    <tr>\n",
       "      <th>57</th>\n",
       "      <td>2022-06-02</td>\n",
       "      <td>OCI</td>\n",
       "      <td>010060</td>\n",
       "      <td>시황을 반영하지 못하고 있는 주가 시황을 반영하지 못하고 있는 주가 시황을 반영하...</td>\n",
       "      <td>180,000</td>\n",
       "      <td>Buy</td>\n",
       "      <td>황성현</td>\n",
       "      <td>유진투자증권</td>\n",
       "    </tr>\n",
       "    <tr>\n",
       "      <th>130</th>\n",
       "      <td>2022-05-31</td>\n",
       "      <td>OCI</td>\n",
       "      <td>010060</td>\n",
       "      <td>태양광산업의주도주 태양광산업의주도주 러시아 지정학 Risk 발생 이후 태양광 산업...</td>\n",
       "      <td>160,000</td>\n",
       "      <td>Buy</td>\n",
       "      <td>노우호</td>\n",
       "      <td>메리츠증권</td>\n",
       "    </tr>\n",
       "  </tbody>\n",
       "</table>\n",
       "</div>"
      ],
      "text/plain": [
       "            작성일  종목명    종목코드  \\\n",
       "57   2022-06-02  OCI  010060   \n",
       "130  2022-05-31  OCI  010060   \n",
       "\n",
       "                                                    제목     적정가격 평가의견  작성자  \\\n",
       "57    시황을 반영하지 못하고 있는 주가 시황을 반영하지 못하고 있는 주가 시황을 반영하...  180,000  Buy  황성현   \n",
       "130   태양광산업의주도주 태양광산업의주도주 러시아 지정학 Risk 발생 이후 태양광 산업...  160,000  Buy  노우호   \n",
       "\n",
       "       작성기관  \n",
       "57   유진투자증권  \n",
       "130   메리츠증권  "
      ]
     },
     "execution_count": 47,
     "metadata": {},
     "output_type": "execute_result"
    }
   ],
   "source": [
    "#4\n",
    "opinion('삼성전자')"
   ]
  },
  {
   "cell_type": "code",
   "execution_count": null,
   "metadata": {},
   "outputs": [
    {
     "data": {
      "text/plain": [
       "2.2666666666666666"
      ]
     },
     "execution_count": 48,
     "metadata": {},
     "output_type": "execute_result"
    }
   ],
   "source": [
    "#5\n",
    "reply_vol('삼성전자')"
   ]
  },
  {
   "cell_type": "markdown",
   "metadata": {},
   "source": [
    "##"
   ]
  },
  {
   "cell_type": "code",
   "execution_count": 3,
   "metadata": {},
   "outputs": [],
   "source": [
    "import han_consensus\n",
    "# del han_consensus"
   ]
  },
  {
   "cell_type": "code",
   "execution_count": 2,
   "metadata": {},
   "outputs": [
    {
     "name": "stdout",
     "output_type": "stream",
     "text": [
      "Loading page number 1...\n",
      "Loading page number 2...\n",
      "Loading page number 3...\n",
      "Loading page number 4...\n",
      "Loading page number 5...\n",
      "Loading page number 6...\n",
      "Loading page number 7...\n",
      "Loading page number 8...\n",
      "Loading page number 9...\n",
      "Loading page number 10...\n",
      "Loading page number 11...\n",
      "Loading page number 12...\n",
      "Loading page number 13...\n",
      "Loading page number 14...\n",
      "Loading page number 15...\n",
      "Loading page number 16...\n",
      "Loading page number 17...\n",
      "Loading page number 18...\n",
      "Loading page number 19...\n",
      "Loading page number 20...\n",
      "Loading page number 21...\n",
      "Loading page number 22...\n",
      "Loading page number 23...\n",
      "Loading page number 24...\n",
      "Loading page number 25...\n",
      "Loading page number 26...\n",
      "Loading page number 27...\n",
      "Loading page number 28...\n",
      "Loading page number 29...\n",
      "Loading page number 30...\n",
      "Loading page number 31...\n",
      "Loading page number 32...\n"
     ]
    },
    {
     "data": {
      "text/plain": [
       "['Buy', 'Buy', 'Buy']"
      ]
     },
     "execution_count": 2,
     "metadata": {},
     "output_type": "execute_result"
    }
   ],
   "source": [
    "han_consensus.consensus_report_view('삼성전자')"
   ]
  },
  {
   "cell_type": "code",
   "execution_count": 1,
   "metadata": {},
   "outputs": [],
   "source": [
    "## achi_ratio\n",
    "import datetime as dt\n",
    "\n",
    "\n",
    "def achievement_ratio(name):\n",
    "    \n",
    "    def current_price(name):\n",
    "        a = code(name)[:6]\n",
    "        b = str(dt.date.today())\n",
    "        df = fdr.DataReader(a,b)\n",
    "        df = df['Close'].item()\n",
    "        return df\n",
    "    \n",
    "    c = han_consensus.consensus_report_price(name)\n",
    "    for i in range(len(c)):\n",
    "        c[i] = int(c[i].replace(',',''))\n",
    "    \n",
    "    d = current_price('삼성전자') / np.mean(c)\n",
    "    return d\n",
    "    \n",
    "    "
   ]
  },
  {
   "cell_type": "code",
   "execution_count": 5,
   "metadata": {},
   "outputs": [
    {
     "name": "stdout",
     "output_type": "stream",
     "text": [
      "Loading page number 1...\n",
      "Loading page number 2...\n",
      "Loading page number 3...\n",
      "Loading page number 4...\n",
      "Loading page number 5...\n",
      "Loading page number 6...\n",
      "Loading page number 7...\n",
      "Loading page number 8...\n",
      "Loading page number 9...\n",
      "Loading page number 10...\n",
      "Loading page number 11...\n",
      "Loading page number 12...\n",
      "Loading page number 13...\n",
      "Loading page number 14...\n",
      "Loading page number 15...\n",
      "Loading page number 16...\n",
      "Loading page number 17...\n",
      "Loading page number 18...\n",
      "Loading page number 19...\n",
      "Loading page number 20...\n",
      "Loading page number 21...\n",
      "Loading page number 22...\n",
      "Loading page number 23...\n",
      "Loading page number 24...\n",
      "Loading page number 25...\n",
      "Loading page number 26...\n",
      "Loading page number 27...\n",
      "Loading page number 28...\n",
      "Loading page number 29...\n",
      "Loading page number 30...\n",
      "Loading page number 31...\n",
      "Loading page number 32...\n",
      "Loading page number 33...\n"
     ]
    }
   ],
   "source": [
    "\n",
    "\n",
    "a = han_consensus.consensus_report_price_a_month_ago('삼성전자')"
   ]
  },
  {
   "cell_type": "code",
   "execution_count": 6,
   "metadata": {},
   "outputs": [
    {
     "data": {
      "text/plain": [
       "['87,000', '82,000', '88,000', '118,000', '84,000', '0', '100,000', '88,000']"
      ]
     },
     "execution_count": 6,
     "metadata": {},
     "output_type": "execute_result"
    }
   ],
   "source": [
    "a"
   ]
  },
  {
   "cell_type": "code",
   "execution_count": 10,
   "metadata": {},
   "outputs": [
    {
     "name": "stdout",
     "output_type": "stream",
     "text": [
      "Loading page number 1...\n",
      "Loading page number 2...\n",
      "Loading page number 3...\n",
      "Loading page number 4...\n",
      "Loading page number 5...\n",
      "Loading page number 6...\n",
      "Loading page number 7...\n",
      "Loading page number 8...\n",
      "Loading page number 9...\n",
      "Loading page number 10...\n",
      "Loading page number 11...\n",
      "Loading page number 12...\n",
      "Loading page number 13...\n",
      "Loading page number 14...\n",
      "Loading page number 15...\n",
      "Loading page number 16...\n",
      "Loading page number 17...\n",
      "Loading page number 18...\n",
      "Loading page number 19...\n",
      "Loading page number 20...\n",
      "Loading page number 21...\n",
      "Loading page number 22...\n",
      "Loading page number 23...\n",
      "Loading page number 24...\n",
      "Loading page number 25...\n",
      "Loading page number 26...\n",
      "Loading page number 27...\n",
      "Loading page number 28...\n",
      "Loading page number 29...\n",
      "Loading page number 30...\n",
      "Loading page number 31...\n",
      "Loading page number 32...\n"
     ]
    }
   ],
   "source": [
    "b = han_consensus.consensus_report_price('삼성전자')"
   ]
  },
  {
   "cell_type": "code",
   "execution_count": 11,
   "metadata": {},
   "outputs": [
    {
     "data": {
      "text/plain": [
       "['84,000', '82,000', '87,000']"
      ]
     },
     "execution_count": 11,
     "metadata": {},
     "output_type": "execute_result"
    }
   ],
   "source": [
    "b"
   ]
  },
  {
   "cell_type": "code",
   "execution_count": 12,
   "metadata": {},
   "outputs": [],
   "source": [
    "## target_change factor (#5)\n",
    "\n",
    "def target_change(name):\n",
    "    a = han_consensus.consensus_report_price_a_month_ago(name)\n",
    "    for i in range(len(a)):\n",
    "        a[i] = int(a[i].replace(',',''))\n",
    "    \n",
    "    b = han_consensus.consensus_report_price(name)\n",
    "    for i in range(len(b)):\n",
    "        b[i] = int(b[i].replace(',',''))\n",
    "    \n",
    "    return np.mean(a) / np.mean(b)\n",
    "    "
   ]
  },
  {
   "cell_type": "code",
   "execution_count": 13,
   "metadata": {},
   "outputs": [
    {
     "name": "stdout",
     "output_type": "stream",
     "text": [
      "Loading page number 1...\n",
      "Loading page number 2...\n",
      "Loading page number 3...\n",
      "Loading page number 4...\n",
      "Loading page number 5...\n",
      "Loading page number 6...\n",
      "Loading page number 7...\n",
      "Loading page number 8...\n",
      "Loading page number 9...\n",
      "Loading page number 10...\n",
      "Loading page number 11...\n",
      "Loading page number 12...\n",
      "Loading page number 13...\n",
      "Loading page number 14...\n",
      "Loading page number 15...\n",
      "Loading page number 16...\n",
      "Loading page number 17...\n",
      "Loading page number 18...\n",
      "Loading page number 19...\n",
      "Loading page number 20...\n",
      "Loading page number 21...\n",
      "Loading page number 22...\n",
      "Loading page number 23...\n",
      "Loading page number 24...\n",
      "Loading page number 25...\n",
      "Loading page number 26...\n",
      "Loading page number 27...\n",
      "Loading page number 28...\n",
      "Loading page number 29...\n",
      "Loading page number 30...\n",
      "Loading page number 31...\n",
      "Loading page number 32...\n",
      "Loading page number 33...\n",
      "Loading page number 1...\n",
      "Loading page number 2...\n",
      "Loading page number 3...\n",
      "Loading page number 4...\n",
      "Loading page number 5...\n",
      "Loading page number 6...\n",
      "Loading page number 7...\n",
      "Loading page number 8...\n",
      "Loading page number 9...\n",
      "Loading page number 10...\n",
      "Loading page number 11...\n",
      "Loading page number 12...\n",
      "Loading page number 13...\n",
      "Loading page number 14...\n",
      "Loading page number 15...\n",
      "Loading page number 16...\n",
      "Loading page number 17...\n",
      "Loading page number 18...\n",
      "Loading page number 19...\n",
      "Loading page number 20...\n",
      "Loading page number 21...\n",
      "Loading page number 22...\n",
      "Loading page number 23...\n",
      "Loading page number 24...\n",
      "Loading page number 25...\n",
      "Loading page number 26...\n",
      "Loading page number 27...\n",
      "Loading page number 28...\n",
      "Loading page number 29...\n",
      "Loading page number 30...\n",
      "Loading page number 31...\n",
      "Loading page number 32...\n"
     ]
    },
    {
     "data": {
      "text/plain": [
       "0.9589920948616601"
      ]
     },
     "execution_count": 13,
     "metadata": {},
     "output_type": "execute_result"
    }
   ],
   "source": [
    "target_change('삼성전자')"
   ]
  }
 ],
 "metadata": {
  "interpreter": {
   "hash": "e5732cf7c12862e1b22ecb06ef59f040eebe0f2625b51958acd63da86cd77fdc"
  },
  "kernelspec": {
   "display_name": "Python 3.8.12 ('base')",
   "language": "python",
   "name": "python3"
  },
  "language_info": {
   "codemirror_mode": {
    "name": "ipython",
    "version": 3
   },
   "file_extension": ".py",
   "mimetype": "text/x-python",
   "name": "python",
   "nbconvert_exporter": "python",
   "pygments_lexer": "ipython3",
   "version": "3.8.12"
  },
  "orig_nbformat": 4
 },
 "nbformat": 4,
 "nbformat_minor": 2
}
