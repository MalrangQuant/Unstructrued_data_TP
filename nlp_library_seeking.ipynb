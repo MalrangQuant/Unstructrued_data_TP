{
 "cells": [
  {
   "cell_type": "code",
   "execution_count": 1,
   "metadata": {},
   "outputs": [],
   "source": [
    "import requests\n",
    "import numpy as np\n",
    "import pandas as pd\n",
    "import matplotlib.pyplot as plt\n"
   ]
  },
  {
   "cell_type": "code",
   "execution_count": 101,
   "metadata": {},
   "outputs": [],
   "source": [
    "from pypapago import Translator"
   ]
  },
  {
   "cell_type": "code",
   "execution_count": 2,
   "metadata": {},
   "outputs": [],
   "source": [
    "from config import *"
   ]
  },
  {
   "cell_type": "code",
   "execution_count": 34,
   "metadata": {},
   "outputs": [],
   "source": [
    "from konlpy.tag import Hannanum\n",
    "from konlpy.tag import Kkma\n",
    "from konlpy.tag import Okt\n",
    "from konlpy.tag import Mecab"
   ]
  },
  {
   "cell_type": "code",
   "execution_count": 95,
   "metadata": {},
   "outputs": [],
   "source": [
    "from transformers import pipeline"
   ]
  },
  {
   "cell_type": "code",
   "execution_count": 102,
   "metadata": {},
   "outputs": [
    {
     "name": "stderr",
     "output_type": "stream",
     "text": [
      "No model was supplied, defaulted to distilbert-base-uncased-finetuned-sst-2-english (https://huggingface.co/distilbert-base-uncased-finetuned-sst-2-english)\n",
      "Downloading: 100%|██████████| 629/629 [00:00<00:00, 315kB/s]\n",
      "Downloading: 100%|██████████| 256M/256M [00:54<00:00, 4.88MB/s] \n",
      "All model checkpoint layers were used when initializing TFDistilBertForSequenceClassification.\n",
      "\n",
      "All the layers of TFDistilBertForSequenceClassification were initialized from the model checkpoint at distilbert-base-uncased-finetuned-sst-2-english.\n",
      "If your task is similar to the task the model of the checkpoint was trained on, you can already use TFDistilBertForSequenceClassification for predictions without further training.\n",
      "Downloading: 100%|██████████| 48.0/48.0 [00:00<00:00, 16.0kB/s]\n",
      "Downloading: 100%|██████████| 226k/226k [00:00<00:00, 285kB/s]  \n"
     ]
    }
   ],
   "source": [
    "classifier = pipeline('sentiment-analysis')"
   ]
  },
  {
   "cell_type": "code",
   "execution_count": 35,
   "metadata": {},
   "outputs": [],
   "source": [
    "body = \"\"\"총 2100만개 중 1900만번째 채굴200만개 남아 2030년 99% 소진4년마다 오는 반감기때 매번 급등다음 시기는 '2024년 2~6월' 예상채굴 난도 올라 가격 상승 전망\"업체 채굴량 늘려 장기보유 계획\"\n",
    "< 200만개만 남은 비트코인 > 4일 서울 역삼동에 있는 빗썸 강남센터에서 한 직원이 암호화폐 시세판을 가리키고 있다. 비트코인 가격은 지난 1월 4000만원대 초반에서 최근 5600만원 선까지 반등했다. /김병언 기자전체 비트코인 2100만 개 중 1900만 개의 채굴이 완료된 것으로 집계됐다. 비트코인은 지하자원처럼 채굴할 수 있는 수량이 2100만 개로 정해져 있다. 2030년이면 99%의 비트코인 채굴이 끝나 사실상 신규 공급이 중단될 것으로 전망된다. 올해 저점 대비 40%가량 반등한 비트코인 가격이 공급량 감소에 따라 상승세를 이어나갈 수 있을지 투자자들의 관심이 쏠리고 있다. 90% 캐낸 비트코인…공급량 줄어든다\n",
    "4일 암호화폐거래소 업비트에 따르면 비트코인 가격은 이날 오후 3시 기준 5651만원으로 올해 저점인 1월 24일(4087만원) 대비 38.37% 상승했다. 지난 한 달간 17%가량 오르다가 최근 며칠 새 5600만원 수준에서 등락을 거듭하고 있다.시장에선 비트코인 가격 향방을 두고 비트코인 채굴량에 주목해야 한다는 의견이 힘을 얻고 있다. 비트코인은 그래픽카드를 개조한 연산기계를 활용해 연산력에 비례해 채굴할 수 있다.\n",
    "가상자산 전문 미디어 코인텔레그래프에 따르면 가상자산 채굴업체 SBI크립토가 지난 1일 1900만 번째 비트코인 채굴에 성공했다. 이제 채굴할 수 있는 비트코인은 200만 개다. 2030년이 되면 99% 이상의 비트코인 채굴이 완료될 전망이다. 업계에선 2140년에 마지막 비트코인 채굴이 이뤄질 것으로 예상하고 있다.비트코인은 채굴량이 2100만 개에 가까워질수록 채굴 생산성이 떨어지면서 ‘0’에 수렴하는 구조로 이뤄져 있다. 일정한 전력으로 생산할 수 있는 비트코인 수량이 4년마다 절반으로 떨어지기 때문이다. 그동안 이른바 ‘반감기’가 올 때마다 비트코인 가격은 급등했다. 2020년 반감기가 오고 1년간 비트코인 가격은 크게 뛰었고, 2016년에도 반감기에 이른 뒤 1년여간 상승세를 이어갔다. 다음 반감기는 2024년 2~6월이 될 것으로 예상된다.암호화폐거래소 코빗의 리서치센터는 채굴량 지표에 기초한 밸류에이션(가치평가) 기법을 소개하기도 했다. 반감기가 오면서 공급량이 줄어들면 희소성이 커지기 때문에 장기적으로 비트코인 가격이 오를 수밖에 없다는 것이다. 코빗 측은 “금, 은 등을 포함한 귀금속 시장 전문 투자자들 사이에서 오랫동안 귀금속 가치를 평가하는 이론으로 알려졌다”고 설명했다. 정석문 코빗 이사는 이 이론에 대해 “희소성이 분명 자산가치를 결정짓는 중요한 요소인 것은 맞지만 투자심리 등 다른 요인을 반영하지 못한다”며 “비트코인 공급량 감소는 이미 잘 알려진 사실이어서 가격에 선반영됐다고 보는 시각도 적지 않다”고 했다. 채굴업자들은 4년간 상승할 것으로 내다봐채굴 가능한 비트코인이 앞으로 200만 개밖에 남지 않았지만 채굴에 뛰어드는 투자자는 갈수록 늘어나고 있다. 이런 점도 가격 상승을 뒷받침하는 요소로 꼽힌다. 비트코인은 채굴에 참가하는 사람이 늘수록 채굴 난도가 높아지기 때문이다. 암호화폐 투자업체 디에이그라운드의 백훈종 이사는 “채굴업체들은 대부분 장기 투자자로 최근 비트코인 생산 원가 상승에도 이들이 채굴량을 늘린다는 건 4~5년간의 장기적인 상승을 예상한다는 것”이라고 분석했다. 채굴업체들은 대부분 채굴한 암호화폐를 시장에 내다팔지 않고 장기 보유한다.지난해 6월 중국이 비트코인 채굴을 금지하자 채굴 난도가 떨어지면서 비트코인 가격도 4000만원 이하로 내려갔다. 같은 해 9월 비트코인 채굴업체들이 미국으로 대거 이전해 채굴 난도가 중국의 채굴 금지 조치 이전 수준을 회복하자 바로 다음달인 10월에 비트코인 가격은 8000만원을 돌파하기도 했다.하지만 비트코인 공급이 줄어든다고 해서 단기 추세를 예단하기는 어렵다고 전문가들은 입을 모은다. 백 이사는 “4년마다 오는 반감기만으로 비트코인 가격이 지속적으로 상승할 것이라고 예상하기는 힘들다”고 말했다.\"\"\"\n",
    "       "
   ]
  },
  {
   "cell_type": "code",
   "execution_count": 51,
   "metadata": {},
   "outputs": [
    {
     "data": {
      "text/plain": [
       "2063"
      ]
     },
     "execution_count": 51,
     "metadata": {},
     "output_type": "execute_result"
    }
   ],
   "source": [
    "len(body)"
   ]
  },
  {
   "cell_type": "code",
   "execution_count": 36,
   "metadata": {},
   "outputs": [],
   "source": [
    "temp = []\n",
    "\n",
    "def flatten(l):\n",
    "    flatList = []\n",
    "    for elem in l:\n",
    "        if type(elem)==list:\n",
    "            for e in elem:\n",
    "                flatList.append(elem)\n",
    "        else:\n",
    "            flatList.append(elem)\n",
    "    return flatList\n",
    "\n"
   ]
  },
  {
   "cell_type": "code",
   "execution_count": null,
   "metadata": {},
   "outputs": [],
   "source": []
  },
  {
   "cell_type": "markdown",
   "metadata": {},
   "source": [
    "### Hannanum (명사와 동사만 추출) -> 속도 양호, but 숫자가 명사로 들어가 지저분함"
   ]
  },
  {
   "cell_type": "code",
   "execution_count": 93,
   "metadata": {},
   "outputs": [
    {
     "name": "stdout",
     "output_type": "stream",
     "text": [
      "['2100만개', '중', '1900만번', '채굴200만개', '2030년', '99', '소진4년마다', '반감기때', '급등다음', '시기', '2024년', '2', '6월', '예상채굴', '난', '가격', '상승', '전망', '업체', '채굴량', '장기보유', '계획', '200만개', '비트코', '4일', '서울', '역삼동', '빗썸', '강남센터', '직원', '암호화폐', '시세판', '비트코', '가격', '1월', '4000만원', '초반', '5600만원', '선', '반등했다', '/김병언', '기자전체', '비트코', '2100', '개', '중', '1900', '개', '채굴', '완료', '것', '집계', '비트코인', '지하자원', '채굴할', '수', '수량', '2100', '개', '2030년', '99', '비트코', '채굴', '사실상', '신규', '공급', '중단', '것', '전망', '올해', '저점', '대비', '40', '반등한', '비트코', '가격', '공급량', '감소', '상승세', '수', '지', '투자자들', '관심', '90', '비트코인…공급량', '4일', '암호화폐거래소', '업비트', '비트코', '가격', '이날', '오후', '3시', '기준', '5651만원', '올해', '저점', '1월', '24일(4087만원)', '대비', '38.', '37', '상승', '한', '간', '17', '며칠', '5600만원', '수준', '등락', '거듭', '시장', '비트코', '가격', '향방', '비트코', '채굴량', '주목', '의견', '힘', '비트코인', '그래픽카드', '개조', '연산기계', '활용', '연산력', '비례', '채굴할', '수', '가상자산', '전문', '미디어', '코인텔레그래프', '가상자산', '채굴업체', 'SBI크립토', '1일', '1900', '번', '비트코', '채굴', '성공', '채굴할', '수', '비트코인', '200', '개', '2030년', '99', '이상', '비트코', '채굴', '완료', '전망', '업계', '2140년', '마지막', '비트코', '채굴', '것', '예상', '비트코인', '채굴량', '2100', '개', '채굴', '생산성', '‘0’', '수렴', '구조', '일정한', '전력', '생산', '수', '비트코', '수량', '4년', '절반', '때문', '그동안', '‘반감기’', '때', '비트코', '가격', '급등', '2020년', '반감기', '1년', '비트코', '가격', '2016년', '반감기', '뒤', '1년여', '상승세', '다음', '반감기', '2024년', '2', '6월', '것', '예상', '암호화폐거래소', '코빗', '리서치센터', '채굴량', '지표', '기초한', '밸류에이션(가치평가)', '기법', '소개', '반감기', '공급량', '희소성', '때문', '장기적', '비트코', '가격', '수', '것', '코빗', '측은', '“금,', '은', '등', '포함', '귀금속', '시장', '전문', '투자자들', '사이', '오랫동안', '귀금속', '가치', '평가', '이론', '알려졌다”고', '설명', '정석문', '코빗', '이사', '이론', '“희소성', '분명', '자산가치', '결정짓', '중요', '요소', '것', '투자심리', '등', '요인', '반영', '못한다”며', '“비트코', '공급량', '감소', '사실', '가격', '선반영', '시각', '않다”고', '채굴업자들', '4년', '상승', '것', '내다봐채굴', '가능', '비트코인', '앞', '200', '개', '채굴', '투자자', '점', '가격', '상승', '뒷받침', '요소', '비트코인', '채굴', '참가', '사람', '채굴', '난도', '때문', '암호화폐', '투자업체', '디에이그라운드', '백훈종', '이사', '“채굴업체들은', '대부분', '장기', '투자자', '비트코', '생산', '원', '상승', '이', '채굴량', '거', '4', '5년', '장기적', '상승', '예상', '것”', '분석', '채굴업체들', '대부분', '채굴한', '암호화폐', '시장', '내다팔지', '장기', '보유', '지난해', '6월', '중국', '비트코', '채굴', '금지하자', '채굴', '난도', '비트코', '가격', '4000만원', '이하', '해', '9월', '비트코', '채굴업체들', '미국', '이전해', '채굴', '난도', '중국', '채굴', '금지', '조치', '이전', '수준', '회복', '다음달', '10월', '비트코', '가격', '8000만원', '돌파', '비트코', '공급', '단기', '추세', '예단하기', '전문가들', '입', '백', '이사', '“4년마다', '반감기만', '비트코', '가격', '지속적', '상승', '것', '예상', '힘들다”고', '말']\n"
     ]
    }
   ],
   "source": [
    "hannanum = Hannanum()\n",
    "noun_list = hannanum.nouns(body)\n",
    "pos_list = hannanum.pos(body)\n",
    "verb_list = [word[0] for word in pos_list if word[1]=='Verb']\n",
    "\n",
    "word_list = noun_list+verb_list\n",
    "print(word_list)\n",
    "# word_list = pd.Series([x for x in word_list if len(x)>1])\n",
    "# word_list.value_counts()"
   ]
  },
  {
   "cell_type": "markdown",
   "metadata": {},
   "source": [
    "### OKT (마찬가지로 명사와 동사) -> 속도가 가장 빠른 듯, 숫자도 걸러주고\n"
   ]
  },
  {
   "cell_type": "code",
   "execution_count": 92,
   "metadata": {},
   "outputs": [
    {
     "name": "stdout",
     "output_type": "stream",
     "text": [
      "['총', '중', '채굴', '남아', '소진', '반감기', '때', '매번', '급등', '다음', '시기', '예상', '채굴', '난도', '가격', '상승', '전망', '업체', '채굴', '량', '장기', '보유', '계획', '비트코인', '서울', '역삼동', '빗썸', '강남', '센터', '직원', '암호', '화폐', '판', '비트코인', '가격', '지난', '초반', '최근', '선', '반등', '김병', '기자', '전체', '비트코인', '개', '중', '개', '채굴', '완료', '것', '집계', '비트코인', '지하자원', '채굴', '수', '수량', '개', '의', '비트코인', '채굴', '사실', '신규', '공급', '중단', '것', '전망', '올해', '점', '대비', '가량', '반등', '비트코인', '가격', '급량', '감소', '상승세', '수', '투자자', '관심', '캐', '비트코인', '급량', '암호', '화폐', '거래소', '업', '비트', '비트코인', '가격', '날', '오후', '기준', '올해', '점', '대비', '상승', '지난', '달', '가량', '오르다', '최근', '며칠', '새', '수준', '등락', '거듭', '시장', '비트코인', '가격', '향방', '비트코인', '채굴량', '주목', '의견', '힘', '비트코인', '그래픽카드', '개조', '산기', '활용', '연산', '비례', '채굴', '수', '가상', '자산', '전문', '미디어', '코', '인텔', '레', '그래프', '가상', '자산', '채굴', '업체', '크립', '토', '지난', '비트코인', '채굴', '이제', '채굴', '수', '비트코인', '이상', '비트코인', '채굴', '완료', '전망', '업계', '마지막', '비트코인', '채굴', '것', '예상', '비트코인', '채굴량', '개', '채굴', '생산', '수렴', '구조', '전력', '생산', '수', '비트코인', '수량', '절반', '때문', '그동안', '반감기', '때', '비트코인', '가격', '급등', '반감기', '비트코인', '가격', '크게', '반감기', '뒤', '상승세', '다음', '반감기', '것', '예상', '암호', '화폐', '거래소', '코빗', '리서치', '센터', '채굴', '량', '지표', '기초', '밸류', '션', '가치', '평가', '기법', '소개', '반감기', '급량', '희소성', '때문', '장기', '비트코인', '가격', '수', '것', '코빗', '측은', '금', '은', '등', '포함', '귀금속', '시장', '전문', '투자자', '사이', '귀금속', '가치', '평가', '이론', '고', '설명', '정석문', '코빗', '이사', '이', '이론', '대해', '희소성', '분명', '자산', '가치', '결정', '요소', '것', '투자', '심리', '등', '다른', '요인', '반영', '며', '비트코인', '급량', '감소', '사실', '가격', '선', '반영', '시각', '적지', '고', '채굴', '업자', '상승', '것', '채굴', '비트코인', '앞', '개', '남지', '채굴', '투자자', '갈수록', '점도', '가격', '상승', '뒷받침', '요소', '비트코인', '채굴', '참가', '사람', '채굴', '난도', '때문', '암호', '화폐', '투자', '업체', '디', '라운드', '백훈종', '이사', '채굴', '업체', '대부분', '장기', '투자자', '최근', '비트코인', '생산', '원가', '상승', '이', '채굴량', '건', '장기', '상승', '예상', '것', '분석', '채굴', '업체', '대부분', '채굴', '암호', '화폐', '시장', '팔지', '장기', '보유', '지난해', '중국', '비트코인', '채굴', '금지', '채굴', '난도', '비트코인', '가격', '이하', '해', '비트코인', '채굴', '업체', '미국', '대거', '전해', '채굴', '난도', '중국', '채굴', '금지', '조치', '이전', '수준', '바로', '다음', '달인', '비트코인', '가격', '돌파', '비트코인', '공급', '단기', '추세', '예단', '전문가', '입', '백', '이사', '반감기', '비트코인', '가격', '지속', '상승', '것', '예상', '고', '말', '오는', '올라', '늘려', '남은', '한', '가리키고', '했다', '된', '됐다', '할', '정해져', '끝나', '될', '된다', '따라', '이어', '나갈', '쏠리고', '낸', '줄어든다', '따르면', '했다', '한', '두고', '해야', '얻고', '해', '해', '할', '따르면', '할', '개다', '되면', '될', '이뤄질', '가까워질수록', '떨어지면서', '하는', '이뤄져', '할', '떨어지기', '가', '올', '했다', '오고', '뛰었고', '이른', '이어', '갔다', '될', '된다', '하기도', '했다', '오면서', '줄어들면', '커지기', '오를', '하는', '알려졌다', '했다', '짓는', '맞지만', '하지', '한다', '잘', '알려진', '됐다고', '보는', '않다', '했다', '할', '내다봐', '않았지만', '뛰어드는', '늘어나고', '하는', '꼽힌다', '하는', '늘수록', '높아지기', '늘린다는', '했다', '내다', '않고', '한다', '하자', '떨어지면서', '내려갔다', '하기도', '했다', '줄어든다고', '해서', '하기는', '모은다', '오는', '할', '하기는', '했다']\n"
     ]
    }
   ],
   "source": [
    "okt = Okt()\n",
    "noun_list = okt.nouns(body)\n",
    "pos_list = okt.pos(body)\n",
    "verb_list = [word[0] for word in pos_list if word[1]=='Verb']\n",
    "\n",
    "word_list = noun_list+verb_list\n",
    "print(word_list)\n",
    "# word_list = pd.Series([x for x in word_list if len(x)>1])\n",
    "# word_list.value_counts()\n",
    "\n",
    "\n",
    "\n",
    "    "
   ]
  },
  {
   "cell_type": "markdown",
   "metadata": {},
   "source": [
    "### Kkma (명사와 동사) -> 속도가 너무 느림, 숫자도 못 거름"
   ]
  },
  {
   "cell_type": "code",
   "execution_count": 94,
   "metadata": {},
   "outputs": [
    {
     "name": "stdout",
     "output_type": "stream",
     "text": [
      "['총', '2100', '2100만개', '만', '개', '중', '1900', '1900만번째', '번째', '채굴', '채굴200만개', '200', '2030', '2030년', '년', '99', '소진', '소진4년', '4', '반감기', '반감기때', '때', '급등', '급등다음', '다음', '시기', '2024', '2024년', '년', '2', '6', '6월', '월', '예상', '예상채굴', '난', '가격', '상승', '전망', '업체', '채굴량', '장기', '장기보유', '보유', '계획', '200만개', '비트', '비트코', '코', '4일', '일', '서울', '역삼', '역삼동', '동', '빗', '강남', '강남센터', '센터', '직원', '암호', '암호화폐', '화폐', '시세', '시세판', '판', '1', '1월', '4000', '4000만원대', '원', '대', '초반', '최근', '5600', '5600만원', '선', '반등', '김', '김병언', '병', '언', '기자', '기자전체', '전체', '2100만', '개의', '완료', '집계', '비트코인은', '인은', '지하', '지하자원', '자원', '수', '수량', '의', '신규', '공급', '중단', '점', '대비', '40', '가량', '공급량', '감소', '상승세', '투자자', '관심', '90', '비트코인', '인', '암호화폐거래소', '거래소', '업', '업비트', '이날', '오후', '3', '3시', '시', '기준', '5651', '5651만원', '올해', '24', '24일', '4087', '4087만원', '38.37', '달', '달간', '간', '17', '며칠', '새', '수준', '등락', '시장', '향방', '주목', '의견', '힘', '그래픽', '그래픽카드', '카드', '개조', '연산', '연산기계', '기계', '활용', '비례', '가상', '가상자산', '자산', '전문', '미디어', '코인텔레그래프', '인텔', '레', '그래프', '채굴업체', '크립', '크립토가', '토가', '1일', '1900만', '성공', '이제', '200만', '이상', '업계', '2140', '2140년', '마지막', '질', '질수록', '수록', '생산성', '0', '수렴', '구조', '일정', '전력', '생산', '4년', '절반', '때문', '그동안', '2020', '2020년', '1년간', '간', '2016', '2016년', '뒤', '1년', '암호화', '폐', '코빗', '리', '리서치센터', '서치', '지표', '기초', '밸류', '션', '가치', '가치평가', '평가', '기법', '소개', '희소성', '장기적', '코', '코빗', '측', '금', '은', '등', '포함', '귀금속', '사이', '오랫동안', '이론', '고', '설명', '정석', '정석문', '문', '이사', '자산가치', '중요', '요소', '투자', '투자심리', '심리', '요인', '반영', '사실', '선반영', '시각', '채굴업자', '업자', '4년간', '가능', '앞', '점도', '뒷받침', '참가', '사람', '도가', '투자업체', '디에이', '디에이그라운드', '그라운드', '백', '백훈종', '훈', '종', '대부분', '원가', '이', '건', '5', '5년간', '장기적인', '적인', '분석', '지난해', '중국', '금지', '4000만원', '이하', '해', '9', '9월', '미국', '이전', '조치', '회복', '다음달인', '달인', '10', '10월', '8000', '8000만원', '돌파', '단기', '추세', '예단', '전문가', '입', '지속적']\n"
     ]
    }
   ],
   "source": [
    "kkma = Kkma()\n",
    "noun_list = kkma.nouns(body)\n",
    "pos_list = kkma.pos(body)\n",
    "verb_list = [word[0] for word in pos_list if word[1]=='Verb']\n",
    "\n",
    "word_list = noun_list+verb_list\n",
    "print(word_list)\n",
    "# word_list = pd.Series([x for x in word_list if len(x)>1])\n",
    "# word_list.value_counts()\n",
    "\n",
    "\n",
    "\n",
    "    "
   ]
  },
  {
   "cell_type": "markdown",
   "metadata": {},
   "source": [
    "### 함수화"
   ]
  },
  {
   "cell_type": "code",
   "execution_count": 108,
   "metadata": {},
   "outputs": [],
   "source": [
    "def generate__word_list(body, tool='Okt'):\n",
    "\n",
    "    if tool == 'Okt':\n",
    "        okt = Okt()\n",
    "        noun_list = okt.nouns(body)\n",
    "        pos_list = okt.pos(body)\n",
    "        verb_list = [word[0] for word in pos_list if word[1]=='Verb']\n",
    "\n",
    "        word_list = noun_list+verb_list\n",
    "        print(word_list)\n",
    "        # word_list = pd.Series([x for x in word_list if len(x)>1])\n",
    "        # word_list.value_counts()\n",
    "\n",
    "    elif tool == 'Hannanum':\n",
    "        hannanum = Hannanum()\n",
    "        noun_list = hannanum.nouns(body)\n",
    "        pos_list = hannanum.pos(body)\n",
    "        verb_list = [word[0] for word in pos_list if word[1]=='Verb']\n",
    "\n",
    "        word_list = noun_list+verb_list\n",
    "        print(word_list)\n",
    "        # word_list = pd.Series([x for x in word_list if len(x)>1])\n",
    "        # word_list.value_counts()\n",
    "\n",
    "    elif tool == 'Kkma':\n",
    "        kkma = Kkma()\n",
    "        noun_list = kkma.nouns(body)\n",
    "        pos_list = kkma.pos(body)\n",
    "        verb_list = [word[0] for word in pos_list if word[1]=='Verb']\n",
    "\n",
    "        word_list = noun_list+verb_list\n",
    "        print(word_list)\n",
    "        # word_list = pd.Series([x for x in word_list if len(x)>1])\n",
    "        # word_list.value_counts()\n",
    "\n",
    "\n",
    "\n",
    "    \n"
   ]
  },
  {
   "cell_type": "code",
   "execution_count": 109,
   "metadata": {},
   "outputs": [
    {
     "name": "stdout",
     "output_type": "stream",
     "text": [
      "['총', '중', '채굴', '남아', '소진', '반감기', '때', '매번', '급등', '다음', '시기', '예상', '채굴', '난도', '가격', '상승', '전망', '업체', '채굴', '량', '장기', '보유', '계획', '비트코인', '서울', '역삼동', '빗썸', '강남', '센터', '직원', '암호', '화폐', '판', '비트코인', '가격', '지난', '초반', '최근', '선', '반등', '김병', '기자', '전체', '비트코인', '개', '중', '개', '채굴', '완료', '것', '집계', '비트코인', '지하자원', '채굴', '수', '수량', '개', '의', '비트코인', '채굴', '사실', '신규', '공급', '중단', '것', '전망', '올해', '점', '대비', '가량', '반등', '비트코인', '가격', '급량', '감소', '상승세', '수', '투자자', '관심', '캐', '비트코인', '급량', '암호', '화폐', '거래소', '업', '비트', '비트코인', '가격', '날', '오후', '기준', '올해', '점', '대비', '상승', '지난', '달', '가량', '오르다', '최근', '며칠', '새', '수준', '등락', '거듭', '시장', '비트코인', '가격', '향방', '비트코인', '채굴량', '주목', '의견', '힘', '비트코인', '그래픽카드', '개조', '산기', '활용', '연산', '비례', '채굴', '수', '가상', '자산', '전문', '미디어', '코', '인텔', '레', '그래프', '가상', '자산', '채굴', '업체', '크립', '토', '지난', '비트코인', '채굴', '이제', '채굴', '수', '비트코인', '이상', '비트코인', '채굴', '완료', '전망', '업계', '마지막', '비트코인', '채굴', '것', '예상', '비트코인', '채굴량', '개', '채굴', '생산', '수렴', '구조', '전력', '생산', '수', '비트코인', '수량', '절반', '때문', '그동안', '반감기', '때', '비트코인', '가격', '급등', '반감기', '비트코인', '가격', '크게', '반감기', '뒤', '상승세', '다음', '반감기', '것', '예상', '암호', '화폐', '거래소', '코빗', '리서치', '센터', '채굴', '량', '지표', '기초', '밸류', '션', '가치', '평가', '기법', '소개', '반감기', '급량', '희소성', '때문', '장기', '비트코인', '가격', '수', '것', '코빗', '측은', '금', '은', '등', '포함', '귀금속', '시장', '전문', '투자자', '사이', '귀금속', '가치', '평가', '이론', '고', '설명', '정석문', '코빗', '이사', '이', '이론', '대해', '희소성', '분명', '자산', '가치', '결정', '요소', '것', '투자', '심리', '등', '다른', '요인', '반영', '며', '비트코인', '급량', '감소', '사실', '가격', '선', '반영', '시각', '적지', '고', '채굴', '업자', '상승', '것', '채굴', '비트코인', '앞', '개', '남지', '채굴', '투자자', '갈수록', '점도', '가격', '상승', '뒷받침', '요소', '비트코인', '채굴', '참가', '사람', '채굴', '난도', '때문', '암호', '화폐', '투자', '업체', '디', '라운드', '백훈종', '이사', '채굴', '업체', '대부분', '장기', '투자자', '최근', '비트코인', '생산', '원가', '상승', '이', '채굴량', '건', '장기', '상승', '예상', '것', '분석', '채굴', '업체', '대부분', '채굴', '암호', '화폐', '시장', '팔지', '장기', '보유', '지난해', '중국', '비트코인', '채굴', '금지', '채굴', '난도', '비트코인', '가격', '이하', '해', '비트코인', '채굴', '업체', '미국', '대거', '전해', '채굴', '난도', '중국', '채굴', '금지', '조치', '이전', '수준', '바로', '다음', '달인', '비트코인', '가격', '돌파', '비트코인', '공급', '단기', '추세', '예단', '전문가', '입', '백', '이사', '반감기', '비트코인', '가격', '지속', '상승', '것', '예상', '고', '말', '오는', '올라', '늘려', '남은', '한', '가리키고', '했다', '된', '됐다', '할', '정해져', '끝나', '될', '된다', '따라', '이어', '나갈', '쏠리고', '낸', '줄어든다', '따르면', '했다', '한', '두고', '해야', '얻고', '해', '해', '할', '따르면', '할', '개다', '되면', '될', '이뤄질', '가까워질수록', '떨어지면서', '하는', '이뤄져', '할', '떨어지기', '가', '올', '했다', '오고', '뛰었고', '이른', '이어', '갔다', '될', '된다', '하기도', '했다', '오면서', '줄어들면', '커지기', '오를', '하는', '알려졌다', '했다', '짓는', '맞지만', '하지', '한다', '잘', '알려진', '됐다고', '보는', '않다', '했다', '할', '내다봐', '않았지만', '뛰어드는', '늘어나고', '하는', '꼽힌다', '하는', '늘수록', '높아지기', '늘린다는', '했다', '내다', '않고', '한다', '하자', '떨어지면서', '내려갔다', '하기도', '했다', '줄어든다고', '해서', '하기는', '모은다', '오는', '할', '하기는', '했다']\n"
     ]
    }
   ],
   "source": [
    "generate_list(body,'Okt')"
   ]
  },
  {
   "cell_type": "code",
   "execution_count": null,
   "metadata": {},
   "outputs": [],
   "source": []
  },
  {
   "cell_type": "markdown",
   "metadata": {},
   "source": [
    "## Elastic Search에서 데이터 불러오기"
   ]
  },
  {
   "cell_type": "code",
   "execution_count": 17,
   "metadata": {},
   "outputs": [],
   "source": [
    "url = f\"{ELASTIC_SEARCH_URL}/news/_search\""
   ]
  },
  {
   "cell_type": "code",
   "execution_count": 21,
   "metadata": {},
   "outputs": [],
   "source": [
    "pub ='비트코인'"
   ]
  },
  {
   "cell_type": "code",
   "execution_count": 29,
   "metadata": {},
   "outputs": [],
   "source": [
    "query = \"\"\"\n",
    "{\n",
    "  \"query\":{\n",
    "    \"match\":{\n",
    "      \"body\": \"%s\"\n",
    "    }\n",
    "  }\n",
    "}\n",
    "\"\"\"%pub"
   ]
  },
  {
   "cell_type": "code",
   "execution_count": 32,
   "metadata": {},
   "outputs": [
    {
     "data": {
      "text/plain": [
       "b'\\n{\\n  \"query\":{\\n    \"match\":{\\n      \"body\": \"\\xeb\\xb9\\x84\\xed\\x8a\\xb8\\xec\\xbd\\x94\\xec\\x9d\\xb8\"\\n    }\\n  }\\n}\\n'"
      ]
     },
     "execution_count": 32,
     "metadata": {},
     "output_type": "execute_result"
    }
   ],
   "source": [
    "query.encode('utf-8')"
   ]
  },
  {
   "cell_type": "code",
   "execution_count": 30,
   "metadata": {},
   "outputs": [],
   "source": [
    "headers = {\n",
    "    'Content-Type': 'application/json'\n",
    "}"
   ]
  },
  {
   "cell_type": "code",
   "execution_count": 33,
   "metadata": {},
   "outputs": [
    {
     "ename": "UnicodeEncodeError",
     "evalue": "'latin-1' codec can't encode characters in position 44-47: Body ('비트코인') is not valid Latin-1. Use body.encode('utf-8') if you want to send it encoded in UTF-8.",
     "output_type": "error",
     "traceback": [
      "\u001b[1;31m---------------------------------------------------------------------------\u001b[0m",
      "\u001b[1;31mUnicodeEncodeError\u001b[0m                        Traceback (most recent call last)",
      "\u001b[1;32m<ipython-input-33-6239d2bcf894>\u001b[0m in \u001b[0;36m<module>\u001b[1;34m\u001b[0m\n\u001b[1;32m----> 1\u001b[1;33m resp = requests.get(\n\u001b[0m\u001b[0;32m      2\u001b[0m     \u001b[0murl\u001b[0m\u001b[1;33m,\u001b[0m\u001b[1;33m\u001b[0m\u001b[1;33m\u001b[0m\u001b[0m\n\u001b[0;32m      3\u001b[0m     \u001b[0mdata\u001b[0m\u001b[1;33m=\u001b[0m\u001b[0mquery\u001b[0m\u001b[1;33m,\u001b[0m\u001b[1;33m\u001b[0m\u001b[1;33m\u001b[0m\u001b[0m\n\u001b[0;32m      4\u001b[0m     \u001b[0mheaders\u001b[0m\u001b[1;33m=\u001b[0m\u001b[0mheaders\u001b[0m\u001b[1;33m,\u001b[0m\u001b[1;33m\u001b[0m\u001b[1;33m\u001b[0m\u001b[0m\n\u001b[0;32m      5\u001b[0m     \u001b[0mauth\u001b[0m \u001b[1;33m=\u001b[0m \u001b[0mELASTIC_SEARCH_AUTH\u001b[0m\u001b[1;33m\u001b[0m\u001b[1;33m\u001b[0m\u001b[0m\n",
      "\u001b[1;32mc:\\Users\\user\\Anaconda3\\lib\\site-packages\\requests\\api.py\u001b[0m in \u001b[0;36mget\u001b[1;34m(url, params, **kwargs)\u001b[0m\n\u001b[0;32m     74\u001b[0m \u001b[1;33m\u001b[0m\u001b[0m\n\u001b[0;32m     75\u001b[0m     \u001b[0mkwargs\u001b[0m\u001b[1;33m.\u001b[0m\u001b[0msetdefault\u001b[0m\u001b[1;33m(\u001b[0m\u001b[1;34m'allow_redirects'\u001b[0m\u001b[1;33m,\u001b[0m \u001b[1;32mTrue\u001b[0m\u001b[1;33m)\u001b[0m\u001b[1;33m\u001b[0m\u001b[1;33m\u001b[0m\u001b[0m\n\u001b[1;32m---> 76\u001b[1;33m     \u001b[1;32mreturn\u001b[0m \u001b[0mrequest\u001b[0m\u001b[1;33m(\u001b[0m\u001b[1;34m'get'\u001b[0m\u001b[1;33m,\u001b[0m \u001b[0murl\u001b[0m\u001b[1;33m,\u001b[0m \u001b[0mparams\u001b[0m\u001b[1;33m=\u001b[0m\u001b[0mparams\u001b[0m\u001b[1;33m,\u001b[0m \u001b[1;33m**\u001b[0m\u001b[0mkwargs\u001b[0m\u001b[1;33m)\u001b[0m\u001b[1;33m\u001b[0m\u001b[1;33m\u001b[0m\u001b[0m\n\u001b[0m\u001b[0;32m     77\u001b[0m \u001b[1;33m\u001b[0m\u001b[0m\n\u001b[0;32m     78\u001b[0m \u001b[1;33m\u001b[0m\u001b[0m\n",
      "\u001b[1;32mc:\\Users\\user\\Anaconda3\\lib\\site-packages\\requests\\api.py\u001b[0m in \u001b[0;36mrequest\u001b[1;34m(method, url, **kwargs)\u001b[0m\n\u001b[0;32m     59\u001b[0m     \u001b[1;31m# cases, and look like a memory leak in others.\u001b[0m\u001b[1;33m\u001b[0m\u001b[1;33m\u001b[0m\u001b[1;33m\u001b[0m\u001b[0m\n\u001b[0;32m     60\u001b[0m     \u001b[1;32mwith\u001b[0m \u001b[0msessions\u001b[0m\u001b[1;33m.\u001b[0m\u001b[0mSession\u001b[0m\u001b[1;33m(\u001b[0m\u001b[1;33m)\u001b[0m \u001b[1;32mas\u001b[0m \u001b[0msession\u001b[0m\u001b[1;33m:\u001b[0m\u001b[1;33m\u001b[0m\u001b[1;33m\u001b[0m\u001b[0m\n\u001b[1;32m---> 61\u001b[1;33m         \u001b[1;32mreturn\u001b[0m \u001b[0msession\u001b[0m\u001b[1;33m.\u001b[0m\u001b[0mrequest\u001b[0m\u001b[1;33m(\u001b[0m\u001b[0mmethod\u001b[0m\u001b[1;33m=\u001b[0m\u001b[0mmethod\u001b[0m\u001b[1;33m,\u001b[0m \u001b[0murl\u001b[0m\u001b[1;33m=\u001b[0m\u001b[0murl\u001b[0m\u001b[1;33m,\u001b[0m \u001b[1;33m**\u001b[0m\u001b[0mkwargs\u001b[0m\u001b[1;33m)\u001b[0m\u001b[1;33m\u001b[0m\u001b[1;33m\u001b[0m\u001b[0m\n\u001b[0m\u001b[0;32m     62\u001b[0m \u001b[1;33m\u001b[0m\u001b[0m\n\u001b[0;32m     63\u001b[0m \u001b[1;33m\u001b[0m\u001b[0m\n",
      "\u001b[1;32mc:\\Users\\user\\Anaconda3\\lib\\site-packages\\requests\\sessions.py\u001b[0m in \u001b[0;36mrequest\u001b[1;34m(self, method, url, params, data, headers, cookies, files, auth, timeout, allow_redirects, proxies, hooks, stream, verify, cert, json)\u001b[0m\n\u001b[0;32m    540\u001b[0m         }\n\u001b[0;32m    541\u001b[0m         \u001b[0msend_kwargs\u001b[0m\u001b[1;33m.\u001b[0m\u001b[0mupdate\u001b[0m\u001b[1;33m(\u001b[0m\u001b[0msettings\u001b[0m\u001b[1;33m)\u001b[0m\u001b[1;33m\u001b[0m\u001b[1;33m\u001b[0m\u001b[0m\n\u001b[1;32m--> 542\u001b[1;33m         \u001b[0mresp\u001b[0m \u001b[1;33m=\u001b[0m \u001b[0mself\u001b[0m\u001b[1;33m.\u001b[0m\u001b[0msend\u001b[0m\u001b[1;33m(\u001b[0m\u001b[0mprep\u001b[0m\u001b[1;33m,\u001b[0m \u001b[1;33m**\u001b[0m\u001b[0msend_kwargs\u001b[0m\u001b[1;33m)\u001b[0m\u001b[1;33m\u001b[0m\u001b[1;33m\u001b[0m\u001b[0m\n\u001b[0m\u001b[0;32m    543\u001b[0m \u001b[1;33m\u001b[0m\u001b[0m\n\u001b[0;32m    544\u001b[0m         \u001b[1;32mreturn\u001b[0m \u001b[0mresp\u001b[0m\u001b[1;33m\u001b[0m\u001b[1;33m\u001b[0m\u001b[0m\n",
      "\u001b[1;32mc:\\Users\\user\\Anaconda3\\lib\\site-packages\\requests\\sessions.py\u001b[0m in \u001b[0;36msend\u001b[1;34m(self, request, **kwargs)\u001b[0m\n\u001b[0;32m    653\u001b[0m \u001b[1;33m\u001b[0m\u001b[0m\n\u001b[0;32m    654\u001b[0m         \u001b[1;31m# Send the request\u001b[0m\u001b[1;33m\u001b[0m\u001b[1;33m\u001b[0m\u001b[1;33m\u001b[0m\u001b[0m\n\u001b[1;32m--> 655\u001b[1;33m         \u001b[0mr\u001b[0m \u001b[1;33m=\u001b[0m \u001b[0madapter\u001b[0m\u001b[1;33m.\u001b[0m\u001b[0msend\u001b[0m\u001b[1;33m(\u001b[0m\u001b[0mrequest\u001b[0m\u001b[1;33m,\u001b[0m \u001b[1;33m**\u001b[0m\u001b[0mkwargs\u001b[0m\u001b[1;33m)\u001b[0m\u001b[1;33m\u001b[0m\u001b[1;33m\u001b[0m\u001b[0m\n\u001b[0m\u001b[0;32m    656\u001b[0m \u001b[1;33m\u001b[0m\u001b[0m\n\u001b[0;32m    657\u001b[0m         \u001b[1;31m# Total elapsed time of the request (approximately)\u001b[0m\u001b[1;33m\u001b[0m\u001b[1;33m\u001b[0m\u001b[1;33m\u001b[0m\u001b[0m\n",
      "\u001b[1;32mc:\\Users\\user\\Anaconda3\\lib\\site-packages\\requests\\adapters.py\u001b[0m in \u001b[0;36msend\u001b[1;34m(self, request, stream, timeout, verify, cert, proxies)\u001b[0m\n\u001b[0;32m    437\u001b[0m         \u001b[1;32mtry\u001b[0m\u001b[1;33m:\u001b[0m\u001b[1;33m\u001b[0m\u001b[1;33m\u001b[0m\u001b[0m\n\u001b[0;32m    438\u001b[0m             \u001b[1;32mif\u001b[0m \u001b[1;32mnot\u001b[0m \u001b[0mchunked\u001b[0m\u001b[1;33m:\u001b[0m\u001b[1;33m\u001b[0m\u001b[1;33m\u001b[0m\u001b[0m\n\u001b[1;32m--> 439\u001b[1;33m                 resp = conn.urlopen(\n\u001b[0m\u001b[0;32m    440\u001b[0m                     \u001b[0mmethod\u001b[0m\u001b[1;33m=\u001b[0m\u001b[0mrequest\u001b[0m\u001b[1;33m.\u001b[0m\u001b[0mmethod\u001b[0m\u001b[1;33m,\u001b[0m\u001b[1;33m\u001b[0m\u001b[1;33m\u001b[0m\u001b[0m\n\u001b[0;32m    441\u001b[0m                     \u001b[0murl\u001b[0m\u001b[1;33m=\u001b[0m\u001b[0murl\u001b[0m\u001b[1;33m,\u001b[0m\u001b[1;33m\u001b[0m\u001b[1;33m\u001b[0m\u001b[0m\n",
      "\u001b[1;32mc:\\Users\\user\\Anaconda3\\lib\\site-packages\\urllib3\\connectionpool.py\u001b[0m in \u001b[0;36murlopen\u001b[1;34m(self, method, url, body, headers, retries, redirect, assert_same_host, timeout, pool_timeout, release_conn, chunked, body_pos, **response_kw)\u001b[0m\n\u001b[0;32m    697\u001b[0m \u001b[1;33m\u001b[0m\u001b[0m\n\u001b[0;32m    698\u001b[0m             \u001b[1;31m# Make the request on the httplib connection object.\u001b[0m\u001b[1;33m\u001b[0m\u001b[1;33m\u001b[0m\u001b[1;33m\u001b[0m\u001b[0m\n\u001b[1;32m--> 699\u001b[1;33m             httplib_response = self._make_request(\n\u001b[0m\u001b[0;32m    700\u001b[0m                 \u001b[0mconn\u001b[0m\u001b[1;33m,\u001b[0m\u001b[1;33m\u001b[0m\u001b[1;33m\u001b[0m\u001b[0m\n\u001b[0;32m    701\u001b[0m                 \u001b[0mmethod\u001b[0m\u001b[1;33m,\u001b[0m\u001b[1;33m\u001b[0m\u001b[1;33m\u001b[0m\u001b[0m\n",
      "\u001b[1;32mc:\\Users\\user\\Anaconda3\\lib\\site-packages\\urllib3\\connectionpool.py\u001b[0m in \u001b[0;36m_make_request\u001b[1;34m(self, conn, method, url, timeout, chunked, **httplib_request_kw)\u001b[0m\n\u001b[0;32m    392\u001b[0m                 \u001b[0mconn\u001b[0m\u001b[1;33m.\u001b[0m\u001b[0mrequest_chunked\u001b[0m\u001b[1;33m(\u001b[0m\u001b[0mmethod\u001b[0m\u001b[1;33m,\u001b[0m \u001b[0murl\u001b[0m\u001b[1;33m,\u001b[0m \u001b[1;33m**\u001b[0m\u001b[0mhttplib_request_kw\u001b[0m\u001b[1;33m)\u001b[0m\u001b[1;33m\u001b[0m\u001b[1;33m\u001b[0m\u001b[0m\n\u001b[0;32m    393\u001b[0m             \u001b[1;32melse\u001b[0m\u001b[1;33m:\u001b[0m\u001b[1;33m\u001b[0m\u001b[1;33m\u001b[0m\u001b[0m\n\u001b[1;32m--> 394\u001b[1;33m                 \u001b[0mconn\u001b[0m\u001b[1;33m.\u001b[0m\u001b[0mrequest\u001b[0m\u001b[1;33m(\u001b[0m\u001b[0mmethod\u001b[0m\u001b[1;33m,\u001b[0m \u001b[0murl\u001b[0m\u001b[1;33m,\u001b[0m \u001b[1;33m**\u001b[0m\u001b[0mhttplib_request_kw\u001b[0m\u001b[1;33m)\u001b[0m\u001b[1;33m\u001b[0m\u001b[1;33m\u001b[0m\u001b[0m\n\u001b[0m\u001b[0;32m    395\u001b[0m \u001b[1;33m\u001b[0m\u001b[0m\n\u001b[0;32m    396\u001b[0m         \u001b[1;31m# We are swallowing BrokenPipeError (errno.EPIPE) since the server is\u001b[0m\u001b[1;33m\u001b[0m\u001b[1;33m\u001b[0m\u001b[1;33m\u001b[0m\u001b[0m\n",
      "\u001b[1;32mc:\\Users\\user\\Anaconda3\\lib\\site-packages\\urllib3\\connection.py\u001b[0m in \u001b[0;36mrequest\u001b[1;34m(self, method, url, body, headers)\u001b[0m\n\u001b[0;32m    232\u001b[0m         \u001b[1;32mif\u001b[0m \u001b[1;34m\"user-agent\"\u001b[0m \u001b[1;32mnot\u001b[0m \u001b[1;32min\u001b[0m \u001b[1;33m(\u001b[0m\u001b[0msix\u001b[0m\u001b[1;33m.\u001b[0m\u001b[0mensure_str\u001b[0m\u001b[1;33m(\u001b[0m\u001b[0mk\u001b[0m\u001b[1;33m.\u001b[0m\u001b[0mlower\u001b[0m\u001b[1;33m(\u001b[0m\u001b[1;33m)\u001b[0m\u001b[1;33m)\u001b[0m \u001b[1;32mfor\u001b[0m \u001b[0mk\u001b[0m \u001b[1;32min\u001b[0m \u001b[0mheaders\u001b[0m\u001b[1;33m)\u001b[0m\u001b[1;33m:\u001b[0m\u001b[1;33m\u001b[0m\u001b[1;33m\u001b[0m\u001b[0m\n\u001b[0;32m    233\u001b[0m             \u001b[0mheaders\u001b[0m\u001b[1;33m[\u001b[0m\u001b[1;34m\"User-Agent\"\u001b[0m\u001b[1;33m]\u001b[0m \u001b[1;33m=\u001b[0m \u001b[0m_get_default_user_agent\u001b[0m\u001b[1;33m(\u001b[0m\u001b[1;33m)\u001b[0m\u001b[1;33m\u001b[0m\u001b[1;33m\u001b[0m\u001b[0m\n\u001b[1;32m--> 234\u001b[1;33m         \u001b[0msuper\u001b[0m\u001b[1;33m(\u001b[0m\u001b[0mHTTPConnection\u001b[0m\u001b[1;33m,\u001b[0m \u001b[0mself\u001b[0m\u001b[1;33m)\u001b[0m\u001b[1;33m.\u001b[0m\u001b[0mrequest\u001b[0m\u001b[1;33m(\u001b[0m\u001b[0mmethod\u001b[0m\u001b[1;33m,\u001b[0m \u001b[0murl\u001b[0m\u001b[1;33m,\u001b[0m \u001b[0mbody\u001b[0m\u001b[1;33m=\u001b[0m\u001b[0mbody\u001b[0m\u001b[1;33m,\u001b[0m \u001b[0mheaders\u001b[0m\u001b[1;33m=\u001b[0m\u001b[0mheaders\u001b[0m\u001b[1;33m)\u001b[0m\u001b[1;33m\u001b[0m\u001b[1;33m\u001b[0m\u001b[0m\n\u001b[0m\u001b[0;32m    235\u001b[0m \u001b[1;33m\u001b[0m\u001b[0m\n\u001b[0;32m    236\u001b[0m     \u001b[1;32mdef\u001b[0m \u001b[0mrequest_chunked\u001b[0m\u001b[1;33m(\u001b[0m\u001b[0mself\u001b[0m\u001b[1;33m,\u001b[0m \u001b[0mmethod\u001b[0m\u001b[1;33m,\u001b[0m \u001b[0murl\u001b[0m\u001b[1;33m,\u001b[0m \u001b[0mbody\u001b[0m\u001b[1;33m=\u001b[0m\u001b[1;32mNone\u001b[0m\u001b[1;33m,\u001b[0m \u001b[0mheaders\u001b[0m\u001b[1;33m=\u001b[0m\u001b[1;32mNone\u001b[0m\u001b[1;33m)\u001b[0m\u001b[1;33m:\u001b[0m\u001b[1;33m\u001b[0m\u001b[1;33m\u001b[0m\u001b[0m\n",
      "\u001b[1;32mc:\\Users\\user\\Anaconda3\\lib\\http\\client.py\u001b[0m in \u001b[0;36mrequest\u001b[1;34m(self, method, url, body, headers, encode_chunked)\u001b[0m\n\u001b[0;32m   1253\u001b[0m                 encode_chunked=False):\n\u001b[0;32m   1254\u001b[0m         \u001b[1;34m\"\"\"Send a complete request to the server.\"\"\"\u001b[0m\u001b[1;33m\u001b[0m\u001b[1;33m\u001b[0m\u001b[0m\n\u001b[1;32m-> 1255\u001b[1;33m         \u001b[0mself\u001b[0m\u001b[1;33m.\u001b[0m\u001b[0m_send_request\u001b[0m\u001b[1;33m(\u001b[0m\u001b[0mmethod\u001b[0m\u001b[1;33m,\u001b[0m \u001b[0murl\u001b[0m\u001b[1;33m,\u001b[0m \u001b[0mbody\u001b[0m\u001b[1;33m,\u001b[0m \u001b[0mheaders\u001b[0m\u001b[1;33m,\u001b[0m \u001b[0mencode_chunked\u001b[0m\u001b[1;33m)\u001b[0m\u001b[1;33m\u001b[0m\u001b[1;33m\u001b[0m\u001b[0m\n\u001b[0m\u001b[0;32m   1256\u001b[0m \u001b[1;33m\u001b[0m\u001b[0m\n\u001b[0;32m   1257\u001b[0m     \u001b[1;32mdef\u001b[0m \u001b[0m_send_request\u001b[0m\u001b[1;33m(\u001b[0m\u001b[0mself\u001b[0m\u001b[1;33m,\u001b[0m \u001b[0mmethod\u001b[0m\u001b[1;33m,\u001b[0m \u001b[0murl\u001b[0m\u001b[1;33m,\u001b[0m \u001b[0mbody\u001b[0m\u001b[1;33m,\u001b[0m \u001b[0mheaders\u001b[0m\u001b[1;33m,\u001b[0m \u001b[0mencode_chunked\u001b[0m\u001b[1;33m)\u001b[0m\u001b[1;33m:\u001b[0m\u001b[1;33m\u001b[0m\u001b[1;33m\u001b[0m\u001b[0m\n",
      "\u001b[1;32mc:\\Users\\user\\Anaconda3\\lib\\http\\client.py\u001b[0m in \u001b[0;36m_send_request\u001b[1;34m(self, method, url, body, headers, encode_chunked)\u001b[0m\n\u001b[0;32m   1298\u001b[0m             \u001b[1;31m# RFC 2616 Section 3.7.1 says that text default has a\u001b[0m\u001b[1;33m\u001b[0m\u001b[1;33m\u001b[0m\u001b[1;33m\u001b[0m\u001b[0m\n\u001b[0;32m   1299\u001b[0m             \u001b[1;31m# default charset of iso-8859-1.\u001b[0m\u001b[1;33m\u001b[0m\u001b[1;33m\u001b[0m\u001b[1;33m\u001b[0m\u001b[0m\n\u001b[1;32m-> 1300\u001b[1;33m             \u001b[0mbody\u001b[0m \u001b[1;33m=\u001b[0m \u001b[0m_encode\u001b[0m\u001b[1;33m(\u001b[0m\u001b[0mbody\u001b[0m\u001b[1;33m,\u001b[0m \u001b[1;34m'body'\u001b[0m\u001b[1;33m)\u001b[0m\u001b[1;33m\u001b[0m\u001b[1;33m\u001b[0m\u001b[0m\n\u001b[0m\u001b[0;32m   1301\u001b[0m         \u001b[0mself\u001b[0m\u001b[1;33m.\u001b[0m\u001b[0mendheaders\u001b[0m\u001b[1;33m(\u001b[0m\u001b[0mbody\u001b[0m\u001b[1;33m,\u001b[0m \u001b[0mencode_chunked\u001b[0m\u001b[1;33m=\u001b[0m\u001b[0mencode_chunked\u001b[0m\u001b[1;33m)\u001b[0m\u001b[1;33m\u001b[0m\u001b[1;33m\u001b[0m\u001b[0m\n\u001b[0;32m   1302\u001b[0m \u001b[1;33m\u001b[0m\u001b[0m\n",
      "\u001b[1;32mc:\\Users\\user\\Anaconda3\\lib\\http\\client.py\u001b[0m in \u001b[0;36m_encode\u001b[1;34m(data, name)\u001b[0m\n\u001b[0;32m    162\u001b[0m         \u001b[1;32mreturn\u001b[0m \u001b[0mdata\u001b[0m\u001b[1;33m.\u001b[0m\u001b[0mencode\u001b[0m\u001b[1;33m(\u001b[0m\u001b[1;34m\"latin-1\"\u001b[0m\u001b[1;33m)\u001b[0m\u001b[1;33m\u001b[0m\u001b[1;33m\u001b[0m\u001b[0m\n\u001b[0;32m    163\u001b[0m     \u001b[1;32mexcept\u001b[0m \u001b[0mUnicodeEncodeError\u001b[0m \u001b[1;32mas\u001b[0m \u001b[0merr\u001b[0m\u001b[1;33m:\u001b[0m\u001b[1;33m\u001b[0m\u001b[1;33m\u001b[0m\u001b[0m\n\u001b[1;32m--> 164\u001b[1;33m         raise UnicodeEncodeError(\n\u001b[0m\u001b[0;32m    165\u001b[0m             \u001b[0merr\u001b[0m\u001b[1;33m.\u001b[0m\u001b[0mencoding\u001b[0m\u001b[1;33m,\u001b[0m\u001b[1;33m\u001b[0m\u001b[1;33m\u001b[0m\u001b[0m\n\u001b[0;32m    166\u001b[0m             \u001b[0merr\u001b[0m\u001b[1;33m.\u001b[0m\u001b[0mobject\u001b[0m\u001b[1;33m,\u001b[0m\u001b[1;33m\u001b[0m\u001b[1;33m\u001b[0m\u001b[0m\n",
      "\u001b[1;31mUnicodeEncodeError\u001b[0m: 'latin-1' codec can't encode characters in position 44-47: Body ('비트코인') is not valid Latin-1. Use body.encode('utf-8') if you want to send it encoded in UTF-8."
     ]
    }
   ],
   "source": [
    "resp = requests.get(\n",
    "    url,\n",
    "    data=query,\n",
    "    headers=headers,\n",
    "    auth = ELASTIC_SEARCH_AUTH\n",
    ")"
   ]
  },
  {
   "cell_type": "code",
   "execution_count": null,
   "metadata": {},
   "outputs": [],
   "source": []
  }
 ],
 "metadata": {
  "interpreter": {
   "hash": "c1124073dee199d8e1894afd18905e6ab65c2b78c2f71f2204c8c819619ccb15"
  },
  "kernelspec": {
   "display_name": "Python 3.8.8 ('base')",
   "language": "python",
   "name": "python3"
  },
  "language_info": {
   "codemirror_mode": {
    "name": "ipython",
    "version": 3
   },
   "file_extension": ".py",
   "mimetype": "text/x-python",
   "name": "python",
   "nbconvert_exporter": "python",
   "pygments_lexer": "ipython3",
   "version": "3.8.8"
  },
  "orig_nbformat": 4
 },
 "nbformat": 4,
 "nbformat_minor": 2
}
