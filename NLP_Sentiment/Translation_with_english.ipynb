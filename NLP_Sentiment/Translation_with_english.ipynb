{
 "cells": [
  {
   "cell_type": "code",
   "execution_count": 11,
   "metadata": {},
   "outputs": [],
   "source": [
    "import requests\n",
    "import matplotlib.pyplot as plt\n",
    "from matplotlib import rc\n",
    "import pandas as pd\n",
    "import re\n",
    "import datetime \n",
    "from konlpy.tag import Hannanum\n",
    "from config import * # config안의 정보 가져오기\n",
    "from transformers import pipeline\n",
    "rc('font', family='AppleGothic')\n",
    "\n",
    "plt.rcParams['axes.unicode_minus'] = False"
   ]
  },
  {
   "cell_type": "code",
   "execution_count": 12,
   "metadata": {},
   "outputs": [],
   "source": [
    "def resp_data (url, query, headers, ELASTIC_SEARCH_AUTH, type):\n",
    "    '''type for POST, GET ... '''\n",
    "\n",
    "    resp = requests.get(\n",
    "        url,\n",
    "        data=query.encode('utf-8'),\n",
    "        headers=headers,\n",
    "        auth = ELASTIC_SEARCH_AUTH\n",
    "    )\n",
    "\n",
    "    order = type\n",
    "\n",
    "    return requests.order(url, data=query, headers=headers, auth = ELASTIC_SEARCH_AUTH).json()"
   ]
  },
  {
   "cell_type": "code",
   "execution_count": 13,
   "metadata": {},
   "outputs": [],
   "source": [
    "def get_today_stock_news_data_list (ticker_name):\n",
    "\n",
    "    #start_time = datetime.datetime.today().strftime(\"%Y-%m-%dT00:00:00\")\n",
    "    #end_time = datetime.datetime.today().strftime(\"%Y-%m-%dT23:59:59\") 이건 오늘 날짜로 따질때 이야기\n",
    "\n",
    "    start_time = \"2022-04-05T00:00:00\"\n",
    "    end_time = \"2022-04-05T23:59:59\"\n",
    "\n",
    "\n",
    "    headers = {\n",
    "    'Content-Type': 'application/json'\n",
    "    }\n",
    "\n",
    "    url = f\"{ELASTIC_SEARCH_URL}/news/_count\"\n",
    "\n",
    "    query=f'''{{\n",
    "    \"query\": {{\n",
    "      \"bool\": {{\n",
    "        \"must\": [\n",
    "          {{\n",
    "            \"match\": {{\n",
    "              \"body\": \"{ticker_name}\"\n",
    "            }}\n",
    "          }},\n",
    "          {{\n",
    "            \"range\": {{\n",
    "              \"created_at\": {{\n",
    "               \"gte\": \"{start_time}\",\n",
    "               \"lte\": \"{end_time}\"\n",
    "              }}\n",
    "            }}\n",
    "          }}\n",
    "        ]\n",
    "      }}\n",
    "    }}\n",
    "    }}'''\n",
    "\n",
    "    count = int(requests.get(url, data=query.encode('utf-8'), headers=headers, auth = ELASTIC_SEARCH_AUTH).json()['count'])\n",
    "\n",
    "    if count != 0:\n",
    "\n",
    "      url = f\"{ELASTIC_SEARCH_URL}/news/_search\"\n",
    "\n",
    "      query=f'''{{\n",
    "      \"size\": {count},\n",
    "      \"query\": {{\n",
    "        \"bool\": {{\n",
    "          \"must\": [\n",
    "            {{\n",
    "              \"match\": {{\n",
    "                \"body\": \"{ticker_name}\"\n",
    "              }}\n",
    "            }},\n",
    "            {{\n",
    "              \"range\": {{\n",
    "                \"created_at\": {{\n",
    "                \"gte\": \"{start_time}\",\n",
    "                \"lte\": \"{end_time}\"\n",
    "                }}\n",
    "              }}\n",
    "            }}\n",
    "          ]\n",
    "        }}\n",
    "      }}\n",
    "      }}'''  \n",
    "\n",
    "      resp = requests.get(url, data=query.encode('utf-8'), headers=headers, auth = ELASTIC_SEARCH_AUTH).json()\n",
    "\n",
    "      resp = resp['hits']['hits']\n",
    "    \n",
    "    else:\n",
    "\n",
    "      resp = []\n",
    "\n",
    "\n",
    "    return resp\n",
    "\n"
   ]
  },
  {
   "cell_type": "code",
   "execution_count": 14,
   "metadata": {},
   "outputs": [],
   "source": [
    "def clean_doc (doc):\n",
    "    \n",
    "    doc = re.sub(r'[^\\wㄱ-ㅎ가-힣]', ' ', doc)\n",
    "    doc = re.sub('  ', ' ', doc)\n",
    "    doc = re.sub('  ', ' ', doc)\n",
    "\n",
    "    return doc"
   ]
  },
  {
   "cell_type": "code",
   "execution_count": 15,
   "metadata": {},
   "outputs": [],
   "source": [
    "def title_extract(doc):\n",
    "    \n",
    "    return doc['_source']['title']\n",
    "\n",
    "def body_extract (doc):\n",
    "\n",
    "    return doc['_source']['body']"
   ]
  },
  {
   "cell_type": "code",
   "execution_count": 16,
   "metadata": {},
   "outputs": [],
   "source": [
    "stock1_doc_list = get_today_stock_news_data_list(\"삼성전자\")"
   ]
  },
  {
   "cell_type": "code",
   "execution_count": 17,
   "metadata": {},
   "outputs": [
    {
     "data": {
      "text/plain": [
       "['3년 전 산 삼성전자 지분이 지금은… 블랙록의 돌부처 투자법 [왕개미연구소]',\n",
       " \"상속세 때문에 홍라희가 판 삼성전자 지분, '이곳'이 가져갔다\",\n",
       " '임직원과 소통 나선 한종희, 부회장 된 후 첫 이메일 보낸 사연',\n",
       " \"'JH 입니다' 한종희 삼성 부회장, 임직원과 이메일 소통 나섰다\",\n",
       " \"삼성전자 부회장 'JH'의 소통…임직원 건의 직접 듣고 바꿨다\",\n",
       " \"삼성 'JH' 한종희 부회장, 임직원에 이메일 보내 '소통 행보'\",\n",
       " \"JP모간, 홍라희 삼전 지분 매입뒤 1900건 넘게 거래…또 '단타'?\",\n",
       " '코스피, 강보합 마감…2760선 턱밑',\n",
       " '반도체 업계 또 놀라겠네…DB하이텍 파격 보상 \"신입 연봉 7200만원\"',\n",
       " \"삼성 한종희 부회장 '소통행보'…건의사항에 이메일로 화답\"]"
      ]
     },
     "execution_count": 17,
     "metadata": {},
     "output_type": "execute_result"
    }
   ],
   "source": [
    "title_list = [title_extract(x) for x in stock1_doc_list]\n",
    "#title_list = [clean_doc(x) for x in title_list]\n",
    "title_list[0:10]"
   ]
  },
  {
   "cell_type": "markdown",
   "metadata": {},
   "source": [
    "### 번역기 돌리기"
   ]
  },
  {
   "cell_type": "code",
   "execution_count": 18,
   "metadata": {},
   "outputs": [],
   "source": [
    "translator = pipeline(\"translation\", model=\"Helsinki-NLP/opus-mt-ko-en\")"
   ]
  },
  {
   "cell_type": "code",
   "execution_count": 19,
   "metadata": {},
   "outputs": [
    {
     "data": {
      "text/plain": [
       "['3년 전 산 삼성전자 지분이 지금은… 블랙록의 돌부처 투자법 [왕개미연구소]',\n",
       " \"상속세 때문에 홍라희가 판 삼성전자 지분, '이곳'이 가져갔다\",\n",
       " '임직원과 소통 나선 한종희, 부회장 된 후 첫 이메일 보낸 사연',\n",
       " \"'JH 입니다' 한종희 삼성 부회장, 임직원과 이메일 소통 나섰다\",\n",
       " \"삼성전자 부회장 'JH'의 소통…임직원 건의 직접 듣고 바꿨다\",\n",
       " \"삼성 'JH' 한종희 부회장, 임직원에 이메일 보내 '소통 행보'\",\n",
       " \"JP모간, 홍라희 삼전 지분 매입뒤 1900건 넘게 거래…또 '단타'?\",\n",
       " '코스피, 강보합 마감…2760선 턱밑',\n",
       " '반도체 업계 또 놀라겠네…DB하이텍 파격 보상 \"신입 연봉 7200만원\"',\n",
       " \"삼성 한종희 부회장 '소통행보'…건의사항에 이메일로 화답\"]"
      ]
     },
     "execution_count": 19,
     "metadata": {},
     "output_type": "execute_result"
    }
   ],
   "source": [
    "title_list[0:10]"
   ]
  },
  {
   "cell_type": "code",
   "execution_count": 20,
   "metadata": {},
   "outputs": [
    {
     "data": {
      "text/plain": [
       "[[{'translation_text': \"Three years ago, you've got a substrate... now... of Black Rock's breakthrough investment.\"}],\n",
       " [{'translation_text': \"Because of the inheritance tax, Hong Lahee's subdivision, this place, was taken from him.\"}],\n",
       " [{'translation_text': \"I've been communicating with my board of directors. I've been sending you my first email after becoming vice president.\"}],\n",
       " [{'translation_text': \"It's JH.\"}],\n",
       " [{'translation_text': 'I heard and switched directly to JH, vice president of the Triads.'}],\n",
       " [{'translation_text': 'Samsung JH, VP, send an e-mail to your boardman.'}],\n",
       " [{'translation_text': 'JP Morgan, Hong-ray, three-year-old purchase, more than 1,900 trades... and Danta?'}],\n",
       " [{'translation_text': 'Cospi, end of supple... 2760-line jaws.'}],\n",
       " [{'translation_text': \"I'm gonna be surprised again by the semiconductor industry... to reward the DB High Tech break.\"}],\n",
       " [{'translation_text': \"I e-mailed an e-mail to the sub-station's vice president, Sassung Jong-hee.\"}]]"
      ]
     },
     "execution_count": 20,
     "metadata": {},
     "output_type": "execute_result"
    }
   ],
   "source": [
    "[translator(x) for x in title_list[0:10]]"
   ]
  },
  {
   "cell_type": "code",
   "execution_count": 28,
   "metadata": {},
   "outputs": [
    {
     "data": {
      "application/vnd.jupyter.widget-view+json": {
       "model_id": "d5f36737a3764f4dbb5620a66a838522",
       "version_major": 2,
       "version_minor": 0
      },
      "text/plain": [
       "Downloading:   0%|          | 0.00/687 [00:00<?, ?B/s]"
      ]
     },
     "metadata": {},
     "output_type": "display_data"
    },
    {
     "data": {
      "application/vnd.jupyter.widget-view+json": {
       "model_id": "cb70ad34876c4d4597c6d6c8503e8ea0",
       "version_major": 2,
       "version_minor": 0
      },
      "text/plain": [
       "Downloading:   0%|          | 0.00/1.32G [00:00<?, ?B/s]"
      ]
     },
     "metadata": {},
     "output_type": "display_data"
    },
    {
     "data": {
      "application/vnd.jupyter.widget-view+json": {
       "model_id": "b5d2a77f36aa418f83399f417158dd9d",
       "version_major": 2,
       "version_minor": 0
      },
      "text/plain": [
       "Downloading:   0%|          | 0.00/256 [00:00<?, ?B/s]"
      ]
     },
     "metadata": {},
     "output_type": "display_data"
    },
    {
     "data": {
      "application/vnd.jupyter.widget-view+json": {
       "model_id": "6c3d762cf3d14c16ac0f141b03ccaf9e",
       "version_major": 2,
       "version_minor": 0
      },
      "text/plain": [
       "Downloading:   0%|          | 0.00/780k [00:00<?, ?B/s]"
      ]
     },
     "metadata": {},
     "output_type": "display_data"
    },
    {
     "data": {
      "application/vnd.jupyter.widget-view+json": {
       "model_id": "11b469fdb33340889df4d3b1ac173202",
       "version_major": 2,
       "version_minor": 0
      },
      "text/plain": [
       "Downloading:   0%|          | 0.00/446k [00:00<?, ?B/s]"
      ]
     },
     "metadata": {},
     "output_type": "display_data"
    },
    {
     "data": {
      "application/vnd.jupyter.widget-view+json": {
       "model_id": "ea7f68cf35ba4ddc8d9ebbc9f4a1a3ae",
       "version_major": 2,
       "version_minor": 0
      },
      "text/plain": [
       "Downloading:   0%|          | 0.00/150 [00:00<?, ?B/s]"
      ]
     },
     "metadata": {},
     "output_type": "display_data"
    }
   ],
   "source": [
    "from googletrans import Translator\n",
    "\n",
    "sentiment_analysis = pipeline(\"sentiment-analysis\", model=\"siebert/sentiment-roberta-large-english\")\n",
    "translator = Translator()\n"
   ]
  },
  {
   "cell_type": "code",
   "execution_count": 22,
   "metadata": {},
   "outputs": [
    {
     "data": {
      "text/plain": [
       "'3년 전 산 삼성전자 지분이 지금은… 블랙록의 돌부처 투자법 [왕개미연구소]'"
      ]
     },
     "execution_count": 22,
     "metadata": {},
     "output_type": "execute_result"
    }
   ],
   "source": [
    "title_list[0]"
   ]
  },
  {
   "cell_type": "code",
   "execution_count": 47,
   "metadata": {},
   "outputs": [
    {
     "name": "stdout",
     "output_type": "stream",
     "text": [
      "huggingface/tokenizers: The current process just got forked, after parallelism has already been used. Disabling parallelism to avoid deadlocks...\n",
      "To disable this warning, you can either:\n",
      "\t- Avoid using `tokenizers` before the fork if possible\n",
      "\t- Explicitly set the environment variable TOKENIZERS_PARALLELISM=(true | false)\n",
      "Collecting finance-datareader\n",
      "  Using cached finance_datareader-0.9.33-py3-none-any.whl (48 kB)\n",
      "Requirement already satisfied: pandas>=0.19.2 in /opt/homebrew/Caskroom/miniforge/base/envs/NLP/lib/python3.8/site-packages (from finance-datareader) (1.3.4)\n",
      "Requirement already satisfied: requests>=2.3.0 in /opt/homebrew/Caskroom/miniforge/base/envs/NLP/lib/python3.8/site-packages (from finance-datareader) (2.27.1)\n",
      "Collecting requests-file\n",
      "  Using cached requests_file-1.5.1-py2.py3-none-any.whl (3.7 kB)\n",
      "Requirement already satisfied: lxml in /opt/homebrew/Caskroom/miniforge/base/envs/NLP/lib/python3.8/site-packages (from finance-datareader) (4.8.0)\n",
      "Requirement already satisfied: tqdm in /opt/homebrew/Caskroom/miniforge/base/envs/NLP/lib/python3.8/site-packages (from finance-datareader) (4.64.0)\n",
      "Requirement already satisfied: python-dateutil>=2.7.3 in /opt/homebrew/Caskroom/miniforge/base/envs/NLP/lib/python3.8/site-packages (from pandas>=0.19.2->finance-datareader) (2.8.2)\n",
      "Requirement already satisfied: pytz>=2017.3 in /opt/homebrew/Caskroom/miniforge/base/envs/NLP/lib/python3.8/site-packages (from pandas>=0.19.2->finance-datareader) (2022.1)\n",
      "Requirement already satisfied: numpy>=1.20.0 in /opt/homebrew/Caskroom/miniforge/base/envs/NLP/lib/python3.8/site-packages (from pandas>=0.19.2->finance-datareader) (1.21.5)\n",
      "Requirement already satisfied: six>=1.5 in /opt/homebrew/Caskroom/miniforge/base/envs/NLP/lib/python3.8/site-packages (from python-dateutil>=2.7.3->pandas>=0.19.2->finance-datareader) (1.16.0)\n",
      "Requirement already satisfied: charset-normalizer~=2.0.0 in /opt/homebrew/Caskroom/miniforge/base/envs/NLP/lib/python3.8/site-packages (from requests>=2.3.0->finance-datareader) (2.0.12)\n",
      "Requirement already satisfied: urllib3<1.27,>=1.21.1 in /opt/homebrew/Caskroom/miniforge/base/envs/NLP/lib/python3.8/site-packages (from requests>=2.3.0->finance-datareader) (1.26.9)\n",
      "Requirement already satisfied: certifi>=2017.4.17 in /opt/homebrew/Caskroom/miniforge/base/envs/NLP/lib/python3.8/site-packages (from requests>=2.3.0->finance-datareader) (2022.5.18.1)\n",
      "Requirement already satisfied: idna<4,>=2.5 in /opt/homebrew/Caskroom/miniforge/base/envs/NLP/lib/python3.8/site-packages (from requests>=2.3.0->finance-datareader) (2.10)\n",
      "Installing collected packages: requests-file, finance-datareader\n",
      "Successfully installed finance-datareader-0.9.33 requests-file-1.5.1\n"
     ]
    }
   ],
   "source": [
    "!pip install finance-datareader"
   ]
  },
  {
   "cell_type": "code",
   "execution_count": 48,
   "metadata": {},
   "outputs": [],
   "source": [
    "import FinanceDataReader as fdr"
   ]
  },
  {
   "cell_type": "code",
   "execution_count": 25,
   "metadata": {},
   "outputs": [
    {
     "name": "stdout",
     "output_type": "stream",
     "text": [
      "[<googletrans.models.Translated object at 0x2a072baf0>, <googletrans.models.Translated object at 0x29d77f9a0>, <googletrans.models.Translated object at 0x29d77ec70>, <googletrans.models.Translated object at 0x29d765f40>, <googletrans.models.Translated object at 0x29d768a90>, <googletrans.models.Translated object at 0x2a06f7fa0>, <googletrans.models.Translated object at 0x2a0706be0>, <googletrans.models.Translated object at 0x2a071b940>, <googletrans.models.Translated object at 0x29d772fa0>, <googletrans.models.Translated object at 0x2a0704b20>]\n"
     ]
    }
   ],
   "source": [
    "doc = [translator.translate(x, dest='en') for x in title_list[0:10]]\n",
    "\n",
    "print(doc)"
   ]
  },
  {
   "cell_type": "code",
   "execution_count": 37,
   "metadata": {},
   "outputs": [
    {
     "data": {
      "text/plain": [
       "0.9540044665336609"
      ]
     },
     "execution_count": 37,
     "metadata": {},
     "output_type": "execute_result"
    }
   ],
   "source": [
    "a = sentiment_analysis(\"Because of inheritance tax, Rahee Hong sold Samsung Electronics stake, 'here' took it\")[0]\n",
    "a['label']\n",
    "a['score']"
   ]
  },
  {
   "cell_type": "code",
   "execution_count": 44,
   "metadata": {},
   "outputs": [
    {
     "data": {
      "text/plain": [
       "[<googletrans.models.Translated at 0x2a072baf0>,\n",
       " <googletrans.models.Translated at 0x29d77f9a0>,\n",
       " <googletrans.models.Translated at 0x29d77ec70>,\n",
       " <googletrans.models.Translated at 0x29d765f40>,\n",
       " <googletrans.models.Translated at 0x29d768a90>,\n",
       " <googletrans.models.Translated at 0x2a06f7fa0>,\n",
       " <googletrans.models.Translated at 0x2a0706be0>,\n",
       " <googletrans.models.Translated at 0x2a071b940>,\n",
       " <googletrans.models.Translated at 0x29d772fa0>,\n",
       " <googletrans.models.Translated at 0x2a0704b20>]"
      ]
     },
     "execution_count": 44,
     "metadata": {},
     "output_type": "execute_result"
    }
   ],
   "source": [
    "doc"
   ]
  },
  {
   "cell_type": "code",
   "execution_count": 46,
   "metadata": {},
   "outputs": [
    {
     "name": "stdout",
     "output_type": "stream",
     "text": [
      "The stake in Samsung Electronics, which I bought three years ago, is now… Black Rock's Stone Buddha Investment Method [King Ant Research Institute]\n",
      "3년 전 산 삼성전자 지분이 지금은… 블랙록의 돌부처 투자법 [왕개미연구소]\n",
      "위 기사는 99.22999999999999% 확률로 \"POSITIVE\"인 기사입니다.\n",
      "\n",
      "Because of inheritance tax, Rahee Hong sold Samsung Electronics stake, 'here' took it\n",
      "상속세 때문에 홍라희가 판 삼성전자 지분, '이곳'이 가져갔다\n",
      "위 기사는 95.39999999999999% 확률로 \"POSITIVE\"인 기사입니다.\n",
      "\n",
      "The story of Jong-hee Han, who communicated with executives and employees, sent the first email after becoming vice-chairman\n",
      "임직원과 소통 나선 한종희, 부회장 된 후 첫 이메일 보낸 사연\n",
      "위 기사는 99.82% 확률로 \"POSITIVE\"인 기사입니다.\n",
      "\n",
      "'This is JH' Samsung Vice Chairman Han Jong-hee, e-mail communication with executives and employees\n",
      "'JH 입니다' 한종희 삼성 부회장, 임직원과 이메일 소통 나섰다\n",
      "위 기사는 85.46000000000001% 확률로 \"POSITIVE\"인 기사입니다.\n",
      "\n",
      "Communication of Samsung Electronics Vice Chairman 'JH'... Directly listened to employee suggestions and changed\n",
      "삼성전자 부회장 'JH'의 소통…임직원 건의 직접 듣고 바꿨다\n",
      "위 기사는 99.78% 확률로 \"POSITIVE\"인 기사입니다.\n",
      "\n",
      "Samsung 'JH' Jong-hee Han, vice chairman of Samsung Electronics, sends e-mail to executives and employees to 'communicate action'\n",
      "삼성 'JH' 한종희 부회장, 임직원에 이메일 보내 '소통 행보'\n",
      "위 기사는 99.45% 확률로 \"NEGATIVE\"인 기사입니다.\n",
      "\n",
      "JP Morgan buys Hong Ra-hee's stake in Samjeon and makes more than 1,900 transactions... Another 'danta'?\n",
      "JP모간, 홍라희 삼전 지분 매입뒤 1900건 넘게 거래…또 '단타'?\n",
      "위 기사는 99.06% 확률로 \"NEGATIVE\"인 기사입니다.\n",
      "\n",
      "KOSPI closes Kang Bo-Hap... 2760 under the chin\n",
      "코스피, 강보합 마감…2760선 턱밑\n",
      "위 기사는 98.6% 확률로 \"NEGATIVE\"인 기사입니다.\n",
      "\n",
      "The semiconductor industry will be surprised again... DB Hitech's special compensation \"New employee annual salary 72 million won\"\n",
      "반도체 업계 또 놀라겠네…DB하이텍 파격 보상 \"신입 연봉 7200만원\"\n",
      "위 기사는 95.35% 확률로 \"NEGATIVE\"인 기사입니다.\n",
      "\n",
      "Samsung Vice Chairman Han Jong-hee's 'communication walk'... Respond to suggestions by e-mail\n",
      "삼성 한종희 부회장 '소통행보'…건의사항에 이메일로 화답\n",
      "위 기사는 99.19% 확률로 \"POSITIVE\"인 기사입니다.\n",
      "\n"
     ]
    }
   ],
   "source": [
    "for i, j in zip(doc, title_list[0:10]):\n",
    "    a = sentiment_analysis(i.text)[0]\n",
    "    print(i.text)\n",
    "    print(j)\n",
    "    print(f'''위 기사는 {round(a['score'], 4) * 100}% 확률로 \"{a['label']}\"인 기사입니다.''' + '\\n')"
   ]
  },
  {
   "cell_type": "code",
   "execution_count": null,
   "metadata": {},
   "outputs": [],
   "source": []
  }
 ],
 "metadata": {
  "interpreter": {
   "hash": "d49957daa954e6bec9f177fc046718ee074770fab86eb9520507fb7fbdbef1cf"
  },
  "kernelspec": {
   "display_name": "Python 3.8.13 ('NLP')",
   "language": "python",
   "name": "python3"
  },
  "language_info": {
   "codemirror_mode": {
    "name": "ipython",
    "version": 3
   },
   "file_extension": ".py",
   "mimetype": "text/x-python",
   "name": "python",
   "nbconvert_exporter": "python",
   "pygments_lexer": "ipython3",
   "version": "3.8.13"
  },
  "orig_nbformat": 4
 },
 "nbformat": 4,
 "nbformat_minor": 2
}
