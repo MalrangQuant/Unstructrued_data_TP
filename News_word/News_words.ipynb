{
 "cells": [
  {
   "cell_type": "code",
   "execution_count": 1,
   "metadata": {},
   "outputs": [],
   "source": [
    "import pandas as pd\n",
    "from konlpy.tag import Hannanum\n",
    "import yfinance as yf\n",
    "import datetime\n",
    "import numpy as np\n",
    "import warnings\n",
    "import re\n",
    "import os\n",
    "import matplotlib.pyplot as plt\n",
    "from tqdm import tqdm\n",
    "from tensorflow.keras.preprocessing.text import Tokenizer\n",
    "from tensorflow.keras.preprocessing.sequence import pad_sequences\n",
    "from tensorflow.keras.layers import Embedding, Dense, LSTM\n",
    "from tensorflow.keras.models import Sequential\n",
    "from tensorflow.keras.models import load_model\n",
    "from tensorflow.keras.callbacks import EarlyStopping, ModelCheckpoint\n",
    "\n",
    "import tensorflow as tf\n",
    "warnings.filterwarnings('ignore')"
   ]
  },
  {
   "cell_type": "code",
   "execution_count": 2,
   "metadata": {},
   "outputs": [],
   "source": [
    "def raw_data_merge (list):\n",
    "    \n",
    "    df = pd.DataFrame()\n",
    "\n",
    "    for i in list:\n",
    "        tmp = pd.read_excel(i)\n",
    "        df = pd.concat([df, tmp])\n",
    "    \n",
    "    return df"
   ]
  },
  {
   "cell_type": "code",
   "execution_count": 3,
   "metadata": {},
   "outputs": [],
   "source": [
    "def df_process (df):\n",
    "    \n",
    "    df['일자'] = pd.to_datetime(df['일자'], format='%Y%m%d')\n",
    "    df = df.set_index('일자')\n",
    "\n",
    "    df = df.sort_index(ascending=True) \n",
    "\n",
    "    df = df[['제목']].copy()\n",
    "\n",
    "    start_date_str = str(df.index.unique()[0])[0:10]\n",
    "    end_date_str = str(df.index.unique()[-1])[0:10]\n",
    "\n",
    "    check = yf.download('^KS11', start_date_str, end_date_str, progress=False)\n",
    "    check['signal'] = np.where((check['Close'] - check['Open'])> 0 , int(1), int(0))    \n",
    "\n",
    "    for i in check.index:\n",
    "        df.loc[(df.index == i), 'signal'] = check.loc[i, 'signal']\n",
    "\n",
    "    df = df.dropna()\n",
    "\n",
    "    return df"
   ]
  },
  {
   "cell_type": "code",
   "execution_count": 4,
   "metadata": {},
   "outputs": [],
   "source": [
    "def clean_doc (doc):\n",
    "    \n",
    "    doc = re.sub(r'[^\\wㄱ-ㅎ가-힣]', ' ', doc)\n",
    "    doc = re.sub('  ', ' ', doc)\n",
    "    doc = re.sub('  ', ' ', doc)\n",
    "\n",
    "    return doc"
   ]
  },
  {
   "cell_type": "code",
   "execution_count": 5,
   "metadata": {},
   "outputs": [
    {
     "data": {
      "text/plain": [
       "['NewsResult_20220115-20220131.xlsx',\n",
       " 'NewsResult_20211101-20211115.xlsx',\n",
       " 'NewsResult_20211201-20211215.xlsx',\n",
       " 'NewsResult_20211016-20211031.xlsx',\n",
       " 'NewsResult_20220301-20220315.xlsx',\n",
       " 'NewsResult_20211116-20211130.xlsx',\n",
       " 'NewsResult_20220201-20220215.xlsx',\n",
       " 'NewsResult_20220101-20220114.xlsx',\n",
       " 'NewsResult_20211216-20211231.xlsx',\n",
       " 'NewsResult_20220215-20220228.xlsx',\n",
       " 'NewsResult_20220315-20220331.xlsx']"
      ]
     },
     "execution_count": 5,
     "metadata": {},
     "output_type": "execute_result"
    }
   ],
   "source": [
    "file_list = os.listdir(\".\")\n",
    "data_list = [x for x in file_list if x.endswith(\".xlsx\")]\n",
    "data_list"
   ]
  },
  {
   "cell_type": "code",
   "execution_count": 6,
   "metadata": {},
   "outputs": [],
   "source": [
    "df = raw_data_merge(data_list[0:len(data_list)-3])\n",
    "df2 = raw_data_merge(data_list[len(data_list)-3: len(data_list)])"
   ]
  },
  {
   "cell_type": "code",
   "execution_count": 7,
   "metadata": {},
   "outputs": [],
   "source": [
    "train_df = df_process(df)\n",
    "test_df = df_process(df2)"
   ]
  },
  {
   "cell_type": "code",
   "execution_count": 8,
   "metadata": {},
   "outputs": [
    {
     "data": {
      "text/plain": [
       "64590"
      ]
     },
     "execution_count": 8,
     "metadata": {},
     "output_type": "execute_result"
    }
   ],
   "source": [
    "train_df.head()\n",
    "len(train_df)"
   ]
  },
  {
   "cell_type": "code",
   "execution_count": 9,
   "metadata": {},
   "outputs": [
    {
     "data": {
      "text/plain": [
       "40061"
      ]
     },
     "execution_count": 9,
     "metadata": {},
     "output_type": "execute_result"
    }
   ],
   "source": [
    "test_df.head()\n",
    "len(test_df)"
   ]
  },
  {
   "cell_type": "code",
   "execution_count": 10,
   "metadata": {},
   "outputs": [
    {
     "name": "stdout",
     "output_type": "stream",
     "text": [
      "<class 'pandas.core.frame.DataFrame'>\n",
      "DatetimeIndex: 64590 entries, 2021-10-18 to 2022-03-14\n",
      "Data columns (total 2 columns):\n",
      " #   Column  Non-Null Count  Dtype  \n",
      "---  ------  --------------  -----  \n",
      " 0   제목      64590 non-null  object \n",
      " 1   signal  64590 non-null  float64\n",
      "dtypes: float64(1), object(1)\n",
      "memory usage: 1.5+ MB\n"
     ]
    }
   ],
   "source": [
    "train_df.info()"
   ]
  },
  {
   "cell_type": "code",
   "execution_count": 11,
   "metadata": {},
   "outputs": [
    {
     "data": {
      "text/plain": [
       "['[클릭 e종목] “BGF리테일, 반가운 위드 코로나”',\n",
       " '휘발윳값 ‘고공행진’ 서울 ℓ당 1800원도 넘었다',\n",
       " '\"10만원 줄테니 100만원 쓰라고?\" 카드 캐시백 신청률 32% \\'뚝\\'',\n",
       " '대전시, 소상공인 일상회복 지원 1,730억원 긴급 투입']"
      ]
     },
     "execution_count": 11,
     "metadata": {},
     "output_type": "execute_result"
    }
   ],
   "source": [
    "train_df['제목'].to_list()[0:4]"
   ]
  },
  {
   "cell_type": "code",
   "execution_count": 12,
   "metadata": {},
   "outputs": [],
   "source": [
    "train_df['제목'] = [clean_doc(x) for x in train_df['제목'].to_list()]\n",
    "test_df['제목'] = [clean_doc(x) for x in test_df['제목'].to_list()]"
   ]
  },
  {
   "cell_type": "code",
   "execution_count": 13,
   "metadata": {},
   "outputs": [
    {
     "data": {
      "text/html": [
       "<div>\n",
       "<style scoped>\n",
       "    .dataframe tbody tr th:only-of-type {\n",
       "        vertical-align: middle;\n",
       "    }\n",
       "\n",
       "    .dataframe tbody tr th {\n",
       "        vertical-align: top;\n",
       "    }\n",
       "\n",
       "    .dataframe thead th {\n",
       "        text-align: right;\n",
       "    }\n",
       "</style>\n",
       "<table border=\"1\" class=\"dataframe\">\n",
       "  <thead>\n",
       "    <tr style=\"text-align: right;\">\n",
       "      <th></th>\n",
       "      <th>제목</th>\n",
       "      <th>signal</th>\n",
       "    </tr>\n",
       "    <tr>\n",
       "      <th>일자</th>\n",
       "      <th></th>\n",
       "      <th></th>\n",
       "    </tr>\n",
       "  </thead>\n",
       "  <tbody>\n",
       "    <tr>\n",
       "      <th>2021-12-16</th>\n",
       "      <td>윤오순 벨레투 대표 커피 경쟁력은 확보 품질로 대기업 뛰어넘는 저력 보여줄 것</td>\n",
       "      <td>0.0</td>\n",
       "    </tr>\n",
       "    <tr>\n",
       "      <th>2021-12-16</th>\n",
       "      <td>코스피 17 02P 상승한 3006 41 0 57 마감</td>\n",
       "      <td>0.0</td>\n",
       "    </tr>\n",
       "    <tr>\n",
       "      <th>2021-12-16</th>\n",
       "      <td>케이뱅크 최대 3억원까지 연 1 예금금리 적용 토스와 차별화</td>\n",
       "      <td>0.0</td>\n",
       "    </tr>\n",
       "    <tr>\n",
       "      <th>2021-12-16</th>\n",
       "      <td>코스닥 마감 4 34포인트 0 43 상승한 1 007 86 마감</td>\n",
       "      <td>0.0</td>\n",
       "    </tr>\n",
       "    <tr>\n",
       "      <th>2021-12-16</th>\n",
       "      <td>코스피 마감 17 02포인트 0 57 상승한 3 006 41 마감</td>\n",
       "      <td>0.0</td>\n",
       "    </tr>\n",
       "  </tbody>\n",
       "</table>\n",
       "</div>"
      ],
      "text/plain": [
       "                                                      제목  signal\n",
       "일자                                                              \n",
       "2021-12-16  윤오순 벨레투 대표 커피 경쟁력은 확보 품질로 대기업 뛰어넘는 저력 보여줄 것      0.0\n",
       "2021-12-16                코스피 17 02P 상승한 3006 41 0 57 마감     0.0\n",
       "2021-12-16            케이뱅크 최대 3억원까지 연 1 예금금리 적용 토스와 차별화      0.0\n",
       "2021-12-16           코스닥 마감 4 34포인트 0 43 상승한 1 007 86 마감     0.0\n",
       "2021-12-16          코스피 마감 17 02포인트 0 57 상승한 3 006 41 마감     0.0"
      ]
     },
     "execution_count": 13,
     "metadata": {},
     "output_type": "execute_result"
    }
   ],
   "source": [
    "test_df.head()"
   ]
  },
  {
   "cell_type": "code",
   "execution_count": 14,
   "metadata": {},
   "outputs": [],
   "source": [
    "'''불용어 정리'''\n",
    "stopwords = ['의','가','이','은','들','는','좀','잘','걍','과','도','를','으로','자','에','와','한','하다']"
   ]
  },
  {
   "cell_type": "code",
   "execution_count": 15,
   "metadata": {},
   "outputs": [
    {
     "name": "stderr",
     "output_type": "stream",
     "text": [
      "100%|██████████| 64590/64590 [01:08<00:00, 948.02it/s] \n"
     ]
    }
   ],
   "source": [
    "han = Hannanum()\n",
    "\n",
    "# train data 토큰화\n",
    "train = []\n",
    "for sentence in tqdm(train_df['제목']):\n",
    "    tokenized_sentence = han.morphs(sentence) # 토큰화\n",
    "    stopwords_removed_sentence = [word for word in tokenized_sentence if not word in stopwords] # 불용어 제거\n",
    "    train.append(stopwords_removed_sentence)"
   ]
  },
  {
   "cell_type": "code",
   "execution_count": 16,
   "metadata": {},
   "outputs": [
    {
     "name": "stderr",
     "output_type": "stream",
     "text": [
      "100%|██████████| 40061/40061 [00:43<00:00, 911.81it/s] \n"
     ]
    }
   ],
   "source": [
    "han = Hannanum()\n",
    "\n",
    "# train data 토큰화\n",
    "test = []\n",
    "for sentence in tqdm(test_df['제목']):\n",
    "    tokenized_sentence = han.morphs(sentence) # 토큰화\n",
    "    stopwords_removed_sentence = [word for word in tokenized_sentence if not word in stopwords] # 불용어 제거\n",
    "    test.append(stopwords_removed_sentence)"
   ]
  },
  {
   "cell_type": "code",
   "execution_count": 17,
   "metadata": {},
   "outputs": [
    {
     "data": {
      "text/plain": [
       "[['클릭', 'e', '종목', 'BGF리테', 'ㄹ', '반갑', '위드', '코', '로나'],\n",
       " ['휘발윳값', '고공행진', '서울', 'ℓ당', '1800원', '넘', '었다'],\n",
       " ['10만원', '주', 'ㄹ테니', '100만원', '쓰', '라', '고', '카드', '캐시백', '신청률', '32', '뚝']]"
      ]
     },
     "execution_count": 17,
     "metadata": {},
     "output_type": "execute_result"
    }
   ],
   "source": [
    "train[0:3]"
   ]
  },
  {
   "cell_type": "code",
   "execution_count": 18,
   "metadata": {},
   "outputs": [
    {
     "data": {
      "text/plain": [
       "[['윤오순',\n",
       "  '벨레투',\n",
       "  '대표',\n",
       "  '커피',\n",
       "  '경쟁력',\n",
       "  '확보',\n",
       "  '품질',\n",
       "  '로',\n",
       "  '대기업',\n",
       "  '뛰어넘',\n",
       "  '저력',\n",
       "  '보이',\n",
       "  '어',\n",
       "  '주',\n",
       "  'ㄹ',\n",
       "  '것'],\n",
       " ['코스피', '17', '02P', '상승', '하', 'ㄴ', '3006', '41', '0', '57', '마감'],\n",
       " ['케이뱅크', '최대', '3억원', '까지', '열', 'ㄴ', '1', '예금금리', '적용', '토스', '차별화']]"
      ]
     },
     "execution_count": 18,
     "metadata": {},
     "output_type": "execute_result"
    }
   ],
   "source": [
    "test[0:3]"
   ]
  },
  {
   "cell_type": "code",
   "execution_count": 19,
   "metadata": {},
   "outputs": [],
   "source": [
    "tokenizer = Tokenizer()\n",
    "tokenizer.fit_on_texts(train)"
   ]
  },
  {
   "cell_type": "code",
   "execution_count": 20,
   "metadata": {},
   "outputs": [],
   "source": [
    "threshold = 3\n",
    "total_cnt = len(tokenizer.word_index) # 단어의 수\n",
    "rare_cnt = 0 # 등장 빈도수가 threshold보다 작은 단어의 개수를 카운트\n",
    "total_freq = 0 # 훈련 데이터의 전체 단어 빈도수 총 합\n",
    "rare_freq = 0 # 등장 빈도수가 threshold보다 작은 단어의 등장 빈도수의 총 합"
   ]
  },
  {
   "cell_type": "code",
   "execution_count": 21,
   "metadata": {},
   "outputs": [],
   "source": [
    "# 단어와 빈도수의 쌍(pair)을 key와 value로 받는다.\n",
    "for key, value in tokenizer.word_counts.items():\n",
    "    total_freq = total_freq + value\n",
    "\n",
    "    # 단어의 등장 빈도수가 threshold보다 작으면\n",
    "    if(value < threshold):\n",
    "        rare_cnt = rare_cnt + 1\n",
    "        rare_freq = rare_freq + value"
   ]
  },
  {
   "cell_type": "code",
   "execution_count": 22,
   "metadata": {},
   "outputs": [
    {
     "name": "stdout",
     "output_type": "stream",
     "text": [
      "단어 집합(vocabulary)의 크기 : 54206\n",
      "등장 빈도가 2번 이하인 희귀 단어의 수: 36203\n",
      "단어 집합에서 희귀 단어의 비율: 66.78780946758661\n",
      "전체 등장 빈도에서 희귀 단어 등장 빈도 비율: 7.468746265290218\n"
     ]
    }
   ],
   "source": [
    "print('단어 집합(vocabulary)의 크기 :',total_cnt)\n",
    "print('등장 빈도가 %s번 이하인 희귀 단어의 수: %s'%(threshold - 1, rare_cnt))\n",
    "print(\"단어 집합에서 희귀 단어의 비율:\", (rare_cnt / total_cnt)*100)\n",
    "print(\"전체 등장 빈도에서 희귀 단어 등장 빈도 비율:\", (rare_freq / total_freq)*100)"
   ]
  },
  {
   "cell_type": "code",
   "execution_count": 23,
   "metadata": {},
   "outputs": [
    {
     "name": "stdout",
     "output_type": "stream",
     "text": [
      "단어 집합의 크기 : 18004\n"
     ]
    }
   ],
   "source": [
    "# 전체 단어 개수 중 빈도수 2이하인 단어는 제거.\n",
    "# 0번 패딩 토큰을 고려하여 + 1\n",
    "vocab_size = total_cnt - rare_cnt + 1\n",
    "print('단어 집합의 크기 :',vocab_size)"
   ]
  },
  {
   "cell_type": "code",
   "execution_count": 24,
   "metadata": {},
   "outputs": [],
   "source": [
    "# 제거한 결과를 tokenizer로 넘김\n",
    "tokenizer = Tokenizer(vocab_size) \n",
    "tokenizer.fit_on_texts(train)\n",
    "train = tokenizer.texts_to_sequences(train)\n",
    "test = tokenizer.texts_to_sequences(test)"
   ]
  },
  {
   "cell_type": "code",
   "execution_count": 25,
   "metadata": {},
   "outputs": [
    {
     "name": "stdout",
     "output_type": "stream",
     "text": [
      "[[110, 67, 40, 2176, 5, 8758, 631, 78, 122], [5593, 939, 109, 4446, 4964, 125, 21], [1458, 4, 13983, 1138, 325, 206, 11, 331, 1597, 13984, 1096, 495]]\n"
     ]
    }
   ],
   "source": [
    "print(train[:3])"
   ]
  },
  {
   "cell_type": "code",
   "execution_count": 26,
   "metadata": {},
   "outputs": [
    {
     "name": "stdout",
     "output_type": "stream",
     "text": [
      "[[126, 2384, 865, 383, 2897, 7, 946, 3517, 16961, 1171, 2, 4, 5, 27], [12, 407, 12998, 18, 3, 1, 7094, 1224, 19, 1070, 29], [509, 17, 13355, 45, 151, 1, 14, 2708, 608, 1386, 1666]]\n"
     ]
    }
   ],
   "source": [
    "print(test[0:3])"
   ]
  },
  {
   "cell_type": "code",
   "execution_count": 27,
   "metadata": {},
   "outputs": [],
   "source": [
    "# 학습을 위한 label 데이터를 따로 저장\n",
    "label_train = np.array(train_df['signal'].to_list())\n",
    "label_test = np.array(test_df['signal'].to_list())"
   ]
  },
  {
   "cell_type": "code",
   "execution_count": 28,
   "metadata": {},
   "outputs": [],
   "source": [
    "drop_train = [index for index, sentence in enumerate(train) if len(sentence) < 1]\n",
    "drop_test = [index for index, sentence in enumerate(test) if len(sentence) < 1]"
   ]
  },
  {
   "cell_type": "code",
   "execution_count": 29,
   "metadata": {},
   "outputs": [
    {
     "name": "stdout",
     "output_type": "stream",
     "text": [
      "64579 64579\n",
      "40049 40049\n"
     ]
    }
   ],
   "source": [
    "train = np.delete(train, drop_train, axis=0)\n",
    "label_train = np.delete(label_train, drop_train, axis=0)\n",
    "\n",
    "test = np.delete(test, drop_test, axis=0)\n",
    "label_test = np.delete(label_test, drop_test, axis=0)\n",
    "\n",
    "\n",
    "print(len(train), len(label_train))\n",
    "print(len(test), len(label_test))"
   ]
  },
  {
   "cell_type": "code",
   "execution_count": 30,
   "metadata": {},
   "outputs": [
    {
     "name": "stdout",
     "output_type": "stream",
     "text": [
      "최대 길이 : 31\n",
      "평균 길이 : 8.512333730779355\n"
     ]
    },
    {
     "data": {
      "image/png": "[encoded data removed]",
      "text/plain": [
       "<Figure size 432x288 with 1 Axes>"
      ]
     },
     "metadata": {
      "needs_background": "light"
     },
     "output_type": "display_data"
    }
   ],
   "source": [
    "print('최대 길이 :',max(len(l) for l in train))\n",
    "print('평균 길이 :',sum(map(len, train))/len(train))\n",
    "plt.hist([len(s) for s in train], bins=50)\n",
    "plt.xlabel('length of samples')\n",
    "plt.ylabel('number of samples')\n",
    "plt.show()"
   ]
  },
  {
   "cell_type": "code",
   "execution_count": 31,
   "metadata": {},
   "outputs": [],
   "source": [
    "# max_len이하인 데이터의 비율 확인 함수\n",
    "def below_threshold_len(max_len, nested_list):\n",
    "    count = 0\n",
    "    for sentence in nested_list:\n",
    "        if(len(sentence) <= max_len):\n",
    "            count = count + 1\n",
    "    print('전체 샘플 중 길이가 %s 이하인 샘플의 비율: %s'%(max_len, (count / len(nested_list))*100))"
   ]
  },
  {
   "cell_type": "code",
   "execution_count": 32,
   "metadata": {},
   "outputs": [
    {
     "name": "stdout",
     "output_type": "stream",
     "text": [
      "전체 샘플 중 길이가 30 이하인 샘플의 비율: 99.99845150900447\n",
      "전체 샘플 중 길이가 30 이하인 샘플의 비율: 100.0\n"
     ]
    }
   ],
   "source": [
    "max_len = 30\n",
    "below_threshold_len(max_len, train)\n",
    "below_threshold_len(max_len, test)"
   ]
  },
  {
   "cell_type": "code",
   "execution_count": 33,
   "metadata": {},
   "outputs": [],
   "source": [
    "# 전체 샘플 길이 max_len으로 맞춤\n",
    "train = pad_sequences(train, maxlen = max_len)\n",
    "test = pad_sequences(test, maxlen = max_len)"
   ]
  },
  {
   "cell_type": "code",
   "execution_count": 34,
   "metadata": {},
   "outputs": [],
   "source": [
    "embedding_dim = 100\n",
    "hidden_units = 128"
   ]
  },
  {
   "cell_type": "code",
   "execution_count": 35,
   "metadata": {},
   "outputs": [
    {
     "name": "stdout",
     "output_type": "stream",
     "text": [
      "Metal device set to: Apple M1\n",
      "\n",
      "systemMemory: 16.00 GB\n",
      "maxCacheSize: 5.33 GB\n",
      "\n"
     ]
    },
    {
     "name": "stderr",
     "output_type": "stream",
     "text": [
      "2022-06-09 23:53:15.106507: I tensorflow/core/common_runtime/pluggable_device/pluggable_device_factory.cc:305] Could not identify NUMA node of platform GPU ID 0, defaulting to 0. Your kernel may not have been built with NUMA support.\n",
      "2022-06-09 23:53:15.106918: I tensorflow/core/common_runtime/pluggable_device/pluggable_device_factory.cc:271] Created TensorFlow device (/job:localhost/replica:0/task:0/device:GPU:0 with 0 MB memory) -> physical PluggableDevice (device: 0, name: METAL, pci bus id: <undefined>)\n"
     ]
    }
   ],
   "source": [
    "model = Sequential()\n",
    "model.add(Embedding(vocab_size, embedding_dim))\n",
    "model.add(LSTM(hidden_units))\n",
    "model.add(Dense(1, activation='sigmoid'))"
   ]
  },
  {
   "cell_type": "code",
   "execution_count": 36,
   "metadata": {},
   "outputs": [],
   "source": [
    "es = EarlyStopping(monitor='val_loss', mode='min', verbose=1, patience=4)\n",
    "mc = ModelCheckpoint('best_model.h5', monitor='val_acc', mode='max', verbose=1, save_best_only=True)"
   ]
  },
  {
   "cell_type": "code",
   "execution_count": 37,
   "metadata": {},
   "outputs": [
    {
     "data": {
      "image/png": "[encoded data removed]",
      "text/plain": [
       "<IPython.core.display.Image object>"
      ]
     },
     "execution_count": 37,
     "metadata": {},
     "output_type": "execute_result"
    }
   ],
   "source": [
    "tf.keras.utils.plot_model(model, 'model.png', show_shapes=True)"
   ]
  },
  {
   "cell_type": "code",
   "execution_count": 38,
   "metadata": {},
   "outputs": [
    {
     "name": "stdout",
     "output_type": "stream",
     "text": [
      "Model: \"sequential\"\n",
      "_________________________________________________________________\n",
      " Layer (type)                Output Shape              Param #   \n",
      "=================================================================\n",
      " embedding (Embedding)       (None, None, 100)         1800400   \n",
      "                                                                 \n",
      " lstm (LSTM)                 (None, 128)               117248    \n",
      "                                                                 \n",
      " dense (Dense)               (None, 1)                 129       \n",
      "                                                                 \n",
      "=================================================================\n",
      "Total params: 1,917,777\n",
      "Trainable params: 1,917,777\n",
      "Non-trainable params: 0\n",
      "_________________________________________________________________\n"
     ]
    }
   ],
   "source": [
    "model.summary()"
   ]
  },
  {
   "cell_type": "code",
   "execution_count": 39,
   "metadata": {},
   "outputs": [
    {
     "name": "stdout",
     "output_type": "stream",
     "text": [
      "Epoch 1/50\n"
     ]
    },
    {
     "name": "stderr",
     "output_type": "stream",
     "text": [
      "2022-06-09 23:53:18.960671: W tensorflow/core/platform/profile_utils/cpu_utils.cc:128] Failed to get CPU frequency: 0 Hz\n",
      "2022-06-09 23:53:20.484646: I tensorflow/core/grappler/optimizers/custom_graph_optimizer_registry.cc:113] Plugin optimizer for device_type GPU is enabled.\n",
      "2022-06-09 23:53:20.698435: I tensorflow/core/grappler/optimizers/custom_graph_optimizer_registry.cc:113] Plugin optimizer for device_type GPU is enabled.\n",
      "2022-06-09 23:53:20.859383: I tensorflow/core/grappler/optimizers/custom_graph_optimizer_registry.cc:113] Plugin optimizer for device_type GPU is enabled.\n"
     ]
    },
    {
     "name": "stdout",
     "output_type": "stream",
     "text": [
      "808/808 [==============================] - ETA: 0s - loss: 0.6653 - acc: 0.6031"
     ]
    },
    {
     "name": "stderr",
     "output_type": "stream",
     "text": [
      "2022-06-09 23:53:41.042454: I tensorflow/core/grappler/optimizers/custom_graph_optimizer_registry.cc:113] Plugin optimizer for device_type GPU is enabled.\n",
      "2022-06-09 23:53:41.110652: I tensorflow/core/grappler/optimizers/custom_graph_optimizer_registry.cc:113] Plugin optimizer for device_type GPU is enabled.\n"
     ]
    },
    {
     "name": "stdout",
     "output_type": "stream",
     "text": [
      "\n",
      "Epoch 1: val_acc improved from -inf to 0.51943, saving model to best_model.h5\n",
      "808/808 [==============================] - 25s 28ms/step - loss: 0.6653 - acc: 0.6031 - val_loss: 0.7181 - val_acc: 0.5194\n",
      "Epoch 2/50\n",
      "808/808 [==============================] - ETA: 0s - loss: 0.6071 - acc: 0.6719\n",
      "Epoch 2: val_acc did not improve from 0.51943\n",
      "808/808 [==============================] - 36s 44ms/step - loss: 0.6071 - acc: 0.6719 - val_loss: 0.7670 - val_acc: 0.5146\n",
      "Epoch 3/50\n",
      "807/808 [============================>.] - ETA: 0s - loss: 0.5626 - acc: 0.7102\n",
      "Epoch 3: val_acc did not improve from 0.51943\n",
      "808/808 [==============================] - 30s 37ms/step - loss: 0.5626 - acc: 0.7102 - val_loss: 0.7655 - val_acc: 0.5145\n",
      "Epoch 4/50\n",
      "808/808 [==============================] - ETA: 0s - loss: 0.5222 - acc: 0.7410\n",
      "Epoch 4: val_acc did not improve from 0.51943\n",
      "808/808 [==============================] - 24s 29ms/step - loss: 0.5222 - acc: 0.7410 - val_loss: 0.8083 - val_acc: 0.5111\n",
      "Epoch 5/50\n",
      "807/808 [============================>.] - ETA: 0s - loss: 0.4794 - acc: 0.7704\n",
      "Epoch 5: val_acc did not improve from 0.51943\n",
      "808/808 [==============================] - 22s 28ms/step - loss: 0.4794 - acc: 0.7704 - val_loss: 0.8550 - val_acc: 0.5035\n",
      "Epoch 5: early stopping\n"
     ]
    }
   ],
   "source": [
    "model.compile(optimizer='rmsprop', loss='binary_crossentropy', metrics=['acc'])\n",
    "history = model.fit(train, label_train, epochs=50, callbacks=[es, mc], batch_size=64, validation_split=0.2)"
   ]
  },
  {
   "cell_type": "code",
   "execution_count": 40,
   "metadata": {},
   "outputs": [],
   "source": [
    "model.save('best_model_with_kospi_up_down.h5')"
   ]
  },
  {
   "cell_type": "code",
   "execution_count": 41,
   "metadata": {},
   "outputs": [
    {
     "name": "stdout",
     "output_type": "stream",
     "text": [
      "1252/1252 [==============================] - 12s 10ms/step - loss: 0.8749 - acc: 0.4910\n",
      "정확도 : 0.4910\n"
     ]
    }
   ],
   "source": [
    "print(\"정확도 : %.4f\" % (model.evaluate(test, label_test)[1]))"
   ]
  },
  {
   "cell_type": "code",
   "execution_count": 42,
   "metadata": {},
   "outputs": [
    {
     "data": {
      "image/png": "[encoded data removed]",
      "text/plain": [
       "<Figure size 432x288 with 1 Axes>"
      ]
     },
     "metadata": {
      "needs_background": "light"
     },
     "output_type": "display_data"
    }
   ],
   "source": [
    "y_vloss = history.history['val_loss']\n",
    "y_loss = history.history['loss']\n",
    "\n",
    "x_len = np.arange(len(y_loss))\n",
    "\n",
    "plt.plot(x_len, y_vloss, marker='.', c='red', label='val_set_loss')\n",
    "plt.plot(x_len, y_loss, marker='.', c='blue', label='train_set_loss')\n",
    "plt.legend()\n",
    "plt.xlabel('epochs')\n",
    "plt.ylabel('loss')\n",
    "plt.grid()\n",
    "# plt.savefig('LSTM_loss_1112.png')"
   ]
  },
  {
   "cell_type": "code",
   "execution_count": 43,
   "metadata": {},
   "outputs": [],
   "source": [
    "def sentiment_predict(new_sentence):\n",
    "    new_sentence = re.sub(r'[^ㄱ-ㅎㅏ-ㅣ가-힣 ]','', new_sentence)\n",
    "    new_sentence = han.morphs(new_sentence) # 토큰화\n",
    "    new_sentence = [word for word in new_sentence if not word in stopwords] # 불용어 제거\n",
    "    encoded = tokenizer.texts_to_sequences([new_sentence]) # 정수 인코딩\n",
    "    pad_new = pad_sequences(encoded, maxlen = max_len) # 패딩\n",
    "    score = float(model.predict(pad_new)) # 예측\n",
    "    if(score > 0.5):\n",
    "        print(\"{:.2f}% 확률로 긍정적입니다.\\n\".format(score * 100))\n",
    "    else:\n",
    "        print(\"{:.2f}% 확률로 부정적입니다.\\n\".format((1 - score) * 100))"
   ]
  },
  {
   "cell_type": "code",
   "execution_count": 44,
   "metadata": {},
   "outputs": [
    {
     "name": "stdout",
     "output_type": "stream",
     "text": [
      "57.24% 확률로 긍정적입니다.\n",
      "\n"
     ]
    },
    {
     "name": "stderr",
     "output_type": "stream",
     "text": [
      "2022-06-09 23:55:47.730530: I tensorflow/core/grappler/optimizers/custom_graph_optimizer_registry.cc:113] Plugin optimizer for device_type GPU is enabled.\n",
      "2022-06-09 23:55:47.786176: I tensorflow/core/grappler/optimizers/custom_graph_optimizer_registry.cc:113] Plugin optimizer for device_type GPU is enabled.\n"
     ]
    }
   ],
   "source": [
    "sentiment_predict(\"정말 재미있어요\")"
   ]
  },
  {
   "cell_type": "code",
   "execution_count": 45,
   "metadata": {},
   "outputs": [],
   "source": [
    "okt = Hannanum()"
   ]
  },
  {
   "cell_type": "code",
   "execution_count": 46,
   "metadata": {},
   "outputs": [],
   "source": [
    "from konlpy.tag import Mecab"
   ]
  },
  {
   "cell_type": "markdown",
   "metadata": {},
   "source": [
    "'-d /usr/local/lib/mecab/dic/mecab-ko-dic'"
   ]
  },
  {
   "cell_type": "code",
   "execution_count": 47,
   "metadata": {},
   "outputs": [],
   "source": [
    "mcb = Mecab()\n",
    "text = \"안녕하세요 제 이름은 이선우 입니다.\"\n"
   ]
  },
  {
   "cell_type": "code",
   "execution_count": 48,
   "metadata": {},
   "outputs": [
    {
     "data": {
      "text/plain": [
       "[['안녕/NNG', '하/XSV', '세요/EP+EF'],\n",
       " ['제/NP'],\n",
       " ['이름/NNG', '은/JX'],\n",
       " ['이선우/NNP'],\n",
       " ['입니다/VCP+EF', './SF']]"
      ]
     },
     "execution_count": 48,
     "metadata": {},
     "output_type": "execute_result"
    }
   ],
   "source": [
    "mcb.pos(text, flatten=False, join=True)"
   ]
  },
  {
   "cell_type": "code",
   "execution_count": 49,
   "metadata": {},
   "outputs": [
    {
     "data": {
      "text/plain": [
       "['안녕', '하', '세요', '제', '이름', '은', '이선우', '입니다', '.']"
      ]
     },
     "execution_count": 49,
     "metadata": {},
     "output_type": "execute_result"
    }
   ],
   "source": [
    "mcb.morphs(text)"
   ]
  },
  {
   "cell_type": "code",
   "execution_count": 50,
   "metadata": {},
   "outputs": [],
   "source": [
    "import requests\n",
    "import matplotlib.pyplot as plt\n",
    "from matplotlib import rc\n",
    "import pandas as pd\n",
    "import re\n",
    "import datetime \n",
    "from konlpy.tag import Hannanum\n",
    "from config import * # config안의 정보 가져오기"
   ]
  },
  {
   "cell_type": "code",
   "execution_count": 51,
   "metadata": {},
   "outputs": [],
   "source": [
    "def get_today_stock_news_data_list (ticker_name):\n",
    "\n",
    "    #start_time = datetime.datetime.today().strftime(\"%Y-%m-%dT00:00:00\")\n",
    "    #end_time = datetime.datetime.today().strftime(\"%Y-%m-%dT23:59:59\") 이건 오늘 날짜로 따질때 이야기\n",
    "\n",
    "    start_time = \"2022-04-05T00:00:00\"\n",
    "    end_time = \"2022-04-05T23:59:59\"\n",
    "\n",
    "\n",
    "    headers = {\n",
    "    'Content-Type': 'application/json'\n",
    "    }\n",
    "\n",
    "    url = f\"{ELASTIC_SEARCH_URL}/news/_count\"\n",
    "\n",
    "    query=f'''{{\n",
    "    \"query\": {{\n",
    "      \"bool\": {{\n",
    "        \"must\": [\n",
    "          {{\n",
    "            \"match\": {{\n",
    "              \"body\": \"{ticker_name}\"\n",
    "            }}\n",
    "          }},\n",
    "          {{\n",
    "            \"range\": {{\n",
    "              \"created_at\": {{\n",
    "               \"gte\": \"{start_time}\",\n",
    "               \"lte\": \"{end_time}\"\n",
    "              }}\n",
    "            }}\n",
    "          }}\n",
    "        ]\n",
    "      }}\n",
    "    }}\n",
    "    }}'''\n",
    "\n",
    "    count = int(requests.get(url, data=query.encode('utf-8'), headers=headers, auth = ELASTIC_SEARCH_AUTH).json()['count'])\n",
    "\n",
    "    if count != 0:\n",
    "\n",
    "      url = f\"{ELASTIC_SEARCH_URL}/news/_search\"\n",
    "\n",
    "      query=f'''{{\n",
    "      \"size\": {count},\n",
    "      \"query\": {{\n",
    "        \"bool\": {{\n",
    "          \"must\": [\n",
    "            {{\n",
    "              \"match\": {{\n",
    "                \"body\": \"{ticker_name}\"\n",
    "              }}\n",
    "            }},\n",
    "            {{\n",
    "              \"range\": {{\n",
    "                \"created_at\": {{\n",
    "                \"gte\": \"{start_time}\",\n",
    "                \"lte\": \"{end_time}\"\n",
    "                }}\n",
    "              }}\n",
    "            }}\n",
    "          ]\n",
    "        }}\n",
    "      }}\n",
    "      }}'''  \n",
    "\n",
    "      resp = requests.get(url, data=query.encode('utf-8'), headers=headers, auth = ELASTIC_SEARCH_AUTH).json()\n",
    "\n",
    "      resp = resp['hits']['hits']\n",
    "    \n",
    "    else:\n",
    "\n",
    "      resp = []\n",
    "\n",
    "\n",
    "    return resp\n",
    "\n",
    "def clean_doc (doc):\n",
    "    \n",
    "    doc = re.sub(r'[^\\wㄱ-ㅎ가-힣]', ' ', doc)\n",
    "    doc = re.sub('  ', ' ', doc)\n",
    "    doc = re.sub('  ', ' ', doc)\n",
    "\n",
    "    return doc\n",
    "\n",
    "def title_extract(doc):\n",
    "    \n",
    "    return doc['_source']['title']\n",
    "    \n",
    "def body_extract (doc):\n",
    "\n",
    "    return doc['_source']['body']"
   ]
  },
  {
   "cell_type": "code",
   "execution_count": 52,
   "metadata": {},
   "outputs": [],
   "source": [
    "stock1_doc_list = get_today_stock_news_data_list(\"삼성전자\")\n",
    "title_list = [title_extract(x) for x in stock1_doc_list]\n",
    "\n",
    "title_list[0:5]\n",
    "body_list = []\n",
    "\n",
    "for i in stock1_doc_list[0:10]:\n",
    "    a = body_extract(i)\n",
    "    a = clean_doc(a)\n",
    "    body_list.append(a)"
   ]
  },
  {
   "cell_type": "code",
   "execution_count": 53,
   "metadata": {},
   "outputs": [
    {
     "name": "stdout",
     "output_type": "stream",
     "text": [
      "\n",
      "\n",
      "57.88% 확률로 부정적입니다.\n",
      "\n",
      " 반도체 수퍼사이클 장기 상승장 이라고 해서 샀는데 계속 물타다가 대주주 되겠어요 이번에 실적 발표를 보고 추매와 손절 중에 선택하려고요 50대 투자자 이모씨 오는 7일 삼성전자의 1분기 1 3월 실적 발표일을 앞두고 500만 삼성전자 소액 주주들이 초긴장 모드다 삼성전자 주가가 5일 6만9200원까지 주저앉은 가운데 1분기 실적 발표를 보면서 향후 투자의 방향을 결정하려는 것이다 이날 한국거래소에 따르면 올해 개인 투자자들은 삼성전자 주식을 6조5000억원 어치 사모았다 삼성전자 우선주까지 합하면 7조원이 넘는다 같은 기간 연기금 등 기관은 삼성전자 주식을 5조원 넘게 팔아 치웠고 외국인도 1조원 넘게 순매도했다 개인들은 삼성전자 주가가 6만원대로 떨어진 3월에만 3조8000억원 어치 순매수했다 나머지 2 10위 종목들의 순매수 금액을 다 합해도 삼성전자 한 종목에 미치지 못한다 그래픽 이연주 조선디자인랩 기자 개인 투자자들이 주목하고 있는 삼성전자의 1분기 실적 전망은 어떨까 이달 초 금융정보업체 에프앤가이드가 집계한 자료에 따르면 삼성전자 1분기 실적에 대한 증권사 전망치 컨센서스 는 매출액 75조823억원 영업이익은 13조283억원이다 증권가 예상이 맞다면 삼성전자는 1분기 기준으로 매출 70조원 시대를 처음 열게 된다 1분기 호실적 발표가 예상되고 있지만 주가 흐름은 영 신통치 않다 지난 4일 삼성전자 종가는 6만9300원 올해 들어서만 12 하락했다 작년 초만 해도 반도체 수퍼사이클 전망이 나오면서 주가는 9만원을 돌파해 10만원 턱밑까지 올랐지만 1년여 만에 6만원대로 밀려 버렸다 편득현 NH투자증권 WM마스터즈 전문위원은 삼성전자는 한국 증시에 대한 비중을 낮추는 연기금과 외국인들의 집중 타깃이 되고 있다 면서 올해 실적 개선폭이 전년 대비 크지 않다는 이유로 매도세가 이어지는 모습 이라고 말했다 편 위원은 이어 하지만 환율 효과로 실적이 예상보다 더 좋게 나올 수 있고 두 매매 주체가 연일 큰 규모로 매도해도 주가가 크게 빠지지 않는다는 점에서 향후 주가 반등 시점에는 큰 탄력을 기대할 수 있다 고 말했다 오랜 주가 횡보에 인내심이 바닥난 개인들은 이탈 조짐을 보이고 있다 작년 말 삼성전자 소액 주주 수는 506만6351명으로 전 분기 대비 2 4 감소했다 삼성전자의 소액주주 수가 전 분기 대비 감소한 것은 지난 2019년 4분기 이후 처음이다 주식 투자 경험이 길지 않은 개인 투자자들은 삼성전자 주식이 대표 주식이라고 해서 사긴 샀는데 다른 테마주처럼 급등하지 않으니까 재미도 없고 속이 터져서 바로 빼게 된다 고 말한다 심영철 웰시안닷컴 대표는 한국 투자자들은 지나치게 단기 투자에만 치중한다 면서 1주일만 주가가 안 올라도 지루하다며 바로 팔아버리는데 삼성전자는 장롱 속에 넣어두겠다는 생각으로 인내심 있게 매수해야 한다 고 조언했다 실제로 돌부처와 같은 인내심과 평정심으로 삼성전자 주식을 사모아 큰 수익을 거두고 있는 투자자가 삼성전자 주주 중에 있다 바로 삼성전자의 3대 주주인 블랙록 이다 2대 주주는 국민연금 블랙록은 10조달러 약 1경2115조원 를 굴리는 전세계 최대 자산운용사다 장기 투자 목적으로 저평가된 대형주를 주로 사들이는 롱텀펀드 로 알려져 있다 블랙록은 지난 2019년 1월 삼성전자 지분 5 03 3억39만1061주 를 보유하고 있다고 공시하면서 주요 주주로 이름을 알렸다 세계 최대 자산운용사인 블랙록은 지난 2019년 1월 삼성전자 3대 주주 자리에 올라섰다 금융감독원 그렇다면 과연 블랙록은 삼성전자를 매수한 이후 계좌 잔고를 얼마나 불렸을까 왕개미연구소가 4일 삼성전자 종가를 기준으로 삼성증권에 의뢰해 계산해 봤다 그랬더니 깜짝 놀랄 만한 결과가 나왔다 지난 2019년 1월 공시일 종가 4만4750원 기준으로 블랙록의 삼성전자 보유지분 평가액은 13조4425억원이었다 2022년 4월 4일의 보유지분 평가액은 20조8471억원으로 3년여 동안 7조4046억원이 늘었다 이뿐만이 아니다 블랙록은 삼성전자 주식을 산 이후 팔지도 않고 더 사지도 않았는데 그 동안 13번의 배당을 받았다 2020년 말에 나온 특별배당까지 포함해 블랙록이 받아간 배당금은 자그마치 1조8780억원에 달한다 블랙록은 삼성전자 주식을 사놓고 아무 것도 하지 않고 그저 계좌에 3년여 기간 주식을 보유한 것만으로 배당금을 포함해 자산을 약 9조2826억원 늘렸다 전세계 최대 운용사인 블랙록의 핑크 CEO는 지난 달 보낸 주주 서한에서 러시아의 우크라이나 침공을 계기로 진영을 넘나드는 자유로운 거래 대신 관계 중단 같은 대립이 심화하고 있다 고 진단했다 블랙록 삼성전자 장기 보유로 큰 수익을 거뒀으니 블랙록이 요즘처럼 삼성전자 주가가 빠졌을 때 추가 매수를 해주면 좋겠는데 안타깝게도 블랙록 최고경영자 CEO 인 래리 핑크의 최근 발언을 보면 그럴 것 같진 않다 핑크 CEO는 지난 달 24일 보낸 주주 서한 letter to shareholders 에서 러시아 우크라이나 전쟁은 냉전 이후 유지되던 세계 질서를 뒤엎었다 upended 면서 주권 국가에 대한 공격은 거의 80년간 유럽에서 볼 수 없었던 일 이라고 말했다 그는 이어 러시아의 우크라이나 침공은 지난 30년간 우리가 경험해 온 세계화 globalization 에 종지부를 찍었다 면서 다른 나라에 대한 경제 의존도를 재평가하는 과정 속에 정부와 기업들은 제조 공장을 자국이나 인근 국가로 옮길 것 이라고 예상했다 글로벌 기업이 세계 각국에서 사업을 철수 pull back 하는 속도가 그만큼 빨라질 수 있다는 뜻이다 핑크 CEO는 제조 허브 로 부상해 새롭게 수혜를 볼 만한 국가로 미국 멕시코 브라질 동남아시아 등을 꼽았다 한국은 그가 언급한 국가 리스트에 없었다 \n",
      "\n",
      "\n",
      "90.47% 확률로 긍정적입니다.\n",
      "\n",
      "삼성전자 지분 0 25 JP모건 보유 공시 삼성家 상속세 마련 위해 지분 매각 JP모건체이스그룹이 고 故 이건희 삼성그룹 회장의 부인인 홍라희 전 리움미술관장이 상속세 납부 재원을 위해 매각한 삼성전자 지분을 매입한 것으로 나타났다 5일 삼성전자에 따르면 JP모건체이스그룹이 영국에 설립한 투자은행 JP모건시큐리티즈PLC는 특수관계자와 함께 지난달 29일 기준 삼성전자 지분 0 25 1천720만7천11주 를 보유하고 있다 JP모건시큐리티즈PLC는 삼성전자 지분 보유목적을 단순투자 라고 밝혔다 삼성 홍라희 리움 전 관장 사진 삼성 JP모건시큐리티즈PLC는 지난달 28일 1천731만7천330주를 처음 보유하게 됐으며 이후 일부 매각해 1천685만355주를 갖고 있다 특수관계자인 JP모건GT코퍼레이션은 35만주를 갖고 있으며 JP모건시큐리티즈LLC와 JP모건체이스뱅크도 각각 6천851주 775주를 보유했다 JP모건시큐리티즈PLC의 삼성전자 지분은 지난달 홍라희 전 관장이 매각한 것으로 보인다 앞서 KB국민은행은 지난달 24일 1조3천억원에 달하는 삼성전자 주식 1천994만1천860주를 기관투자자를 상대로 시간 외 대량매매 블록딜 했다 삼성 오너 일가는 2020년 10월 이건희 삼성전자 회장 별세로 인한 상속세를 납부하기 위해 잇따라 주식 처분에 나섰다 상속세 분할 납부는 이달 29일부터 시작된다 앞서 지난달 22일 이부진 호텔신라 사장과 이서현 삼성복지재단 이사장도 각각 삼성SDS 지분 301만8천860주 3 9 를 블록딜로 처분해 1천900여억원을 확보했다 업계 관계자는 상속세 납부를 위해 삼성 오너가가 지분을 매각하는 것으로 알고 있다 며 추가 매도 가능성도 있다 고 말했다 \n",
      "\n",
      "\n",
      "75.21% 확률로 긍정적입니다.\n",
      "\n",
      "모니터 교체 어린이집 신축 교육과정 확대 등 삼성전자 임직원 요청에 직접 답변 한종희 삼성전자 디바이스경험 DX 사업부문장 부회장 이 연일 임직원들과 적극적인 소통에 나서 주목 받고 있다 5일 삼성전자에 따르면 한 부회장은 전날 오후 임직원들에게 안녕하십니까 JH입니다 란 제목의 이메일을 보냈다 JH 는 한 부회장이 지난 1일 삼성전자 수원 본사에서 진행된 타운홀 미팅에서 언급한 자신의 호칭이다 한종희 삼성전자 DX부문장 부회장 사진 삼성전자 한 부회장이 이메일을 보낸 것은 타운홀 미팅 당시 임직원들이 건의한 내용에 대해 직접 답변하기 위해서다 당시 임직원들은 보행 중 휴대전화 사용 금지와 사내 어린이집 입소 대기 사내 외국어 교육 확대 등을 건의한 바 있다 삼성전자 관계자는 한 부회장이 사내 이메일로 소통에 나선 것은 작년 연말 부회장이 되고 나서 처음 이라며 정기적은 아니지만 타운홀 미팅 소규모 간담회 등 여러 소통 활동에 나설 것이라는 내용도 담겨 있다 고 말했다 한 부회장은 이메일을 통해 사업부별 직무별로 다른 업무용 모니터 종류를 표준화하겠다고 약속했다 또 최근 5분 만에 신청이 마감될 정도로 인기 있는 사내 외국어 교육 프로그램 기회도 확대하겠다고 강조했다 각 사업장마다 실내체육관 광주 다목적홀 구미 어린이집 수원 등 편의시설을 추가 신축하겠다는 내용도 포함됐다 삼성전자가 자체적으로 시행 중인 사내 휴대전화 사용 금지 조항을 개선하겠다는 내용도 담겼다 사내 위험지역을 제외한 일반적인 곳에서는 허용하겠다는 방침이다 한 부회장은 우리 회사를 한 마디로 표현하라고 하면 변화하는 회사 사람을 중시하는 회사 라고 대답할 것 이라며 임직원 역량과 열정을 한 방향으로 모으고 마음껏 발산할 수 있도록 저를 포함한 경영진들이 함께 노력하겠다 고 강조했다 \n",
      "\n",
      "\n",
      "90.37% 확률로 긍정적입니다.\n",
      "\n",
      "한종희 삼성전자 대표이사 부회장 DX부문장 이 지난달 16일 오전 경기도 수원컨벤션센터에서 열린 제53기 삼성전자 정기주주총회에서 인사말을 하고 있다 연합뉴스 한종희 삼성전자 디바이스경험 DX 사업부문장 부회장 이 이메일로 임직원과의 소통에 나섰다 5일 삼성전자에 따르면 한 부회장은 전날 오후 안녕하십니까 JH 입니다 라는 제목의 이메일을 보냈다 JH 는 한 부회장이 타운홀 미팅에서 언급한 자신의 호칭이다 해당 이메일에는 삼성전자 임직원들이 업무환경과 관련해 질문한 내용에 대한 답변이 담겼다 한 부회장은 소통 확대 업무 몰입과 생산성 향상 글로벌 역량과 성장 지원 안전하고 건강한 사업장 확립 사업장 복지 인프라 개선과 관련한 다양한 의제에 대해 직접 의견을 밝혔다 한 부회장은 구체적으로 사업부별 직무별로 다른 업무용 모니터 종류를 표준화하고 최근 5분 만에 신청이 마감될 정도로 인기 있는 사내 외국어 교육 프로그램 기회를 확대하겠다고 했다 또한 사업장마다 체육관 광주 다목적홀 구미 어린이집 수원 등 편의시설을 추가 신축하겠다고 언급했다 한 부회장은 우리 회사를 한 마디로 표현하면 변화하는 회사 사람을 중시하는 회사 라고 대답할 것 이라며 임직원 역량과 열정을 한 방향으로 모으고 마음껏 발산할 수 있도록 저를 포함한 경영진들이 함께 노력하겠다 고 강조했다 삼성전자 관계자는 한 부회장이 사내 이메일로 소통에 나선 건 DX 부문장이 되고 나서 처음 이라며 타운홀 미팅뿐 아니라 소규모 간담회 등 여러 소통 활동에도 나설 것이라는 내용도 담겼다 고 말했다 \n",
      "\n",
      "\n",
      "89.69% 확률로 긍정적입니다.\n",
      "\n",
      " 사진 뉴스1 삼성전자 한종희 디바이스경험 DX 사업부문장 부회장 이 사내 구성원들에게 e메일을 보내 수평적 소통을 강조하며 앞으로도 적극 소통에 나서겠다고 말했다 5일 삼성전자에 따르면 한 부회장은 지난 4일 저녁 삼성전자 임직원들에게 업무환경 건의사항에 대한 답변이 담긴 e메일을 보냈다 이 e메일은 보행 중 휴대전화 사용 금지 사내 어린이집 입소 대기와 사내 외국어 교육 확대 등과 관련된 임직원들의 건의사항에 대해 한 부회장이 직접 답변하는 내용이다 한 부회장은 이 e메일에서 DX부문장 JH 영문 이니셜 가 몇가지 약속을 드리겠다 라며 이 메시지를 시작으로 여러분과의 소통을 꾸준히 하겠다 라고 말했다 한 부회장은 지난 1일 삼성전자 수원 본사에서 타운홀 미팅 DX 커넥트 에 참석해 부회장님 대신 JH로 불러달라 고 제안했다 MZ세대 등 젊은 임직원들은 한 부회장의 수평적 소통에 대해 긍정적인 반응을 보이는 것으로 알려졌다 한 부회장이 보낸 e메일에는 사업별 직무별로 업무용 모니터 종류 교체주기가 모두 다르다 사내 외국어 교육 인기가 너무 치열해 신청이 어렵다 수원 사업장의 만 1 2세 어린이집 입소 대기가 너무 길다 등 임직원들의 다양한 건의사항이 포함됐다 한 부회장은 이에 대해 모니터 지원 기준 표준화와 외국어 교육과정 확대 어린이집 신축 등을 약속했다 삼성전자가 자체적으로 시행 중인 사내 휴대전화 사용 금지 조항을 개선하겠다는 내용도 담겼다 삼성전자 관계자는 보행 중 휴대전화로 영상을 시청하거나 문자를 보내는 등의 행위가 위험한 것은 맞지만 통화 제한까지는 과도하다는 임직원 건의사항이 나왔다 라며 사내 위험지역을 제외한 일반적인 곳에서는 허용하겠다는 취지 라고 말했다 한 부회장은 이후에도 타운홀 미팅과 토의 소규모 간담회와 e메일 등 여러 방식을 통해 임직원들과 적극 소통하겠다고 약속했다 한 부회장은 e메일에서 사람을 중시하는 삼성전자 임직원들의 역량을 한 방향으로 모을 수 있도록 경영진이 노력하겠다 라고 말했다 \n",
      "\n",
      "\n",
      "77.36% 확률로 부정적입니다.\n",
      "\n",
      "핵심요약 한종희 부회장은 이 이메일에서 DX부문장 JH가 몇가지 약속을 드리겠다 며 오늘 이 메시지를 시작으로 여러분과의 소통을 꾸준히 하겠다 고 말했다 삼성전자 제공 삼성전자 디바이스경험 DX 사업부문장인 한종희 부회장이 사내 구성원들에게 안녕하십니까 JH입니다 로 시작하는 이메일을 보내 적극 소통에 나서겠다고 말했다 5일 삼성전자에 따르면 한 부회장은 전날 저녁 삼성전자 임직원들에게 업무환경 관련 건의사항에 대한 답변이 담긴 이메일을 보냈다 한 부회장은 이 이메일에서 DX부문장 JH가 몇가지 약속을 드리겠다 며 오늘 이 메시지를 시작으로 여러분과의 소통을 꾸준히 하겠다 고 말했다 앞서 한 부회장은 지난 1일 삼성전자 수원 본사에서 타운홀 미팅 DX 커넥트 를 열고 앞으로 부회장님 대신 JH로 불러 달라 고 제안했다 한 부회장은 이메일에서 업무용 모니터 교체와 사내 어린이집 입소 대기 외국어 교육 확대 보행 중 휴대전화 사용 금지 등과 관련된 임직원들의 건의사항에 직접 답변하며 개선을 약속했다 한 부회장은 우선 업무용 모니터 종류 교체주기 등이 사업별 직무별로 모두 달랐다 며 우선적으로 모니터부터 지원 기준을 표준화해 모든 임직원의 업무 생산성을 높이겠다 고 말했다 또 수원 사업장은 만 1 2세 어린이집 입소 대기가 많다고 들었다 영아반 전용 어린이집을 신축하겠다 전화 외국어 신청이 5분 만에 마감될 정도로 인기 있다고 들었는데 교육과정을 대폭 확대하겠다 는 등의 약속도 했다 삼성전자의 사업장 안전 규칙 중 보행 중 통화 규제 관련 건의사항에 대해서는 위험지역을 제외하고 일반적인 곳에서는 허용하겠다는 방침도 밝혔다 한 부회장은 앞으로도 타운홀 미팅과 특정 주제에 대한 토의 소규모 간담회 등 다양한 방식으로 소통을 지속할 것이라고 약속했다 한 부회장은 사람을 중시하는 삼성전자 임직원들의 역량을 한 방향으로 모을 수 있도록 경영진이 노력하겠다 고 말했다 CBS노컷뉴스는 여러분의 제보로 함께 세상을 바꿉니다 각종 비리와 부당대우 사건사고와 미담 등 모든 얘깃거리를 알려주세요 이메일 jebo cbs co kr 카카오톡 노컷뉴스\n",
      "\n",
      "\n",
      "62.18% 확률로 긍정적입니다.\n",
      "\n",
      "블록딜 통해 매입한 뒤 거래 다수 이어가 앞서 안랩 단타 통해서는 100억대 차익 사진 한경DB JP모간이 고 故 이건희 삼성그룹 회장의 부인인 홍라희 전 리움미술관장으로부터 블록딜을 통해 1조원치가 넘는 지분을 매입한 것으로 나타났다 7만원 이하로 떨어진 삼성전자 주가를 두고 바닥 을 쳤다고 판단했다는 분석이다 다만 지분 취득이후 1900건이 넘는 거래를 이어가면서 장기 보유보다는 단타 목적이 아니냐는 해석도 나온다 5일 삼성전자의 공시 등에 따르면 JP모간은 지난달 29일 기준 삼성전자 지분을 0 25 1720만7천11주 를 보유하고 있다 JP모건시큐리티즈PLC는 삼성전자 지분 보유목적을 단순투자 라고 밝혔다 다만 JP모건은 이후 장내 매수와 매도를 거듭하고 있는 것으로 나타났다 28 29일 사이 거래횟수만 1900건이 넘는다 이 때문에 JP모간이 단타를 목적으로 삼성전자 지분을 매입한 게 아니냐는 분석이 나오고 있다 앞서 JP모간은 안철수 대통령직인수위원장과 연관된 안랩을 통한 단타로 3일만에 100억원이 넘는 수익을 챙겼던 것으로 알려졌다 조호진 타키온 대표는 삼성전자의 주가가 한달만에 7만원 밑으로 내려가 저점이라고 판단한 JP모간이 약 1조원 가량의 돈을 투입했다고 볼 수도 있다 며 향후 1 2년을 가지고 가려고 매수한건지 안랩처럼 단타 목적인지 파악할 수는 없다 고 말했다 그는 원달러 환율이 1200원을 넘어선 상황인데 1200원 미만으로 떨어지는 경우 생기는 환차익을 노린 것으로도 보인다 고 했다 \n",
      "\n",
      "\n",
      "58.29% 확률로 부정적입니다.\n",
      "\n",
      "외인 기관 삼성전자 동반 순매도 지속 코스피지수가 외국인과 개인의 매수세에 힘입어 강보합 마감했다 5일 코스피는 전일 대비 1 30포인트 0 05 오른 2759 20으로 거래를 마쳤다 외국인이 118억원 개인이 2천385억원을 순매수했다 반면 기관은 2천476억원을 순매도했다 사진 조은수 기자 외국인은 카카오 네이버 LG에너지솔루션 등을 담고 LG이노텍 삼성전자우선주 삼성전자 등을 덜어냈다 기관은 LG에너지솔루션 삼성SDI 카카오 등을 사들이고 삼성전자 SK하이닉스 KB금융 등을 팔았다 대형주 중에서는 LG화학 LG에너지솔루션 삼성SDI 등 2차전지 관련주가 강세를 보였다 카카오 네이버 등 플랫폼주도 1 대로 상승 마감했다 반면 KB금융 신한지주 카카오뱅크 등 은행주는 1 2 대로 하락했다 SK하이닉스 삼성전자 삼성바이오로직스 등도 약세를 보였다 업종별로 종이목재 운수장비 서비스업 등은 오른 반면 은행 금융업 섬유의복 등은 내렸다 코스닥은 전일보다 5 15포인트 0 54 상승한 952 47로 장을 마감했다 외국인과 기관이 각각 527억원 183억원을 사들였다 개인은 652억원을 팔아치웠다 외국인은 에코프로 엘앤에프 에코프로비엠 등을 순매수하고 와이지엔터테인먼트 메지온 휴젤 등을 순매도했다 기관은 에코프로비엠 에코프로 동화기업 등을 담고 와이지엔터테인먼트 엘앤에프 동진쎄미켐 등을 덜어냈다 시가총액 상위종목 중 에코프로비엠이 6 이상 올랐고 에코프로도 12 이상 급등했다 위메이드 펄어비스 등이 1 2 대로 올랐고 천보 엘앤에프 등도 강보합으로 마감했다 반면 에스엠 CJ ENM JYP엔터 등 엔터 콘텐츠 관련 종목은 약세를 보였다 업종별로 종이목재 전기전자 인터넷 등은 상승한 반면 방송서비스 통신방송 오락 등은 하락했다 이날 서울 외환시장에서 원 달러 환율은 전일보다 1 7원 0 14 하락한 1천212 7원에 마감했다 \n",
      "\n",
      "\n",
      "59.91% 확률로 긍정적입니다.\n",
      "\n",
      " 반도체 인재 사수 초봉 14 성과급 최대 50 삼성전자급 직장인 평균 월급 사진 게티이미지뱅크 파운드리 반도체 수탁생산 기업 DB하이텍이 고연봉 기업 대열에 합류했다 삼성전자 SK하이닉스 등 반도체 업체들이 임금을 올리고 있다는 점을 감안해 보상체계를 개편했다는 분석이다 5일 업계에 따르면 DB하이텍은 최근 임직원 초임 연봉을 4200만원에서 4800만원으로 14 29 인상했다 성과급 상한선도 연봉의 50 로 올렸다 기존 상한선은 연봉의 33 였다 변경된 기준에 따르면 올해 신입사원은 최대 7200만원의 임금을 받을 수 있다 이번에 인상된 초임 연봉은 삼성전자와 비슷한 수준이다 지난해 삼성전자는 대졸 신입사원 초임을 4450만원에서 4800만원으로 인상했다 SK하이닉스는 대졸 초임이 5040만원으로 삼성전자 DB하이텍보다 240만원 많다 성과급 제도는 3사 모두 비슷하다 삼성전자는 연봉의 최대 50 를 지급한다 SK하이닉스는 이와 비슷한 규모로 기본급의 최대 1000 를 지급하고 있다 사진 DB하이텍 업계에서는 DB하이텍이 삼성전자 SK하이닉스로의 인력 유출을 막기 위해 임금을 올렸다고 설명한다 최근 반도체업계는 연봉 전쟁 이 치열하다 시장 수요에 비해 엔지니어의 공급이 부족한 상황이 이어지면서 경력자들을 중심으로 몸값이 뛰고 있다 DB하이텍이 삼성전자 SK하이닉스 수준으로 연봉을 올린 것은 파운드리 호황 덕이다 이 회사는 한때 누적적자가 3조원 부채가 2조3000억원에 달하는 부실기업이었다 주력 제품인 200 파운드리가 주목받기 시작한 7 8년 전부터 턴어라운드에 성공했다 코로나19로 시스템 반도체 품귀현상이 빚어졌던 지난해에는 1조2146억원의 매출과 3991억원의 영업이익을 냈다 1조원 이상의 매출을 올린 것은 지난해가 처음이다 \n",
      "\n",
      "\n",
      "75.21% 확률로 긍정적입니다.\n",
      "\n",
      " 안녕하십니까 JH입니다 라는 제목의 사내 이메일 보내 타운홀 미팅서 나온 건의사항 답변 직접 소통 늘리겠다 한종희 삼성전자 대표이사 부회장 DX부문장 이 16일 경기 수원 영통구 수원컨벤션센터에서 열린 제53기 삼성전자 정기주주총회에서 인사말을 하고 있다 2022 3 16 뉴스1 News1 김영운 기자 서울 뉴스1 노우리 기자 한종희 삼성전자 디바이스경험 DX 사업부문장 부회장 이 이번엔 이메일로 임직원과의 소통에 나섰다 5일 삼성전자에 따르면 한 부회장은 전날 오후 안녕하십니까 JH입니다 라는 제목의 이메일을 임직원에게 보냈다 JH 는 한 부회장이 타운홀 미팅에서 언급한 자신의 호칭이다 이메일은 타운홀 미팅에서 나온 건의 사항에 대한 답변으로 이뤄졌다 Δ소통 확대 Δ업무 몰입과 생산성 향상 Δ글로벌 역량과 성장 지원 Δ안전하고 건강한 사업장 확립 Δ사업장 복지 인프라 개선과 관련한 다양한 의제에 대해 한 부회장이 직접 의견을 밝힌 것이다 삼성전자 관계자는 한 부회장이 사내 이메일로 소통에 나선 건 DX 부문장이 되고 나서 처음 이라며 타운홀 미팅뿐 아니라 소규모 간담회 등 여러 소통 활동에도 나설 것이라는 내용도 담겼다 고 말했다 구체적으로는 사업부별 직무별로 다른 업무용 모니터 종류를 표준화하고 최근 5분 만에 신청이 마감될 정도로 인기 있는 사내 외국어 교육 프로그램 기회를 확대하겠다고 밝혔다 각 사업장마다 실내체육관 광주 다목적홀 구미 어린이집 수원 등 편의시설을 추가 신축하겠다는 약속도 포함된 것으로 전해진다 그러면서 한 부회장은 우리 회사를 한 마디로 표현하면 변화하는 회사 사람을 중시하는 회사 라고 대답할 것 이라며 임직원 역량과 열정을 한 방향으로 모으고 마음껏 발산할 수 있도록 저를 포함한 경영진들이 함께 노력하겠다 고 강조했다 \n",
      "\n",
      "\n",
      "53.40% 확률로 긍정적입니다.\n",
      "\n",
      "\n",
      "\n",
      "3년 전 산 삼성전자 지분이 지금은… 블랙록의 돌부처 투자법 [왕개미연구소]\n",
      "\n",
      "\n",
      "76.38% 확률로 긍정적입니다.\n",
      "\n",
      "\n",
      "\n",
      "상속세 때문에 홍라희가 판 삼성전자 지분, '이곳'이 가져갔다\n",
      "\n",
      "\n",
      "75.02% 확률로 긍정적입니다.\n",
      "\n",
      "\n",
      "\n",
      "임직원과 소통 나선 한종희, 부회장 된 후 첫 이메일 보낸 사연\n",
      "\n",
      "\n",
      "62.28% 확률로 긍정적입니다.\n",
      "\n",
      "\n",
      "\n",
      "'JH 입니다' 한종희 삼성 부회장, 임직원과 이메일 소통 나섰다\n",
      "\n",
      "\n",
      "61.79% 확률로 부정적입니다.\n",
      "\n",
      "\n",
      "\n",
      "삼성전자 부회장 'JH'의 소통…임직원 건의 직접 듣고 바꿨다\n",
      "\n",
      "\n",
      "68.28% 확률로 긍정적입니다.\n",
      "\n",
      "\n",
      "\n",
      "삼성 'JH' 한종희 부회장, 임직원에 이메일 보내 '소통 행보'\n",
      "\n",
      "\n",
      "64.26% 확률로 부정적입니다.\n",
      "\n",
      "\n",
      "\n",
      "JP모간, 홍라희 삼전 지분 매입뒤 1900건 넘게 거래…또 '단타'?\n",
      "\n",
      "\n",
      "73.56% 확률로 긍정적입니다.\n",
      "\n",
      "\n",
      "\n",
      "코스피, 강보합 마감…2760선 턱밑\n",
      "\n",
      "\n",
      "89.39% 확률로 부정적입니다.\n",
      "\n",
      "\n",
      "\n",
      "반도체 업계 또 놀라겠네…DB하이텍 파격 보상 \"신입 연봉 7200만원\"\n",
      "\n",
      "\n",
      "68.79% 확률로 긍정적입니다.\n",
      "\n",
      "\n",
      "\n",
      "삼성 한종희 부회장 '소통행보'…건의사항에 이메일로 화답\n"
     ]
    }
   ],
   "source": [
    "for i in body_list[0:10]:\n",
    "    print(\"\\n\")\n",
    "    sentiment_predict(i)\n",
    "    print(i)\n",
    "    \n",
    "for i in title_list[0:10]:\n",
    "    print(\"\\n\")\n",
    "    sentiment_predict(i)\n",
    "    print(\"\\n\")\n",
    "    print(i)"
   ]
  },
  {
   "cell_type": "code",
   "execution_count": 54,
   "metadata": {},
   "outputs": [
    {
     "ename": "NameError",
     "evalue": "name 'ret' is not defined",
     "output_type": "error",
     "traceback": [
      "\u001b[0;31m---------------------------------------------------------------------------\u001b[0m",
      "\u001b[0;31mNameError\u001b[0m                                 Traceback (most recent call last)",
      "\u001b[1;32m/Users/Sun/Documents/Github/Unstructrued_data_TP/News_word/News_words.ipynb Cell 55'\u001b[0m in \u001b[0;36m<cell line: 1>\u001b[0;34m()\u001b[0m\n\u001b[0;32m----> <a href='vscode-notebook-cell:/Users/Sun/Documents/Github/Unstructrued_data_TP/News_word/News_words.ipynb#ch0000054?line=0'>1</a>\u001b[0m ret\n",
      "\u001b[0;31mNameError\u001b[0m: name 'ret' is not defined"
     ]
    }
   ],
   "source": [
    "ret"
   ]
  },
  {
   "cell_type": "code",
   "execution_count": null,
   "metadata": {},
   "outputs": [
    {
     "name": "stdout",
     "output_type": "stream",
     "text": [
      "Collecting eunjeon\n",
      "  Using cached eunjeon-0.4.0.tar.gz (34.7 MB)\n",
      "Building wheels for collected packages: eunjeon\n",
      "  Building wheel for eunjeon (setup.py) ... \u001b[?25ldone\n",
      "\u001b[?25h  Created wheel for eunjeon: filename=eunjeon-0.4.0-cp38-cp38-macosx_11_0_arm64.whl size=34077890 sha256=59a34a966b11252002d060f27a87a6815908d3f7613ecbb6fece3252237a65cb\n",
      "  Stored in directory: /Users/Sun/Library/Caches/pip/wheels/4b/1d/e9/bfa4c18245fc292aaa650fe6dd982a4feddfaab49f3b8f9f25\n",
      "Successfully built eunjeon\n",
      "Installing collected packages: eunjeon\n",
      "Successfully installed eunjeon-0.4.0\n"
     ]
    }
   ],
   "source": [
    "!pip install eunjeon"
   ]
  },
  {
   "cell_type": "code",
   "execution_count": null,
   "metadata": {},
   "outputs": [
    {
     "ename": "ImportError",
     "evalue": "cannot import name 'MeCab' from 'eunjeon' (/opt/homebrew/Caskroom/miniforge/base/envs/NLP/lib/python3.8/site-packages/eunjeon/__init__.py)",
     "output_type": "error",
     "traceback": [
      "\u001b[0;31m---------------------------------------------------------------------------\u001b[0m",
      "\u001b[0;31mImportError\u001b[0m                               Traceback (most recent call last)",
      "\u001b[1;32m/Users/Sun/Documents/Github/text-data-anaylsis/News_word/News_words.ipynb Cell 11'\u001b[0m in \u001b[0;36m<cell line: 1>\u001b[0;34m()\u001b[0m\n\u001b[0;32m----> <a href='vscode-notebook-cell:/Users/Sun/Documents/Github/text-data-anaylsis/News_word/News_words.ipynb#ch0000009?line=0'>1</a>\u001b[0m \u001b[39mfrom\u001b[39;00m \u001b[39meunjeon\u001b[39;00m \u001b[39mimport\u001b[39;00m MeCab\n\u001b[1;32m      <a href='vscode-notebook-cell:/Users/Sun/Documents/Github/text-data-anaylsis/News_word/News_words.ipynb#ch0000009?line=2'>3</a>\u001b[0m m \u001b[39m=\u001b[39m MeCab()\n\u001b[1;32m      <a href='vscode-notebook-cell:/Users/Sun/Documents/Github/text-data-anaylsis/News_word/News_words.ipynb#ch0000009?line=4'>5</a>\u001b[0m m\u001b[39m.\u001b[39mpos(\u001b[39m\"\u001b[39m\u001b[39m안녕하세요 제 이름은 이선우 입니다.\u001b[39m\u001b[39m\"\u001b[39m)\n",
      "\u001b[0;31mImportError\u001b[0m: cannot import name 'MeCab' from 'eunjeon' (/opt/homebrew/Caskroom/miniforge/base/envs/NLP/lib/python3.8/site-packages/eunjeon/__init__.py)"
     ]
    }
   ],
   "source": [
    "from eunjeon import MeCab\n",
    "\n",
    "m = MeCab()\n",
    "\n",
    "m.pos(\"안녕하세요 제 이름은 이선우 입니다.\")"
   ]
  }
 ],
 "metadata": {
  "interpreter": {
   "hash": "d49957daa954e6bec9f177fc046718ee074770fab86eb9520507fb7fbdbef1cf"
  },
  "kernelspec": {
   "display_name": "Python 3.8.13 ('NLP')",
   "language": "python",
   "name": "python3"
  },
  "language_info": {
   "codemirror_mode": {
    "name": "ipython",
    "version": 3
   },
   "file_extension": ".py",
   "mimetype": "text/x-python",
   "name": "python",
   "nbconvert_exporter": "python",
   "pygments_lexer": "ipython3",
   "version": "3.8.13"
  },
  "orig_nbformat": 4
 },
 "nbformat": 4,
 "nbformat_minor": 2
}
